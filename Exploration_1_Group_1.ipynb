{
  "nbformat": 4,
  "nbformat_minor": 0,
  "metadata": {
    "colab": {
      "name": "Exploration 1 Group 1.ipynb",
      "provenance": [],
      "collapsed_sections": [],
      "include_colab_link": true
    },
    "kernelspec": {
      "display_name": "Python 3",
      "name": "python3"
    }
  },
  "cells": [
    {
      "cell_type": "markdown",
      "metadata": {
        "id": "view-in-github",
        "colab_type": "text"
      },
      "source": [
        "<a href=\"https://colab.research.google.com/github/YangLi-Elaina/Math-152/blob/main/Exploration_1_Group_1.ipynb\" target=\"_parent\"><img src=\"https://colab.research.google.com/assets/colab-badge.svg\" alt=\"Open In Colab\"/></a>"
      ]
    },
    {
      "cell_type": "markdown",
      "metadata": {
        "id": "k7cBdfcvMpQp"
      },
      "source": [
        "# Exploration 1 3n + 1\r\n",
        "### by Julie Yeh, David Bartlett, Jun Du, Bingrui Yan, Yang Li"
      ]
    },
    {
      "cell_type": "markdown",
      "metadata": {
        "id": "zexbhAjuIdVp"
      },
      "source": [
        "##Introduction"
      ]
    },
    {
      "cell_type": "markdown",
      "metadata": {
        "id": "LK5P65dUeGwD"
      },
      "source": [
        "The Collatz conjecture is a problem that has yet to be solved. It comes from \n",
        "the process of taking a given odd number and multiplying it by 3 and adding 1. Likewise, if you have an even number, it is divided by 2. The numbers go up and down, but eventually always output the cycle of numbers, 4, 2, 1. This sequential outcome has yet to be proven, despite being substantially showed and tested. In this project, we will explore the phenomenon of this conjecture through trial and error. Many claim that this conjecture is something current mathematics is not yet equipped to handle in terms of the development of a rigorous proof. Some mathematicians have referred to this conjecture as the Hailstone Problem because of its seemingly sporadic yet intertwined relationship like that of the formation of a hailstone prior to its fall to earth (Patrick Hanner, Quanta Magazine)."
      ]
    },
    {
      "cell_type": "markdown",
      "metadata": {
        "id": "zqemnLNNTTi-"
      },
      "source": [
        "##Brainstorming and Hypothesis"
      ]
    },
    {
      "cell_type": "markdown",
      "metadata": {
        "id": "X7J0U1TN8Cs1"
      },
      "source": [
        "Without direct knowledge of the conjecture’s outcome, our first instinct would be to look for any patterns throughout the algorithm. Let’s begin by manually solving this conjecture for a given number 7:\n",
        "\n",
        "7, 22, 11, 34, 17, 52, 26, 13, 40, 20, 10, 5, 16, 8, 4, 2, 1, **4, 2, 1,**....\n",
        "\n",
        "As suspected, the sequence eventually converges to the repetition of “4,2,1.” \n",
        "\n",
        "Let’s see if we can find any correlation between numbers and sequences by trying 9 \n",
        "\n",
        "9, 28, 14, 7, 22, 11, 34, 17, 52, 26, 13, 40, 20, 10, 5, 16, 8, **4, 2, 1**…\n",
        "\n",
        "This phenomena is shown to have intertwined sequences from which you can decipher other Collatz Conjecture sequences from any given sequence. \n",
        "\n",
        "It seems that the phenomenon doesn’t occur to only one kind of number (n)\n",
        "We have illustrated a bit of the reality for positive numbers under this conjecture, but let’s see what we get to see from negative numbers \n",
        "\n",
        "Applying the same algorithm to -7:\n",
        "\n",
        "-7, -20, -10, -5, -14, -7, -20, -10, -5, -14, -7, -20, -10, -5, -14, -7….\n",
        "\n",
        "Now for -9:\n",
        "\n",
        "-9, -26, -13, -38, -19, -56, -28, -14, -7, -20, -10, -5, -14, -7, -20, -10, -5, -14, -7, -20, -10, -5, -14, -7….\n",
        "\n",
        "We see that the same occurs in which these integers converge to the same repeating sequence. However, for negative numbers, we see the series does not converge to \"4,2,1\" or even \"-4,-2,-1.\" We still see an intertwined relationship with -7 and -9 as we did with 7 and 9.\n",
        "\n",
        "Therefore, with doing a manual calculation of the algorithm for positive and negative numbers, we hypothesize that for all integers excluding zero that there can be intertwined parts of code at any given part of the sequence. (Hypothesis particially correct, except not every sequence can be compared with one another.)\n",
        " \n",
        "\n"
      ]
    },
    {
      "cell_type": "markdown",
      "metadata": {
        "id": "qIJKcb2jIl4S"
      },
      "source": [
        "##Collatz Conjecture Python Code"
      ]
    },
    {
      "cell_type": "markdown",
      "metadata": {
        "id": "ESn-NesW-Eat"
      },
      "source": [
        "Below is code we developed to test all positve numbers with the Collatz Conjecture. The Python function uses a while loop to return the repeating sequence \"4,2,1.\" As suspected, the sequences converge to the cycle \"4,2,1.\" In the cases where we tried the numbers \"1000\" and \"1000000\" , we did not necessarily see any intertwined relationship with the sequence as we did when we ran 7 and 9. However, we do notice all of the numbers tested above gave \"40, 20, 10, 5, 16, 8\" prior to emitting the cycle \"4,2,1.\" Although this is not part of the convergent sequence, it does hold true for all numbers we've been able to test."
      ]
    },
    {
      "cell_type": "code",
      "metadata": {
        "id": "7An6ZjgnKWSk"
      },
      "source": [
        "'''\n",
        "This is the code for checking the conjecture works for all positive\n",
        "numbers up to a big number. This code will make the list of number end\n",
        "with \"4\" after a \"4, 2, 1\" cycle. Which can prove that all positive numbers\n",
        "in the range follows the Collatz Conjecture.\n",
        "'''\n",
        "def collatz_conjec(x): \n",
        "  a = []\n",
        "  if (x == 0):\n",
        "    raise TypeError(\"The number you input could not be ZERO(0)\")\n",
        "  while (a.count(x) <= 1):\n",
        "    if (x % 2 == 0):\n",
        "      x = x // 2 \n",
        "    else:\n",
        "      x = 3 * x + 1\n",
        "    a.append(x)\n",
        "  return print(a)\n",
        "for a in range(1,1000): #list all positive numbers up to 999. \n",
        "  collatz_conjec(a)      # Check for the \"4, 2, 1\" repeating.\n"
      ],
      "execution_count": null,
      "outputs": []
    },
    {
      "cell_type": "markdown",
      "metadata": {
        "id": "j1lPCHD_cmuN"
      },
      "source": [
        "We went through several trials to make sure the code is as effiecient as possible. Let's take a look at time and space."
      ]
    },
    {
      "cell_type": "code",
      "metadata": {
        "colab": {
          "base_uri": "https://localhost:8080/"
        },
        "id": "tflC2eJ-dH7S",
        "outputId": "97617385-3009-43ab-c1fd-3554bad2bf76"
      },
      "source": [
        "%timeit collatz_conjec"
      ],
      "execution_count": null,
      "outputs": [
        {
          "output_type": "stream",
          "text": [
            "100000000 loops, best of 3: 17.9 ns per loop\n"
          ],
          "name": "stdout"
        }
      ]
    },
    {
      "cell_type": "code",
      "metadata": {
        "id": "cjAzpx4zdrhc"
      },
      "source": [
        "from sys import getsizeof"
      ],
      "execution_count": null,
      "outputs": []
    },
    {
      "cell_type": "code",
      "metadata": {
        "colab": {
          "base_uri": "https://localhost:8080/"
        },
        "id": "gzbOVKQFdsOO",
        "outputId": "e4a9f27c-43eb-4462-c027-5fcfe264c5f2"
      },
      "source": [
        "getsizeof(collatz_conjec)"
      ],
      "execution_count": null,
      "outputs": [
        {
          "output_type": "execute_result",
          "data": {
            "text/plain": [
              "136"
            ]
          },
          "metadata": {
            "tags": []
          },
          "execution_count": 10
        }
      ]
    },
    {
      "cell_type": "markdown",
      "metadata": {
        "id": "AQi9xHbNe1IR"
      },
      "source": [
        "Using the timeit function, out of the best of 3 loops, our code runs in 17.9 nanoseconds per loop. Since there are 1000 nanoseconds in a microsecond, that runtime sounds pretty good. Likewise, we used the getsizeof function to find out how many bytes our code is. We would consider anything under half or a fourth of a kilobyte a good and efficient amount of space."
      ]
    },
    {
      "cell_type": "markdown",
      "metadata": {
        "id": "mHS0OV67SaqD"
      },
      "source": [
        "##Negative Numbers"
      ]
    },
    {
      "cell_type": "markdown",
      "metadata": {
        "id": "YoVMzT3rLt6p"
      },
      "source": [
        "We also wrote code to test the negative numbers. The only difference between this code and the one testing positive numbers is that the condition for the \"while loop\" is less than or equal to -1 in order to soley test the negatives. We found that we can make our own conjecture in which the negative numbers always end up with the same three patterns. The three sequences that we conjectured are written below the code. This means that there are a total of four cycles that the collatz conjecture outputs. We also shows negative numbers for 1000 numbers from `-1000 to -1` to prove that the three conjectures work for a really small negative number.\n",
        "\n",
        "The code for negative numbers are shown below."
      ]
    },
    {
      "cell_type": "code",
      "metadata": {
        "id": "x60k_vXNMELA"
      },
      "source": [
        "'''\n",
        "This code is to check what will happend for changing positive numbers to \n",
        "negative.\n",
        "'''\n",
        "def c_c_negative(x): \n",
        "  a = []\n",
        "  if (x == 0):\n",
        "    raise TypeError(\"The number you input could not be ZERO(0)\")\n",
        "  while (a.count(x) <= 1):\n",
        "    if (x % 2 == 0):\n",
        "      x = x // 2 \n",
        "    else:\n",
        "      x = 3 * x + 1 \n",
        "    a.append(x)\n",
        "  return print(a)\n",
        "for a in range(-1000,0): # list all negative numbers down to -1000\n",
        "  c_c_negative(a)  # Check for the repeatings.\n"
      ],
      "execution_count": null,
      "outputs": []
    },
    {
      "cell_type": "markdown",
      "metadata": {
        "id": "xwrdjYOtOpTs"
      },
      "source": [
        "From the previous code, we are checking for negative repeating cycles. As we can see from the output. For the negative numbers. There are totally `3` different repeating cycles. We listed the first negative numbers from `-30 to -1` below to show the `three` repeating cycles:\n",
        "\n",
        "for c_c_negative(-5, -7, -9,-10,-13,-14,-18,-19,-20,-26,-27,-28) repeat [-5,-14,-7,-20,-10]\n",
        "\n",
        "for c_c_negative(-1,-2,-3,-4,-6,-8,-11,-12,-15,-22,-24,-29,-30): repeat with [-2, -1] \n",
        "\n",
        "for c_c_negative(-17,-21,-23,-25): repeat with [-164,-82,-41,-122,-61,-182,-91,-272,-136,-68,-34,-17,-50,-25,-47,-37,-110,-55]\n",
        "\n"
      ]
    },
    {
      "cell_type": "markdown",
      "metadata": {
        "id": "ckmDz67JNMnT"
      },
      "source": [
        "##Dropping Time"
      ]
    },
    {
      "cell_type": "markdown",
      "metadata": {
        "id": "zsXvRubkG8OQ"
      },
      "source": [
        "  We see that each number has a different dropping time or time it takes to reach a number lower than itself. Below we developed code that utilizes the same Collatz Conjecture \"while loop\", but only returns the amount of iterations until the lower number is reached. We then utilized a \"for loop\" with the range `2 to 500` to see the dropping times for this range. \n",
        "\n",
        "  We noticed that the dropping time for even numbers was always 1. This makes sense of course since even numbers are divided by 2, so must be less than the given number after the first iteration. With odd numbers, the dropping times seem more sporatic. However, there is only one discernable patern in which every fourth number's dropping time is 3.  "
      ]
    },
    {
      "cell_type": "code",
      "metadata": {
        "id": "ZTBs6IgzpPKr"
      },
      "source": [
        "def σ(x): #dropping time    \r\n",
        "  first = int(x)      \r\n",
        "  term=0 # 0th term.\r\n",
        "  while (x > 1): \r\n",
        "    if x % 2 == 0:\r\n",
        "      x = x / 2 \r\n",
        "    elif x % 2 == 1:\r\n",
        "      x = 3 * x + 1\r\n",
        "    term += 1\r\n",
        "    if x < first: \r\n",
        "      return term"
      ],
      "execution_count": null,
      "outputs": []
    },
    {
      "cell_type": "code",
      "metadata": {
        "id": "liZag0zlSZGM"
      },
      "source": [
        "for x in range(2,500):\r\n",
        "  print(\"The dropping time of {} is {}\".format(x,σ(x)))"
      ],
      "execution_count": null,
      "outputs": []
    },
    {
      "cell_type": "markdown",
      "metadata": {
        "id": "7oFrijSbR61D"
      },
      "source": [
        "##Replacing 3n+1 with Other Operations"
      ]
    },
    {
      "cell_type": "markdown",
      "metadata": {
        "id": "gXSj9tTPTCpZ"
      },
      "source": [
        "After exploring the 3n+1 conjecture for positive numbers, we also noticed if we change positives numbers to negatives, we can get a total different repeatings.\n",
        "\n",
        "So what if we do not change positive numbers to negative, instead, we change the rule of an operation? \n",
        "\n",
        "Now we are going to explore more about changing rules of a conjecture.\n",
        "\n",
        "The first changing rule we made is to use `3n-1` for all `positive numbers`. The code shows below:"
      ]
    },
    {
      "cell_type": "code",
      "metadata": {
        "id": "CCX2utWYTEhw"
      },
      "source": [
        "'''\n",
        "The first Change rule we made is to use 3n-1 for all positive numbers\n",
        "'''\n",
        "def First_change(x):\n",
        "  a = []\n",
        "  if (x == 0):\n",
        "    raise TypeError(\"The number you input could not be ZERO(0)\")\n",
        "  while (a.count(x) <= 1):\n",
        "    if (x % 2 == 0):\n",
        "      x = x // 2 \n",
        "    else:\n",
        "      x = 3 * x - 1 # change 3n+1 to 3n-1\n",
        "    a.append(x)\n",
        "  return print(a)\n",
        "for a in range(1,1000): # still test for positive numbers\n",
        " First_change(a)\n"
      ],
      "execution_count": null,
      "outputs": []
    },
    {
      "cell_type": "markdown",
      "metadata": {
        "id": "PQ8DVZBwVOwv"
      },
      "source": [
        "If you run the code above, you would find, surprisingly, by using `3n-1` for positive numbers, we would also get `three` repeating 'cycles'. And these three 'cycles' are the positive of the 'cycles' for `negative numbers with 3n+1`. We also listed the repeating cycles for numbers from 1 to 30:\n",
        "\n",
        "for First_change(5, 7, 9,10,13,14,18,19,20,26,27,28) repeat [5,14,7,20,10]\n",
        "\n",
        "for First_change(1,2,3,4,6,8,11,12,15,22,24,29,30): repeat with [2, 1] \n",
        "\n",
        "for First_change(17,21,23,25): repeat with [164,82,41,122,61,182,91,272,136,68,34,17,50,25,47,37,110,55]\n"
      ]
    },
    {
      "cell_type": "markdown",
      "metadata": {
        "id": "vMAF8M6zShM8"
      },
      "source": [
        "Later, we want to change more rules and see what will happen. A fascinating observation we notice when we use operation `3n-1` (Second_change) for negative numbers, we can get the 'cycle' with `-4, -2, -1`. The only difference is the sign of all of the numbers in the sequence.\n",
        "\n",
        "The code for Second_change shows below:"
      ]
    },
    {
      "cell_type": "code",
      "metadata": {
        "id": "gg7Dlu2UR2x0"
      },
      "source": [
        "'''\n",
        "This code shows that for nagetive numbers in range(-1000,-1)\n",
        "replace 3n + 1 to 3n -1 will make the 'cycle' repeating \n",
        "'-4,-2,-1', which just changed a sign for positive numbers with 3n - 1.\n",
        "'''\n",
        "def Second_change(x): #replace 3n+1 for positive numbers to 3n-1 for negatives\n",
        "  a = []\n",
        "  if (x == 0):\n",
        "    raise TypeError(\"The number you input could not be ZERO(0)\")\n",
        "  while (a.count(x) <= 1):\n",
        "    if (x % 2 == 0):\n",
        "      x = x // 2 \n",
        "    else:\n",
        "      x = 3 * x - 1 #change 3n+1 to 3n-1\n",
        "    a.append(x)\n",
        "  return print(a)\n",
        "for a in range(-1000,-1): #Change positive numbers to negative numbers\n",
        " Second_change(a)\n"
      ],
      "execution_count": null,
      "outputs": []
    },
    {
      "cell_type": "markdown",
      "metadata": {
        "id": "HCj5zwBbNtKP"
      },
      "source": [
        "##Conclusion"
      ]
    },
    {
      "cell_type": "markdown",
      "metadata": {
        "id": "jB5j572_Nwkd"
      },
      "source": [
        "Altogether, it seems like we have been able to find so many patterns associated with this conjecture. We hypothesized that there would always be commonalities in the sequences like we found when we tried 7 and 9 by hand. However, this is not entirely correct as one thousand and a million did not appear to have any commonalities in their sequences. Likewise, we discovered that there exist three other cycles to which all negative numbers converge. These three findings can be treated as separate conjectures; however, we further illustrate that the Collatz Conjecture works solely for positive numbers greater than one up to 1000. We do not have the ability to claim this for all positive numbers greater than one. Essentially, we have showed that the conjecture holds for number 2 - 1000 and observed the patterns amongst these numbers. \n",
        "\n",
        "For negative numbers less than -1 down to -1000, we see that there are a general three conjectures derived from testing negative numbers with the same operations as the positive range. This means there are a total of four cycles to which the Collatz Conjecture converges for all integers besides zero. We noticed as well for all natural numbers the uniform sequence of \"40, 20, 10, 5, 16, 8\" prior to the cycle \"4,2,1.\" When we tested the dropping time for positive numbers, we notice every fourth number's dropping time in the sequence is three and every even numbers dropping time is one. These phenomena make sense arithmetically because every fourth number from 2 - 1000 is an odd prime or odd number with prime factors such that their dropping time is always three, but still do not give a substantial proof for the conjecture. \n",
        "\n",
        "When we replaced the operation for the Collatz Conjecture and applied it to two different ranges. We found another pattern. For the range of -1 down to -1000, we found that the new conjecture returns the repeating cycle \"-4,-2,-1.\" We see that this is the the same sequece as the Collatz Conjecture for positive number with a sign change. For the positive range with the new conjecture, we see that the function returns the same three sequences as the Collatz Conjecture applied to negative numbers with a sign change once again. \n",
        "\n",
        "The abundance of patterns when we test and manipulate this conjecture has left mathematicians stumped. We can say with certainty that these patterns hold for 1-1000 and -1000 - -1; however, this does not constitute a formal proof. We can also say that other operations and negative numbers within the Collatz Conjecture output different convergent sequences, so there are other conjectures we are able to make. However, the uniqueness of the Collatz Conjecture will leave a mistery as to why the orbit is alway one. In conclusion, with Python, we have been able to analyze these patterns and understand the conjecture, but the world is still waiting on the proof for all positive numbers. "
      ]
    },
    {
      "cell_type": "markdown",
      "metadata": {
        "id": "NlG7ZcJ3ztlg"
      },
      "source": [
        "###Source"
      ]
    },
    {
      "cell_type": "markdown",
      "metadata": {
        "id": "DTzri7DKzxCR"
      },
      "source": [
        "Hanner, Patrick. “The Simple Math Problem We Still Can't Solve.” Quanta Magazine, 22 Sep. 2020, https://www.quantamagazine.org/why-mathematicians-still-cant-solve-the-collatz-conjecture-20200922/"
      ]
    }
  ]
}