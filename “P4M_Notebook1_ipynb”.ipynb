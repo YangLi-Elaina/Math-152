{
  "nbformat": 4,
  "nbformat_minor": 0,
  "metadata": {
    "kernelspec": {
      "display_name": "Python 3",
      "language": "python",
      "name": "python3"
    },
    "language_info": {
      "codemirror_mode": {
        "name": "ipython",
        "version": 3
      },
      "file_extension": ".py",
      "mimetype": "text/x-python",
      "name": "python",
      "nbconvert_exporter": "python",
      "pygments_lexer": "ipython3",
      "version": "3.6.7"
    },
    "colab": {
      "name": "“P4M_Notebook1.ipynb”",
      "provenance": [],
      "collapsed_sections": [
        "fOUbCcfxU5yY"
      ],
      "toc_visible": true,
      "include_colab_link": true
    }
  },
  "cells": [
    {
      "cell_type": "markdown",
      "metadata": {
        "id": "view-in-github",
        "colab_type": "text"
      },
      "source": [
        "<a href=\"https://colab.research.google.com/github/YangLi-Elaina/Math-152/blob/main/%E2%80%9CP4M_Notebook1_ipynb%E2%80%9D.ipynb\" target=\"_parent\"><img src=\"https://colab.research.google.com/assets/colab-badge.svg\" alt=\"Open In Colab\"/></a>"
      ]
    },
    {
      "cell_type": "markdown",
      "metadata": {
        "id": "aLsfIWSoU5x_"
      },
      "source": [
        "#  Computing with Python:  an Introduction"
      ]
    },
    {
      "cell_type": "markdown",
      "metadata": {
        "id": "AXTRG_T1U5yD"
      },
      "source": [
        "Welcome to programming!\n",
        "\n",
        "What is the difference between *Python* and a calculator?  We begin this first lesson by showing how Python can be used **as** a calculator, and we move into one of the most important programming structures -- the **loop**.  Loops allow computers to carry out repetetive computations, with just a few commands.\n",
        "\n",
        "To navigate this notebook, you might wish to click on the Table of Contents icon (near top-left of the Google Colab window).  Then you can expand the sections to work on each one.\n",
        "\n",
        "Remember to save your work frequently on your personal GitHub repository."
      ]
    },
    {
      "cell_type": "markdown",
      "metadata": {
        "id": "-y8Iz5LaU5yD"
      },
      "source": [
        "# Python as a calculator"
      ]
    },
    {
      "cell_type": "markdown",
      "metadata": {
        "id": "6rbqov7pU5yE"
      },
      "source": [
        "Different kinds of data are stored as different *types* in Python.  For example, if you wish to work with integers, your data is typically stored as an *int*.  A real number might be stored as a *float*.  There are types for booleans (True/False data), strings (like \"Hello World!\"), and many more we will see.  \n",
        "\n",
        "A more complete reference for Python's numerical types and arithmetic operations can be found in the [official Python documentation](https://docs.python.org/3/library/stdtypes.html).  The [official Python tutorial](https://docs.python.org/3/tutorial/introduction.html) is also a great place to start.\n",
        "\n",
        "Python allows you to perform arithmetic operations:  addition, subtraction, multiplication, and division, on numerical types.  The operation symbols are `+`, `-`, `*`, and `/`.   Evaluate each of the following cells to see how Python performs operations on *integers*.  \n",
        "\n",
        "To evaluate the cell, click anywhere within the cell to select it and use the keyboard shortcut *Shift-Enter* to evaluate.  But as you go through this and later lessons, try to *predict* what will happen when you evaluate the cell before you hit Shift-Enter.  Don't just click click click!  Think for a few seconds or a minute, and then Shift-Enter."
      ]
    },
    {
      "cell_type": "code",
      "metadata": {
        "scrolled": true,
        "id": "yqyWbMp-U5yE",
        "colab": {
          "base_uri": "https://localhost:8080/"
        },
        "outputId": "0b5b1e30-f61b-4df0-c985-e3e7eef01e4e"
      },
      "source": [
        "2 + 3"
      ],
      "execution_count": null,
      "outputs": [
        {
          "output_type": "execute_result",
          "data": {
            "text/plain": [
              "5"
            ]
          },
          "metadata": {
            "tags": []
          },
          "execution_count": 1
        }
      ]
    },
    {
      "cell_type": "code",
      "metadata": {
        "scrolled": true,
        "id": "ITtBZC2kU5yE",
        "colab": {
          "base_uri": "https://localhost:8080/"
        },
        "outputId": "1a92d70e-2619-494f-da02-d5a54b412551"
      },
      "source": [
        "2 * 3"
      ],
      "execution_count": null,
      "outputs": [
        {
          "output_type": "execute_result",
          "data": {
            "text/plain": [
              "6"
            ]
          },
          "metadata": {
            "tags": []
          },
          "execution_count": 2
        }
      ]
    },
    {
      "cell_type": "code",
      "metadata": {
        "id": "mS2JIy1oU5yE",
        "colab": {
          "base_uri": "https://localhost:8080/"
        },
        "outputId": "afa2f0d8-d4e7-4a62-dc16-3a5555674952"
      },
      "source": [
        "5 - 11"
      ],
      "execution_count": null,
      "outputs": [
        {
          "output_type": "execute_result",
          "data": {
            "text/plain": [
              "-6"
            ]
          },
          "metadata": {
            "tags": []
          },
          "execution_count": 3
        }
      ]
    },
    {
      "cell_type": "code",
      "metadata": {
        "id": "WRjeVm8rU5yF",
        "colab": {
          "base_uri": "https://localhost:8080/"
        },
        "outputId": "2aaa4af4-ea2a-4335-a8e9-8462574b52c4"
      },
      "source": [
        "5.0 - 11"
      ],
      "execution_count": null,
      "outputs": [
        {
          "output_type": "execute_result",
          "data": {
            "text/plain": [
              "-6.0"
            ]
          },
          "metadata": {
            "tags": []
          },
          "execution_count": 4
        }
      ]
    },
    {
      "cell_type": "code",
      "metadata": {
        "id": "Q9pdWY_hU5yF",
        "colab": {
          "base_uri": "https://localhost:8080/"
        },
        "outputId": "6e50887a-51f7-4965-ca05-77a06f51202f"
      },
      "source": [
        "5 / 11"
      ],
      "execution_count": null,
      "outputs": [
        {
          "output_type": "execute_result",
          "data": {
            "text/plain": [
              "0.45454545454545453"
            ]
          },
          "metadata": {
            "tags": []
          },
          "execution_count": 5
        }
      ]
    },
    {
      "cell_type": "code",
      "metadata": {
        "id": "TPzva1UXU5yF",
        "colab": {
          "base_uri": "https://localhost:8080/"
        },
        "outputId": "9aea9e9c-d176-42bd-c057-2890812284b4"
      },
      "source": [
        "6 / 3"
      ],
      "execution_count": null,
      "outputs": [
        {
          "output_type": "execute_result",
          "data": {
            "text/plain": [
              "2.0"
            ]
          },
          "metadata": {
            "tags": []
          },
          "execution_count": 6
        }
      ]
    },
    {
      "cell_type": "code",
      "metadata": {
        "id": "GUmGnpHVU5yF",
        "colab": {
          "base_uri": "https://localhost:8080/"
        },
        "outputId": "19b61d2c-154a-4bbe-ae44-34de9e32012e"
      },
      "source": [
        "5 // 11"
      ],
      "execution_count": null,
      "outputs": [
        {
          "output_type": "execute_result",
          "data": {
            "text/plain": [
              "0"
            ]
          },
          "metadata": {
            "tags": []
          },
          "execution_count": 7
        }
      ]
    },
    {
      "cell_type": "code",
      "metadata": {
        "id": "JEXb5uPQU5yF",
        "colab": {
          "base_uri": "https://localhost:8080/"
        },
        "outputId": "a0cbac23-d42b-475f-8093-0333846c651c"
      },
      "source": [
        "6 // 3"
      ],
      "execution_count": null,
      "outputs": [
        {
          "output_type": "execute_result",
          "data": {
            "text/plain": [
              "2"
            ]
          },
          "metadata": {
            "tags": []
          },
          "execution_count": 8
        }
      ]
    },
    {
      "cell_type": "markdown",
      "metadata": {
        "id": "o4t4Yw_XU5yF"
      },
      "source": [
        "The results are probably not too surprising, though the last two require a bit of explanation.  Python *interprets* the input number 5 as an *int* (integer) and 5.0 as a *float*.  \"Float\" stands for \"floating point number,\" which are decimal approximations to real numbers.  The word \"float\" refers to the fact that the decimal (or binary, for computers) point can float around (as in 1.2345 or 12.345 or 123.45 or 1234.5 or 0.00012345).  There are deep computational issues related to how computers handle decimal approximations, and you can [read about the IEEE standards](https://en.wikipedia.org/wiki/IEEE_754) if you're interested.\n",
        "\n",
        "Python enables different kinds of division.  The single-slash division in Python 3.x gives a floating point approximation of the quotient.  That's why `5 / 11` and `6 / 3` both output floats.  On the other hand, `5 // 11` and `6 // 3` yield integer outputs (rounding down) -- this is useful, but one has to be careful!\n",
        "\n",
        "In fact the designers of Python changed their mind.  **This tutorial assumes that you are using Python 3.x.**  If you are using Python 2.x, the command `5 / 11` would output zero."
      ]
    },
    {
      "cell_type": "code",
      "metadata": {
        "id": "msOx7ga_U5yF",
        "colab": {
          "base_uri": "https://localhost:8080/"
        },
        "outputId": "d2f2d3d3-3774-4cc8-b28b-b160e76e186c"
      },
      "source": [
        "-12 // 5  # What will this output?  Guess before evaluating!"
      ],
      "execution_count": null,
      "outputs": [
        {
          "output_type": "execute_result",
          "data": {
            "text/plain": [
              "-3"
            ]
          },
          "metadata": {
            "tags": []
          },
          "execution_count": 9
        }
      ]
    },
    {
      "cell_type": "markdown",
      "metadata": {
        "id": "6m4OcRYfU5yG"
      },
      "source": [
        "Why use integer division `//` and why use floating point division?  In practice, integer division is typically a faster operation.  So if you only need the rounded result (and that will often be the case), use integer division.  It will run much faster than carrying out floating point division then manually rounding down.\n",
        "\n",
        "Observe that floating point operations involve approximation.  The result of `5.0/11.0` might not be what you expect in the last digit.  Over time, especially with repeated operations, *floating point approximation* errors can add up!"
      ]
    },
    {
      "cell_type": "markdown",
      "metadata": {
        "id": "uAyV-QWrU5yG"
      },
      "source": [
        "You might be wondering about the little [XX] and [XX] prompts in the code cells above.  What is their purpose?  Guess what the following line will do."
      ]
    },
    {
      "cell_type": "code",
      "metadata": {
        "id": "vgnp3B3JU5yG",
        "colab": {
          "base_uri": "https://localhost:8080/"
        },
        "outputId": "01acece6-b9e9-4829-c9fe-0fb215d408cc"
      },
      "source": [
        "Out[4] + Out[5]"
      ],
      "execution_count": null,
      "outputs": [
        {
          "output_type": "execute_result",
          "data": {
            "text/plain": [
              "-5.545454545454546"
            ]
          },
          "metadata": {
            "tags": []
          },
          "execution_count": 10
        }
      ]
    },
    {
      "cell_type": "markdown",
      "metadata": {
        "id": "GgS8uA14U5yG"
      },
      "source": [
        "Cool, huh?  It's nice to have a record of previous computations, especially if you don't want to type something again.\n",
        "\n",
        "Python allows you to group expressions with parentheses, and follows the order of operations that you learn in school."
      ]
    },
    {
      "cell_type": "code",
      "metadata": {
        "id": "kE_p7LcGU5yG",
        "colab": {
          "base_uri": "https://localhost:8080/"
        },
        "outputId": "f4c276f0-8c53-4f59-a9e7-3714abcbe97c"
      },
      "source": [
        "(3 + 4) * 5"
      ],
      "execution_count": null,
      "outputs": [
        {
          "output_type": "execute_result",
          "data": {
            "text/plain": [
              "35"
            ]
          },
          "metadata": {
            "tags": []
          },
          "execution_count": 11
        }
      ]
    },
    {
      "cell_type": "code",
      "metadata": {
        "id": "n-hUvTxHU5yG",
        "colab": {
          "base_uri": "https://localhost:8080/"
        },
        "outputId": "e447b205-9dd3-4ea5-fdf6-7aca1a432492"
      },
      "source": [
        "3 + (4 * 5)"
      ],
      "execution_count": null,
      "outputs": [
        {
          "output_type": "execute_result",
          "data": {
            "text/plain": [
              "23"
            ]
          },
          "metadata": {
            "tags": []
          },
          "execution_count": 12
        }
      ]
    },
    {
      "cell_type": "code",
      "metadata": {
        "id": "3E_z7E81U5yG",
        "colab": {
          "base_uri": "https://localhost:8080/"
        },
        "outputId": "0cfed62d-452d-4680-c239-ad74dc4aa4cd"
      },
      "source": [
        "3 + 4 * 5   #  What do you think will be the result?  Remember PEMDAS?"
      ],
      "execution_count": null,
      "outputs": [
        {
          "output_type": "execute_result",
          "data": {
            "text/plain": [
              "23"
            ]
          },
          "metadata": {
            "tags": []
          },
          "execution_count": 13
        }
      ]
    },
    {
      "cell_type": "markdown",
      "metadata": {
        "id": "lIFwbvWsU5yG"
      },
      "source": [
        "Now is a good time to try a few computations of your own, in the empty cell below.  You can type any Python commands you want in the empty cell.  If you want to insert a new cell into this notebook, just hover your cursor in the space between cells in Colab."
      ]
    },
    {
      "cell_type": "code",
      "metadata": {
        "id": "Rc5Lv9wLU5yH"
      },
      "source": [
        "#  An empty cell.  Have fun! Haha!\n"
      ],
      "execution_count": null,
      "outputs": []
    },
    {
      "cell_type": "markdown",
      "metadata": {
        "id": "OkWlZNSSU5yH"
      },
      "source": [
        "For number theory, *division with remainder* is an operation of central importance.  Integer division provides the quotient, and the operation `%` provides the remainder.  It's a bit strange that the percent symbol is used for the remainder, but this [dates at least to the early 1970s](https://softwareengineering.stackexchange.com/questions/294297/in-what-programming-language-did-the-use-of-the-percent-sign-to-mean-modulo) and has become standard across computer languages."
      ]
    },
    {
      "cell_type": "code",
      "metadata": {
        "id": "xTWOi_XxU5yH",
        "colab": {
          "base_uri": "https://localhost:8080/"
        },
        "outputId": "9fd2168f-39d1-4d23-de4c-3c9058bfc6e6"
      },
      "source": [
        "23 // 5  # Integer division"
      ],
      "execution_count": null,
      "outputs": [
        {
          "output_type": "execute_result",
          "data": {
            "text/plain": [
              "4"
            ]
          },
          "metadata": {
            "tags": []
          },
          "execution_count": 16
        }
      ]
    },
    {
      "cell_type": "code",
      "metadata": {
        "id": "UNjARp_xU5yH",
        "colab": {
          "base_uri": "https://localhost:8080/"
        },
        "outputId": "ab30fcc7-3620-4e8b-e24a-ca57fd2bcc12"
      },
      "source": [
        "23 % 5  # The remainder after division"
      ],
      "execution_count": null,
      "outputs": [
        {
          "output_type": "execute_result",
          "data": {
            "text/plain": [
              "3"
            ]
          },
          "metadata": {
            "tags": []
          },
          "execution_count": 17
        }
      ]
    },
    {
      "cell_type": "markdown",
      "metadata": {
        "id": "WFrRvFgkU5yH"
      },
      "source": [
        "Note in the code above, there are little \"comments\".  To place a short comment on a line of code, just put a hashtag `#` at the end of the line of code, followed by your comment.\n",
        "\n",
        "Python gives a single command for division with remainder.  Its output is a *tuple*."
      ]
    },
    {
      "cell_type": "code",
      "metadata": {
        "id": "F2zJS-tRU5yH",
        "colab": {
          "base_uri": "https://localhost:8080/"
        },
        "outputId": "4bc0aa4e-a5e5-4e7d-fca6-b373ebd1adec"
      },
      "source": [
        "divmod(23,5)"
      ],
      "execution_count": null,
      "outputs": [
        {
          "output_type": "execute_result",
          "data": {
            "text/plain": [
              "(4, 3)"
            ]
          },
          "metadata": {
            "tags": []
          },
          "execution_count": 18
        }
      ]
    },
    {
      "cell_type": "code",
      "metadata": {
        "id": "y3dckm2dU5yH",
        "colab": {
          "base_uri": "https://localhost:8080/"
        },
        "outputId": "fffed133-71a4-4e99-9085-c8290199eca3"
      },
      "source": [
        "type(divmod(23,5))"
      ],
      "execution_count": null,
      "outputs": [
        {
          "output_type": "execute_result",
          "data": {
            "text/plain": [
              "tuple"
            ]
          },
          "metadata": {
            "tags": []
          },
          "execution_count": 19
        }
      ]
    },
    {
      "cell_type": "markdown",
      "metadata": {
        "id": "0qVUgNJ2U5yH"
      },
      "source": [
        "All data in Python has a type, but a common complaint about Python is that types are a bit concealed \"under the hood\".  But they are not far under the hood!  Anyone can find out the type of some data with a single command."
      ]
    },
    {
      "cell_type": "code",
      "metadata": {
        "id": "TU1Cho4tU5yI",
        "colab": {
          "base_uri": "https://localhost:8080/"
        },
        "outputId": "edf952f9-6ac2-45a0-81fa-103f8c77244a"
      },
      "source": [
        "type(3)"
      ],
      "execution_count": null,
      "outputs": [
        {
          "output_type": "execute_result",
          "data": {
            "text/plain": [
              "int"
            ]
          },
          "metadata": {
            "tags": []
          },
          "execution_count": 20
        }
      ]
    },
    {
      "cell_type": "code",
      "metadata": {
        "id": "OYALDWO5U5yI",
        "colab": {
          "base_uri": "https://localhost:8080/"
        },
        "outputId": "04b185e5-960a-4bea-d5f2-8dd3d2ade4d8"
      },
      "source": [
        "type(3.0)"
      ],
      "execution_count": null,
      "outputs": [
        {
          "output_type": "execute_result",
          "data": {
            "text/plain": [
              "float"
            ]
          },
          "metadata": {
            "tags": []
          },
          "execution_count": 21
        }
      ]
    },
    {
      "cell_type": "code",
      "metadata": {
        "id": "SHQ-_qcHU5yI",
        "colab": {
          "base_uri": "https://localhost:8080/"
        },
        "outputId": "057781d3-9efb-4f80-8098-42ddb4c47812"
      },
      "source": [
        "type('Hello')"
      ],
      "execution_count": null,
      "outputs": [
        {
          "output_type": "execute_result",
          "data": {
            "text/plain": [
              "str"
            ]
          },
          "metadata": {
            "tags": []
          },
          "execution_count": 22
        }
      ]
    },
    {
      "cell_type": "code",
      "metadata": {
        "id": "nhf-YmD3U5yI",
        "colab": {
          "base_uri": "https://localhost:8080/"
        },
        "outputId": "d784ba48-a2dd-456d-b7e9-5de4a3e66d4a"
      },
      "source": [
        "type([1,2,3])"
      ],
      "execution_count": null,
      "outputs": [
        {
          "output_type": "execute_result",
          "data": {
            "text/plain": [
              "list"
            ]
          },
          "metadata": {
            "tags": []
          },
          "execution_count": 23
        }
      ]
    },
    {
      "cell_type": "markdown",
      "metadata": {
        "id": "tYWDszLmU5yI"
      },
      "source": [
        "The key to careful computation in Python is always being *aware of the type* of your data, and *knowing* how Python operates differently on data of different types."
      ]
    },
    {
      "cell_type": "code",
      "metadata": {
        "id": "Uc7eYJLWU5yI",
        "colab": {
          "base_uri": "https://localhost:8080/"
        },
        "outputId": "77825049-d8aa-4d06-8b53-7321126560ed"
      },
      "source": [
        "3 + 3"
      ],
      "execution_count": null,
      "outputs": [
        {
          "output_type": "execute_result",
          "data": {
            "text/plain": [
              "6"
            ]
          },
          "metadata": {
            "tags": []
          },
          "execution_count": 24
        }
      ]
    },
    {
      "cell_type": "code",
      "metadata": {
        "id": "jv6N6XLQU5yI",
        "colab": {
          "base_uri": "https://localhost:8080/"
        },
        "outputId": "d1897461-844c-4ae0-b29c-fa46b5e96be8"
      },
      "source": [
        "3.0 + 3.0"
      ],
      "execution_count": null,
      "outputs": [
        {
          "output_type": "execute_result",
          "data": {
            "text/plain": [
              "6.0"
            ]
          },
          "metadata": {
            "tags": []
          },
          "execution_count": 25
        }
      ]
    },
    {
      "cell_type": "code",
      "metadata": {
        "id": "KKF4Sv-jU5yI",
        "colab": {
          "base_uri": "https://localhost:8080/",
          "height": 35
        },
        "outputId": "64d5376b-1c7d-425e-a85a-d28d32647bbc"
      },
      "source": [
        "'Hello' + 'World!'"
      ],
      "execution_count": null,
      "outputs": [
        {
          "output_type": "execute_result",
          "data": {
            "application/vnd.google.colaboratory.intrinsic+json": {
              "type": "string"
            },
            "text/plain": [
              "'HelloWorld!'"
            ]
          },
          "metadata": {
            "tags": []
          },
          "execution_count": 26
        }
      ]
    },
    {
      "cell_type": "code",
      "metadata": {
        "id": "q9H__Z99U5yI",
        "colab": {
          "base_uri": "https://localhost:8080/"
        },
        "outputId": "c03d202f-023f-444a-9149-59ca24b2ac31"
      },
      "source": [
        "[1,2,3] + [4,5,6]"
      ],
      "execution_count": null,
      "outputs": [
        {
          "output_type": "execute_result",
          "data": {
            "text/plain": [
              "[1, 2, 3, 4, 5, 6]"
            ]
          },
          "metadata": {
            "tags": []
          },
          "execution_count": 27
        }
      ]
    },
    {
      "cell_type": "code",
      "metadata": {
        "id": "NDDAxeQJU5yJ",
        "colab": {
          "base_uri": "https://localhost:8080/"
        },
        "outputId": "6425ec5c-8b51-4cce-d900-b7e2be32df77"
      },
      "source": [
        "3 + 3.0"
      ],
      "execution_count": null,
      "outputs": [
        {
          "output_type": "execute_result",
          "data": {
            "text/plain": [
              "6.0"
            ]
          },
          "metadata": {
            "tags": []
          },
          "execution_count": 28
        }
      ]
    },
    {
      "cell_type": "code",
      "metadata": {
        "id": "xuBj_w9_U5yJ",
        "colab": {
          "base_uri": "https://localhost:8080/",
          "height": 168
        },
        "outputId": "40718a7c-c136-40cc-9794-e7d29b7bd5a8"
      },
      "source": [
        "3 + 'Hello!'  # Uh oh!"
      ],
      "execution_count": null,
      "outputs": [
        {
          "output_type": "error",
          "ename": "TypeError",
          "evalue": "ignored",
          "traceback": [
            "\u001b[0;31m---------------------------------------------------------------------------\u001b[0m",
            "\u001b[0;31mTypeError\u001b[0m                                 Traceback (most recent call last)",
            "\u001b[0;32m<ipython-input-29-dacf80a979a3>\u001b[0m in \u001b[0;36m<module>\u001b[0;34m()\u001b[0m\n\u001b[0;32m----> 1\u001b[0;31m \u001b[0;36m3\u001b[0m \u001b[0;34m+\u001b[0m \u001b[0;34m'Hello!'\u001b[0m  \u001b[0;31m# Uh oh!\u001b[0m\u001b[0;34m\u001b[0m\u001b[0;34m\u001b[0m\u001b[0m\n\u001b[0m",
            "\u001b[0;31mTypeError\u001b[0m: unsupported operand type(s) for +: 'int' and 'str'"
          ]
        }
      ]
    },
    {
      "cell_type": "code",
      "metadata": {
        "id": "9P7roKZgU5yJ"
      },
      "source": [
        "#  An empty cell.  Have fun!\n",
        "#  Try operating on ints, floats, and strings, with different operations.  Which ones work?  How?"
      ],
      "execution_count": null,
      "outputs": []
    },
    {
      "cell_type": "markdown",
      "metadata": {
        "id": "1_2D8-NFU5yJ"
      },
      "source": [
        "As you can see, addition (the `+` operator) is interpreted differently in the contexts of numbers, strings, and lists.  The designers of Python allowed us to add *numbers* of different types:  if you try to operate on an *int* and a *float*, the *int* will typically be *coerced* into a float in order to perform the operation.  But the designers of Python did not give meaning to the addition of a number with a string, for example.  That's why you probably received a *TypeError* after trying to add a number to a string. \n",
        "\n",
        "On the other hand, Python does interpret *multiplication* of a natural number with a string or a list."
      ]
    },
    {
      "cell_type": "code",
      "metadata": {
        "id": "MmRfXepMU5yJ",
        "colab": {
          "base_uri": "https://localhost:8080/",
          "height": 35
        },
        "outputId": "965ba3d1-6c9d-4e9a-e799-c5cad4f8a06b"
      },
      "source": [
        "3 * 'Hello!'"
      ],
      "execution_count": null,
      "outputs": [
        {
          "output_type": "execute_result",
          "data": {
            "application/vnd.google.colaboratory.intrinsic+json": {
              "type": "string"
            },
            "text/plain": [
              "'Hello!Hello!Hello!'"
            ]
          },
          "metadata": {
            "tags": []
          },
          "execution_count": 31
        }
      ]
    },
    {
      "cell_type": "code",
      "metadata": {
        "id": "gVo2bjWzU5yJ",
        "colab": {
          "base_uri": "https://localhost:8080/",
          "height": 35
        },
        "outputId": "6467b83a-7ede-436f-e5cf-16285844d197"
      },
      "source": [
        "0 * 'Hello!'"
      ],
      "execution_count": null,
      "outputs": [
        {
          "output_type": "execute_result",
          "data": {
            "application/vnd.google.colaboratory.intrinsic+json": {
              "type": "string"
            },
            "text/plain": [
              "''"
            ]
          },
          "metadata": {
            "tags": []
          },
          "execution_count": 32
        }
      ]
    },
    {
      "cell_type": "code",
      "metadata": {
        "id": "OqWWK6VWU5yJ",
        "colab": {
          "base_uri": "https://localhost:8080/"
        },
        "outputId": "3fbd0981-778b-415d-e65a-911fc8392d5d"
      },
      "source": [
        "2 * [1,2,3]"
      ],
      "execution_count": null,
      "outputs": [
        {
          "output_type": "execute_result",
          "data": {
            "text/plain": [
              "[1, 2, 3, 1, 2, 3]"
            ]
          },
          "metadata": {
            "tags": []
          },
          "execution_count": 33
        }
      ]
    },
    {
      "cell_type": "markdown",
      "metadata": {
        "id": "Z28hpoAjU5yJ"
      },
      "source": [
        "Can you create a string with 100 A's (like `AAA...`)?  Use an appropriate operation in the cell below."
      ]
    },
    {
      "cell_type": "code",
      "metadata": {
        "id": "fAxwL5O3U5yJ",
        "colab": {
          "base_uri": "https://localhost:8080/",
          "height": 35
        },
        "outputId": "42cde2d7-516d-4689-e0ea-357b9c188992"
      },
      "source": [
        "100 * 'A' #  Practice cell\n"
      ],
      "execution_count": null,
      "outputs": [
        {
          "output_type": "execute_result",
          "data": {
            "application/vnd.google.colaboratory.intrinsic+json": {
              "type": "string"
            },
            "text/plain": [
              "'AAAAAAAAAAAAAAAAAAAAAAAAAAAAAAAAAAAAAAAAAAAAAAAAAAAAAAAAAAAAAAAAAAAAAAAAAAAAAAAAAAAAAAAAAAAAAAAAAAAA'"
            ]
          },
          "metadata": {
            "tags": []
          },
          "execution_count": 35
        }
      ]
    },
    {
      "cell_type": "markdown",
      "metadata": {
        "id": "nHp8b6_8U5yJ"
      },
      "source": [
        "Exponents in Python are given by the `**` operator.  The following lines compute 2 to the 1000th power, in two different ways."
      ]
    },
    {
      "cell_type": "code",
      "metadata": {
        "id": "VNDmF-hcU5yK",
        "colab": {
          "base_uri": "https://localhost:8080/"
        },
        "outputId": "71b0f456-86cb-44fe-f16f-25a4e210618c"
      },
      "source": [
        "2**1000"
      ],
      "execution_count": null,
      "outputs": [
        {
          "output_type": "execute_result",
          "data": {
            "text/plain": [
              "10715086071862673209484250490600018105614048117055336074437503883703510511249361224931983788156958581275946729175531468251871452856923140435984577574698574803934567774824230985421074605062371141877954182153046474983581941267398767559165543946077062914571196477686542167660429831652624386837205668069376"
            ]
          },
          "metadata": {
            "tags": []
          },
          "execution_count": 36
        }
      ]
    },
    {
      "cell_type": "code",
      "metadata": {
        "id": "DEHGNQ3RU5yK",
        "colab": {
          "base_uri": "https://localhost:8080/"
        },
        "outputId": "9a62f9d0-6904-44ac-9552-5a50b2db34aa"
      },
      "source": [
        "2.0**1000"
      ],
      "execution_count": null,
      "outputs": [
        {
          "output_type": "execute_result",
          "data": {
            "text/plain": [
              "1.0715086071862673e+301"
            ]
          },
          "metadata": {
            "tags": []
          },
          "execution_count": 37
        }
      ]
    },
    {
      "cell_type": "markdown",
      "metadata": {
        "id": "O1bSyFFJU5yK"
      },
      "source": [
        "As before, Python interprets an operation (`**`) differently in different contexts.  When given integer input, Python evaluates `2**1000` **exactly**.  The result is a large integer.  A nice fact about Python, for mathematicians, is that it handles exact integers of arbitrary length!  Many other programming languages (like C++) will give an error message if integers get too large in the midst of a computation.  \n",
        "\n",
        "New in version 3.x, Python implements long integers without giving signals to the programmer or changing types.  In Python 2.x, there were two types: *int* for somewhat small integers (e.g., up to $2^{31}$) and *long* type for all larger integers.  Python 2.x would signal which type of integer was being used, by placing the letter \"L\" at the end of a long integer.  Now, in Python 3.x, the programmer doesn't really see the difference.  There is only the *int* type.  But Python still optimizes computations, using hardware functionality for arithmetic of small integers and custom routines for large integers.  The programmer doesn't have to worry about it most of the time.\n",
        "\n",
        "For scientific applications, one often wants to keep track of only a certain number of significant digits (sig figs).  If one computes the floating point exponent `2.0**1000`, the result is a decimal approximation.  It is still a float.  The expression \"e+301\" stands for \"multiplied by 10 to the 301st power\", i.e., Python uses *scientific notation* for large floats."
      ]
    },
    {
      "cell_type": "code",
      "metadata": {
        "id": "gbiP5lpxU5yK",
        "colab": {
          "base_uri": "https://localhost:8080/"
        },
        "outputId": "a5168735-efba-4b81-e810-fdb40b33d64b"
      },
      "source": [
        "type(2**1000)"
      ],
      "execution_count": null,
      "outputs": [
        {
          "output_type": "execute_result",
          "data": {
            "text/plain": [
              "int"
            ]
          },
          "metadata": {
            "tags": []
          },
          "execution_count": 38
        }
      ]
    },
    {
      "cell_type": "code",
      "metadata": {
        "id": "oYFQ7ZxFU5yL",
        "colab": {
          "base_uri": "https://localhost:8080/"
        },
        "outputId": "b7876ba8-18d5-4f1c-870f-e21506a6b03a"
      },
      "source": [
        "type(2.0**1000)"
      ],
      "execution_count": null,
      "outputs": [
        {
          "output_type": "execute_result",
          "data": {
            "text/plain": [
              "float"
            ]
          },
          "metadata": {
            "tags": []
          },
          "execution_count": 39
        }
      ]
    },
    {
      "cell_type": "code",
      "metadata": {
        "id": "MtmwQzLgU5yL"
      },
      "source": [
        "#  An empty cell.  Have fun!\n"
      ],
      "execution_count": null,
      "outputs": []
    },
    {
      "cell_type": "markdown",
      "metadata": {
        "id": "hu0LPXNLU5yL"
      },
      "source": [
        "Now is a good time for reflection.  Double-click in the cell below to answer the given questions.  Cells like this one are used for text rather than Python code.  Text is entered using *markdown*, but you can typically just enter text as you would in any text editor without problems.  Press *shift-Enter* after editing a text cell to complete the editing process.  "
      ]
    },
    {
      "cell_type": "markdown",
      "metadata": {
        "id": "QLyCVcXoU5yL"
      },
      "source": [
        "### Exercises\n",
        "\n",
        "1.  What data types have you seen, and what kinds of data are they used for?  Can you remember them without looking back?\n",
        "\n",
        "2.  How is division `/` interpreted differently for different types of data?\n",
        "\n",
        "3.  How is multiplication `*` interpreted differently for different types of data?\n",
        "\n",
        "4.  What is the difference between 100 and 100.0, for Python?"
      ]
    },
    {
      "cell_type": "markdown",
      "metadata": {
        "id": "KDzM72ZXU5yL"
      },
      "source": [
        "Double-click this text cell to edit it, and answer the exercises.  This may be graded, so please complete all questions!  Write in clear, complete, and concise sentences.\n",
        "\n",
        "#### 1.\n",
        "Types of data I've seen are:\n",
        "- *int*: integers\n",
        "- *float*: real number, the decimal point can float around\n",
        "- *booleans*: True/False data\n",
        "- *strings*: like \"Hello World\"\n",
        "- *tuple*: division with remainder like type(divmod ()).\n",
        "- *list*: a list of numbers like type( [1,2,3] ).\n",
        "\n",
        "\n",
        "\n"
      ]
    },
    {
      "cell_type": "markdown",
      "metadata": {
        "id": "7E2CDQHToY2W"
      },
      "source": [
        "#### 2. \n",
        "\n",
        "The divison / will give us a *float* output. \n"
      ]
    },
    {
      "cell_type": "code",
      "metadata": {
        "colab": {
          "base_uri": "https://localhost:8080/"
        },
        "id": "-zauovPFlmT3",
        "outputId": "f905bdad-a156-42c0-e4da-4ab7e82c0a1c"
      },
      "source": [
        "5/10"
      ],
      "execution_count": null,
      "outputs": [
        {
          "output_type": "execute_result",
          "data": {
            "text/plain": [
              "0.5"
            ]
          },
          "metadata": {
            "tags": []
          },
          "execution_count": 1
        }
      ]
    },
    {
      "cell_type": "code",
      "metadata": {
        "colab": {
          "base_uri": "https://localhost:8080/"
        },
        "id": "4WCdAIjE6IJT",
        "outputId": "e6f18940-83f2-4cc8-9685-6d1adefe2fd2"
      },
      "source": [
        "5/11"
      ],
      "execution_count": null,
      "outputs": [
        {
          "output_type": "execute_result",
          "data": {
            "text/plain": [
              "0.45454545454545453"
            ]
          },
          "metadata": {
            "tags": []
          },
          "execution_count": 3
        }
      ]
    },
    {
      "cell_type": "code",
      "metadata": {
        "colab": {
          "base_uri": "https://localhost:8080/"
        },
        "id": "hoMgU3gd6MOT",
        "outputId": "d285a78a-4775-426e-b886-dc31dd5dbb70"
      },
      "source": [
        "5.0/11.0"
      ],
      "execution_count": null,
      "outputs": [
        {
          "output_type": "execute_result",
          "data": {
            "text/plain": [
              "0.45454545454545453"
            ]
          },
          "metadata": {
            "tags": []
          },
          "execution_count": 4
        }
      ]
    },
    {
      "cell_type": "markdown",
      "metadata": {
        "id": "V1HcgdA1l1Ka"
      },
      "source": [
        "Also, we can use double \"/\" as \"//\". \"//\" will give us a integer outputs (rounding down), such as:"
      ]
    },
    {
      "cell_type": "code",
      "metadata": {
        "colab": {
          "base_uri": "https://localhost:8080/"
        },
        "id": "Ke7GpqvfmWPM",
        "outputId": "e77a5443-740c-4acc-aba0-6a7430cce42d"
      },
      "source": [
        "5//11"
      ],
      "execution_count": null,
      "outputs": [
        {
          "output_type": "execute_result",
          "data": {
            "text/plain": [
              "0"
            ]
          },
          "metadata": {
            "tags": []
          },
          "execution_count": 2
        }
      ]
    },
    {
      "cell_type": "markdown",
      "metadata": {
        "id": "5rnbTX0crVmR"
      },
      "source": [
        "#### 3.\n",
        "\n",
        "- mutiplication `*` can use in number times number:"
      ]
    },
    {
      "cell_type": "code",
      "metadata": {
        "colab": {
          "base_uri": "https://localhost:8080/"
        },
        "id": "pNr4grSEsnKl",
        "outputId": "baf4d288-d719-4d9a-be34-8052126916c0"
      },
      "source": [
        "3*3"
      ],
      "execution_count": null,
      "outputs": [
        {
          "output_type": "execute_result",
          "data": {
            "text/plain": [
              "9"
            ]
          },
          "metadata": {
            "tags": []
          },
          "execution_count": 3
        }
      ]
    },
    {
      "cell_type": "markdown",
      "metadata": {
        "id": "M-x95ZtasppE"
      },
      "source": [
        "- it also can use in number with a string"
      ]
    },
    {
      "cell_type": "code",
      "metadata": {
        "colab": {
          "base_uri": "https://localhost:8080/",
          "height": 35
        },
        "id": "--FBUNIUsw7U",
        "outputId": "b45c63a2-f3be-4794-f084-a4ceff75eb57"
      },
      "source": [
        "3 * 'Hello!'"
      ],
      "execution_count": null,
      "outputs": [
        {
          "output_type": "execute_result",
          "data": {
            "application/vnd.google.colaboratory.intrinsic+json": {
              "type": "string"
            },
            "text/plain": [
              "'Hello!Hello!Hello!'"
            ]
          },
          "metadata": {
            "tags": []
          },
          "execution_count": 5
        }
      ]
    },
    {
      "cell_type": "markdown",
      "metadata": {
        "id": "qEK_-dScs29w"
      },
      "source": [
        "- Also it can use in number with a list"
      ]
    },
    {
      "cell_type": "code",
      "metadata": {
        "colab": {
          "base_uri": "https://localhost:8080/"
        },
        "id": "eQF59qITs8Up",
        "outputId": "7559fb8b-802a-4c89-bdd9-242d24664ecd"
      },
      "source": [
        "3 * [1,2,3]"
      ],
      "execution_count": null,
      "outputs": [
        {
          "output_type": "execute_result",
          "data": {
            "text/plain": [
              "[1, 2, 3, 1, 2, 3, 1, 2, 3]"
            ]
          },
          "metadata": {
            "tags": []
          },
          "execution_count": 6
        }
      ]
    },
    {
      "cell_type": "markdown",
      "metadata": {
        "id": "om6BppYItLiX"
      },
      "source": [
        "#### 4.\n",
        "\n",
        "For Python, 100 is a *int* but 100.0 is a *float*"
      ]
    },
    {
      "cell_type": "markdown",
      "metadata": {
        "id": "0jhkZ5zhU5yL"
      },
      "source": [
        "# Calculating with booleans"
      ]
    },
    {
      "cell_type": "markdown",
      "metadata": {
        "id": "IAb0HST5U5yM"
      },
      "source": [
        "A *boolean* (type *bool*) is the smallest possible piece of data.  While an *int* can be any integer, positive or negative, a *boolean* can only be one of two things:  *True* or *False*.  In this way, booleans are useful for storing the answers to yes/no questions.  \n",
        "\n",
        "Questions about (in)equality of numbers are answered in Python by *operations* with numerical input and boolean output.  Here are some examples.  A more complete reference is [in the official Python documentation](https://docs.python.org/3/library/stdtypes.html#boolean-operations-and-or-not)."
      ]
    },
    {
      "cell_type": "code",
      "metadata": {
        "id": "AqNG6PZBU5yM",
        "colab": {
          "base_uri": "https://localhost:8080/"
        },
        "outputId": "1257e41b-a52f-4bf1-ae5c-e874a84338be"
      },
      "source": [
        "3 > 2"
      ],
      "execution_count": null,
      "outputs": [
        {
          "output_type": "execute_result",
          "data": {
            "text/plain": [
              "True"
            ]
          },
          "metadata": {
            "tags": []
          },
          "execution_count": 9
        }
      ]
    },
    {
      "cell_type": "code",
      "metadata": {
        "id": "nOgi4gqUU5yM",
        "colab": {
          "base_uri": "https://localhost:8080/"
        },
        "outputId": "c03aa3b2-b6ed-4aff-9c4f-f8ba10a14a1c"
      },
      "source": [
        "type(3 > 2)"
      ],
      "execution_count": null,
      "outputs": [
        {
          "output_type": "execute_result",
          "data": {
            "text/plain": [
              "bool"
            ]
          },
          "metadata": {
            "tags": []
          },
          "execution_count": 10
        }
      ]
    },
    {
      "cell_type": "code",
      "metadata": {
        "id": "WabkpXPbU5yM",
        "colab": {
          "base_uri": "https://localhost:8080/"
        },
        "outputId": "e283b7cb-a8b0-4954-ff80-0499f1e866c6"
      },
      "source": [
        "10 < 3"
      ],
      "execution_count": null,
      "outputs": [
        {
          "output_type": "execute_result",
          "data": {
            "text/plain": [
              "False"
            ]
          },
          "metadata": {
            "tags": []
          },
          "execution_count": 11
        }
      ]
    },
    {
      "cell_type": "code",
      "metadata": {
        "id": "Mohc3o5oU5yM",
        "colab": {
          "base_uri": "https://localhost:8080/"
        },
        "outputId": "db0b35dd-71ca-4fcd-fcbe-8e7f2e993df5"
      },
      "source": [
        "2.4 < 2.4000001"
      ],
      "execution_count": null,
      "outputs": [
        {
          "output_type": "execute_result",
          "data": {
            "text/plain": [
              "True"
            ]
          },
          "metadata": {
            "tags": []
          },
          "execution_count": 12
        }
      ]
    },
    {
      "cell_type": "code",
      "metadata": {
        "id": "jnrzq17fU5yM",
        "colab": {
          "base_uri": "https://localhost:8080/"
        },
        "outputId": "77cf2b39-67b1-4c59-99c5-a319c699c4a6"
      },
      "source": [
        "32 >= 32"
      ],
      "execution_count": null,
      "outputs": [
        {
          "output_type": "execute_result",
          "data": {
            "text/plain": [
              "True"
            ]
          },
          "metadata": {
            "tags": []
          },
          "execution_count": 13
        }
      ]
    },
    {
      "cell_type": "code",
      "metadata": {
        "id": "D55td8J7U5yM",
        "colab": {
          "base_uri": "https://localhost:8080/"
        },
        "outputId": "adb1bc83-f43c-4959-cbc7-2cd091572567"
      },
      "source": [
        "32 >= 31"
      ],
      "execution_count": null,
      "outputs": [
        {
          "output_type": "execute_result",
          "data": {
            "text/plain": [
              "True"
            ]
          },
          "metadata": {
            "tags": []
          },
          "execution_count": 14
        }
      ]
    },
    {
      "cell_type": "code",
      "metadata": {
        "id": "L0RlreGLU5yM",
        "colab": {
          "base_uri": "https://localhost:8080/"
        },
        "outputId": "8c798376-bb2f-44d4-a4ab-67a46d5d47c8"
      },
      "source": [
        "2 + 2 == 4"
      ],
      "execution_count": null,
      "outputs": [
        {
          "output_type": "execute_result",
          "data": {
            "text/plain": [
              "True"
            ]
          },
          "metadata": {
            "tags": []
          },
          "execution_count": 15
        }
      ]
    },
    {
      "cell_type": "markdown",
      "metadata": {
        "id": "_f2QoYJ-U5yM"
      },
      "source": [
        "Which number is bigger:  $23^{32}$ or $32^{23}$?  Use the cell below to answer the question!"
      ]
    },
    {
      "cell_type": "code",
      "metadata": {
        "id": "PGlksxncU5yN",
        "colab": {
          "base_uri": "https://localhost:8080/"
        },
        "outputId": "73764465-b49c-4f85-b20f-aac96ad66d4a"
      },
      "source": [
        "23**32 > 32**23#  Write your code here.\n"
      ],
      "execution_count": null,
      "outputs": [
        {
          "output_type": "execute_result",
          "data": {
            "text/plain": [
              "True"
            ]
          },
          "metadata": {
            "tags": []
          },
          "execution_count": 16
        }
      ]
    },
    {
      "cell_type": "markdown",
      "metadata": {
        "id": "KTiAVQ0qU5yN"
      },
      "source": [
        "The expressions `<`, `>`, `<=`, `>=` are interpreted here as **operations** with numerical input and boolean output.  The symbol `==` (two equal symbols!) gives a True result if the numbers are equal, and False if the numbers are not equal.  An extremely common typo is to confuse `=` with `==`.  But the single equality symbol `=` has an entirely different meaning, as we shall see."
      ]
    },
    {
      "cell_type": "markdown",
      "metadata": {
        "id": "3atYTyAnU5yN"
      },
      "source": [
        "Using the remainder operator `%` and equality, we obtain a divisibility test."
      ]
    },
    {
      "cell_type": "code",
      "metadata": {
        "id": "t1BCq6GFU5yN",
        "colab": {
          "base_uri": "https://localhost:8080/"
        },
        "outputId": "1a1b5987-f5de-4aa0-d9ec-426f528a9c4f"
      },
      "source": [
        "63 % 7 == 0  # Is 63 divisible by 7?"
      ],
      "execution_count": null,
      "outputs": [
        {
          "output_type": "execute_result",
          "data": {
            "text/plain": [
              "True"
            ]
          },
          "metadata": {
            "tags": []
          },
          "execution_count": 17
        }
      ]
    },
    {
      "cell_type": "code",
      "metadata": {
        "id": "kYz8XfraU5yN",
        "colab": {
          "base_uri": "https://localhost:8080/"
        },
        "outputId": "f94f9e91-a0ef-4b5c-c0fc-26163c1646f7"
      },
      "source": [
        "101 % 2 == 0  # Is 101 even?"
      ],
      "execution_count": null,
      "outputs": [
        {
          "output_type": "execute_result",
          "data": {
            "text/plain": [
              "False"
            ]
          },
          "metadata": {
            "tags": []
          },
          "execution_count": 18
        }
      ]
    },
    {
      "cell_type": "markdown",
      "metadata": {
        "id": "0Iikx3JZU5yN"
      },
      "source": [
        "Use the cell below to determine whether 1234567890 is divisible by 3."
      ]
    },
    {
      "cell_type": "code",
      "metadata": {
        "id": "LPqBN_VlU5yN",
        "colab": {
          "base_uri": "https://localhost:8080/"
        },
        "outputId": "3f56de0c-4909-488f-b855-62b6a87bd1c3"
      },
      "source": [
        "1234567890 % 3 == 0 # Your code goes here.\n"
      ],
      "execution_count": null,
      "outputs": [
        {
          "output_type": "execute_result",
          "data": {
            "text/plain": [
              "True"
            ]
          },
          "metadata": {
            "tags": []
          },
          "execution_count": 19
        }
      ]
    },
    {
      "cell_type": "markdown",
      "metadata": {
        "id": "Tvle2bwdU5yN"
      },
      "source": [
        "Booleans can be operated on by the standard logical operations: and, or, not.  In ordinary English usage, \"and\" and \"or\" are conjunctions, while here in *Boolean algebra*, \"and\" and \"or\" are operations with Boolean inputs and Boolean output.  The precise meanings of \"and\" and \"or\" are given by the following **truth tables**.\n",
        "\n",
        "    \n",
        "| and | True | False |\n",
        "|-----|------|-------|\n",
        "| **True** | True | False |\n",
        "| **False** | False | False|\n",
        "\n",
        "<br>\n",
        "  \n",
        "| or | True | False |\n",
        "|-----|------|-------|\n",
        "| **True** | True | True |\n",
        "| **False** | True | False|"
      ]
    },
    {
      "cell_type": "code",
      "metadata": {
        "id": "eRo1A6IzU5yN",
        "colab": {
          "base_uri": "https://localhost:8080/"
        },
        "outputId": "f1f50b36-f936-4b8f-d5bc-64fd170f2632"
      },
      "source": [
        "True and False"
      ],
      "execution_count": null,
      "outputs": [
        {
          "output_type": "execute_result",
          "data": {
            "text/plain": [
              "False"
            ]
          },
          "metadata": {
            "tags": []
          },
          "execution_count": 20
        }
      ]
    },
    {
      "cell_type": "code",
      "metadata": {
        "id": "sFMWK-0HU5yN",
        "colab": {
          "base_uri": "https://localhost:8080/"
        },
        "outputId": "10328d40-f7b7-4a1e-b439-19d61729c206"
      },
      "source": [
        "True or False"
      ],
      "execution_count": null,
      "outputs": [
        {
          "output_type": "execute_result",
          "data": {
            "text/plain": [
              "True"
            ]
          },
          "metadata": {
            "tags": []
          },
          "execution_count": 21
        }
      ]
    },
    {
      "cell_type": "code",
      "metadata": {
        "id": "5bREtxzOU5yN",
        "colab": {
          "base_uri": "https://localhost:8080/"
        },
        "outputId": "a6eed931-2d5e-498f-fef6-f7b8db6c5c7d"
      },
      "source": [
        "True or True"
      ],
      "execution_count": null,
      "outputs": [
        {
          "output_type": "execute_result",
          "data": {
            "text/plain": [
              "True"
            ]
          },
          "metadata": {
            "tags": []
          },
          "execution_count": 22
        }
      ]
    },
    {
      "cell_type": "code",
      "metadata": {
        "id": "DP0Rw6jDU5yO",
        "colab": {
          "base_uri": "https://localhost:8080/"
        },
        "outputId": "464404c4-53c6-45f4-d0a1-a3e1fb4c3256"
      },
      "source": [
        "not True"
      ],
      "execution_count": null,
      "outputs": [
        {
          "output_type": "execute_result",
          "data": {
            "text/plain": [
              "False"
            ]
          },
          "metadata": {
            "tags": []
          },
          "execution_count": 23
        }
      ]
    },
    {
      "cell_type": "markdown",
      "metadata": {
        "id": "DRKe3Jv8U5yO"
      },
      "source": [
        "Use the truth tables to predict the result (True or False) of each of the following, before evaluating the code."
      ]
    },
    {
      "cell_type": "code",
      "metadata": {
        "id": "NVKb_6njU5yO",
        "colab": {
          "base_uri": "https://localhost:8080/"
        },
        "outputId": "a2115197-6f77-4038-b487-22b0f26e36fb"
      },
      "source": [
        "(2 > 3) and (3 > 2)"
      ],
      "execution_count": null,
      "outputs": [
        {
          "output_type": "execute_result",
          "data": {
            "text/plain": [
              "False"
            ]
          },
          "metadata": {
            "tags": []
          },
          "execution_count": 24
        }
      ]
    },
    {
      "cell_type": "code",
      "metadata": {
        "id": "JrprEal6U5yO",
        "colab": {
          "base_uri": "https://localhost:8080/"
        },
        "outputId": "6b42eb66-2ccf-4a0f-ce1a-151da45820fe"
      },
      "source": [
        "(1 + 1 == 2) or (1 + 1 == 3)"
      ],
      "execution_count": null,
      "outputs": [
        {
          "output_type": "execute_result",
          "data": {
            "text/plain": [
              "True"
            ]
          },
          "metadata": {
            "tags": []
          },
          "execution_count": 25
        }
      ]
    },
    {
      "cell_type": "code",
      "metadata": {
        "scrolled": true,
        "id": "Ef-ryEGjU5yO",
        "colab": {
          "base_uri": "https://localhost:8080/"
        },
        "outputId": "6248faa0-9bb2-453d-ebf3-76dcd861b905"
      },
      "source": [
        "not (-1 + 1 >= 0)"
      ],
      "execution_count": null,
      "outputs": [
        {
          "output_type": "execute_result",
          "data": {
            "text/plain": [
              "False"
            ]
          },
          "metadata": {
            "tags": []
          },
          "execution_count": 26
        }
      ]
    },
    {
      "cell_type": "code",
      "metadata": {
        "id": "FUSY_QuLU5yO",
        "colab": {
          "base_uri": "https://localhost:8080/"
        },
        "outputId": "a6e5e508-9690-4d1d-a5b7-32c0970e9a48"
      },
      "source": [
        "2 + 2 == 4"
      ],
      "execution_count": null,
      "outputs": [
        {
          "output_type": "execute_result",
          "data": {
            "text/plain": [
              "True"
            ]
          },
          "metadata": {
            "tags": []
          },
          "execution_count": 27
        }
      ]
    },
    {
      "cell_type": "code",
      "metadata": {
        "id": "hKTk4LjaU5yO",
        "colab": {
          "base_uri": "https://localhost:8080/"
        },
        "outputId": "7c3af68d-bc6b-4971-8017-ed4f58af5dac"
      },
      "source": [
        "2 + 2 != 4  # For \"not equal\", Python uses the operation `!=`."
      ],
      "execution_count": null,
      "outputs": [
        {
          "output_type": "execute_result",
          "data": {
            "text/plain": [
              "False"
            ]
          },
          "metadata": {
            "tags": []
          },
          "execution_count": 28
        }
      ]
    },
    {
      "cell_type": "code",
      "metadata": {
        "id": "UsJtoToLU5yO",
        "colab": {
          "base_uri": "https://localhost:8080/"
        },
        "outputId": "c2ea2c34-ce0a-46b0-d9e8-91b55d8e5a93"
      },
      "source": [
        "2 + 2 != 5  # Is 2+2 *not* equal to 5?"
      ],
      "execution_count": null,
      "outputs": [
        {
          "output_type": "execute_result",
          "data": {
            "text/plain": [
              "True"
            ]
          },
          "metadata": {
            "tags": []
          },
          "execution_count": 29
        }
      ]
    },
    {
      "cell_type": "code",
      "metadata": {
        "id": "tVfKlWT_U5yO",
        "colab": {
          "base_uri": "https://localhost:8080/"
        },
        "outputId": "4f2653e9-dc52-487e-a5a2-e993725822c9"
      },
      "source": [
        "not (2 + 2 == 5)  # The same as above, but a bit longer to write."
      ],
      "execution_count": null,
      "outputs": [
        {
          "output_type": "execute_result",
          "data": {
            "text/plain": [
              "True"
            ]
          },
          "metadata": {
            "tags": []
          },
          "execution_count": 30
        }
      ]
    },
    {
      "cell_type": "markdown",
      "metadata": {
        "id": "uwxFqT9uU5yO"
      },
      "source": [
        "Experiment below to see how Python handles a double or triple negative, i.e., something with a `not` `not`."
      ]
    },
    {
      "cell_type": "code",
      "metadata": {
        "id": "nD-RgY0CU5yP",
        "colab": {
          "base_uri": "https://localhost:8080/"
        },
        "outputId": "80e9b703-014a-4ad6-8e5d-8a78c4e540c4"
      },
      "source": [
        "not not not (2 + 5 == 7)# Experiment here.\n"
      ],
      "execution_count": null,
      "outputs": [
        {
          "output_type": "execute_result",
          "data": {
            "text/plain": [
              "False"
            ]
          },
          "metadata": {
            "tags": []
          },
          "execution_count": 34
        }
      ]
    },
    {
      "cell_type": "markdown",
      "metadata": {
        "id": "5xxO21m1U5yP"
      },
      "source": [
        "Python does give an interpretation to arithmetic operations with booleans and numbers.  Try to guess this interpretation with the following examples.  Change the examples to experiment!"
      ]
    },
    {
      "cell_type": "code",
      "metadata": {
        "id": "Y2lLPpdWU5yP",
        "colab": {
          "base_uri": "https://localhost:8080/"
        },
        "outputId": "90ac0020-9e61-4e2b-80b7-4cdbb4d2230a"
      },
      "source": [
        "False * 100"
      ],
      "execution_count": null,
      "outputs": [
        {
          "output_type": "execute_result",
          "data": {
            "text/plain": [
              "0"
            ]
          },
          "metadata": {
            "tags": []
          },
          "execution_count": 35
        }
      ]
    },
    {
      "cell_type": "code",
      "metadata": {
        "id": "5y3rtwrdU5yP",
        "colab": {
          "base_uri": "https://localhost:8080/"
        },
        "outputId": "6639a1d9-0cb8-4831-d621-d3448d8a5bf7"
      },
      "source": [
        "True + 13"
      ],
      "execution_count": null,
      "outputs": [
        {
          "output_type": "execute_result",
          "data": {
            "text/plain": [
              "14"
            ]
          },
          "metadata": {
            "tags": []
          },
          "execution_count": 36
        }
      ]
    },
    {
      "cell_type": "markdown",
      "metadata": {
        "id": "QOkU3A_fU5yP"
      },
      "source": [
        "This ability of Python to interpret operations based on context is a mixed blessing.  On one hand, it leads to handy shortcuts -- quick ways of writing complicated programs.  On the other hand, it can lead to code that is harder to read, especially for a Python novice.  Good programmers aim for code that is easy to read, not just short!\n",
        "\n",
        "The [Zen of Python](https://www.python.org/dev/peps/pep-0020/) is a series of 20 aphorisms for Python programmers.  The first seven are below.\n",
        "\n",
        "> Beautiful is better than ugly.\n",
        "\n",
        "> Explicit is better than implicit.\n",
        "\n",
        "> Simple is better than complex.\n",
        "\n",
        "> Complex is better than complicated.\n",
        "\n",
        "> Flat is better than nested.\n",
        "\n",
        "> Sparse is better than dense.\n",
        "\n",
        "> Readability counts."
      ]
    },
    {
      "cell_type": "markdown",
      "metadata": {
        "id": "_5mUQ1tCU5yP"
      },
      "source": [
        "### Exercises\n",
        "\n",
        "1.  Did you look at the truth tables closely?  Can you remember, from memory, what `True or False` equals, or what `True and False` equals?  \n",
        "\n",
        "\n",
        "2.  How might you easily remember the truth tables?  How do they resemble the standard English usage of the words \"and\" and \"or\"?\n",
        "\n",
        "3.  If you wanted to know whether a number, like 2349872348723, is a multiple of 7 but **not** a multiple of 11, how might you write this in one line of Python code?\n",
        "\n",
        "4.  You can chain together `and` commands, e.g., with an expression like `True and True and True` (which would evaluate to `True`).  You can also group booleans, e.g., with `True and (True or False)`.  Experiment to figure out the order of operations (`and`, `or`, `not`) for booleans.\n",
        "\n",
        "6.  The operation `xor` means \"exclusive or\".  Its truth table is: `True xor True = False` and `False xor False = False` and `True xor False = True` and `False xor True = True`.  How might you implement `xor` in terms of the usual `and`, `or`, and `not`?\n",
        "\n"
      ]
    },
    {
      "cell_type": "markdown",
      "metadata": {
        "id": "owWkn3ieU5yP"
      },
      "source": [
        "###  Solutions\n",
        "\n",
        "(Edit here to give solutions to the exercises)\n"
      ]
    },
    {
      "cell_type": "markdown",
      "metadata": {
        "id": "76MsnNoqp_hf"
      },
      "source": [
        "#### 1. \n",
        "\n",
        "Yes, I need to remember the truth table in Math 100 course. From my memory, `True or False` equals `True` and `True and False` equals `False`."
      ]
    },
    {
      "cell_type": "markdown",
      "metadata": {
        "id": "5DYmV8IvqE5F"
      },
      "source": [
        "#### 2. \n",
        "\n",
        "I can remember the \"and\" and \"or\" truth table by only remember one thing: in an \"and\" Truth Table, only `True and True` is **True**, but in an \"or\" Truth Table, only `False or False` is **False**. We can explain it by the standard English usage. The word \"and\" means \"both of them\", so we have to make both of them true in order to claim the statemnet is true. On the other hand, the word \"or\" means \"either one of them\", so the only case to claim it is false is to set both of them False."
      ]
    },
    {
      "cell_type": "markdown",
      "metadata": {
        "id": "X_86ToPvqMew"
      },
      "source": [
        "#### 3. \n",
        "\n",
        "We can write a *bool* line to test it:\n",
        "\n",
        "\n",
        "```\n",
        "(2349872348723 % 7 == 0) and (2349872348723 % 11 == 0)\n",
        "```\n"
      ]
    },
    {
      "cell_type": "code",
      "metadata": {
        "colab": {
          "base_uri": "https://localhost:8080/"
        },
        "id": "8TY9HliPEuSE",
        "outputId": "7a4b00dc-ed65-4837-cf2b-f84fb7292a83"
      },
      "source": [
        "(2349872348723 % 7 == 0) and (2349872348723 % 11 == 0) #code for question 3"
      ],
      "execution_count": null,
      "outputs": [
        {
          "output_type": "execute_result",
          "data": {
            "text/plain": [
              "False"
            ]
          },
          "metadata": {
            "tags": []
          },
          "execution_count": 41
        }
      ]
    },
    {
      "cell_type": "markdown",
      "metadata": {
        "id": "CLGzvXYNNvLU"
      },
      "source": [
        "#### 4. \n",
        "\n",
        "According to the following code I runs for Question 4. The order of operations (and, or, not) for booleans is **\"not\" runs first, \"and\" runs second, and the last one is \"or\"**\n",
        "."
      ]
    },
    {
      "cell_type": "code",
      "metadata": {
        "colab": {
          "base_uri": "https://localhost:8080/"
        },
        "id": "Ugi1D8fZFqZP",
        "outputId": "5b910b17-de41-4090-f14c-828ddf956212"
      },
      "source": [
        "True or False and False # 'and' runs first in order to make this statement True -- Question 4"
      ],
      "execution_count": null,
      "outputs": [
        {
          "output_type": "execute_result",
          "data": {
            "text/plain": [
              "True"
            ]
          },
          "metadata": {
            "tags": []
          },
          "execution_count": 65
        }
      ]
    },
    {
      "cell_type": "code",
      "metadata": {
        "colab": {
          "base_uri": "https://localhost:8080/"
        },
        "id": "C1-sw27XGSG_",
        "outputId": "9e536bcf-cc73-42e7-c7c9-56a58306ea6f"
      },
      "source": [
        "(True or False) and False # use \"()\" to make \"or\" runs first to check the previous answer -- Question 4"
      ],
      "execution_count": null,
      "outputs": [
        {
          "output_type": "execute_result",
          "data": {
            "text/plain": [
              "False"
            ]
          },
          "metadata": {
            "tags": []
          },
          "execution_count": 64
        }
      ]
    },
    {
      "cell_type": "code",
      "metadata": {
        "colab": {
          "base_uri": "https://localhost:8080/"
        },
        "id": "GONdBLXqHPrh",
        "outputId": "8fdd1a4c-375c-4a23-c1b8-81fe0034915d"
      },
      "source": [
        "not False and False # \"not\" runs first in order to make this statement False -- Question 4"
      ],
      "execution_count": null,
      "outputs": [
        {
          "output_type": "execute_result",
          "data": {
            "text/plain": [
              "False"
            ]
          },
          "metadata": {
            "tags": []
          },
          "execution_count": 63
        }
      ]
    },
    {
      "cell_type": "code",
      "metadata": {
        "colab": {
          "base_uri": "https://localhost:8080/"
        },
        "id": "eugV24QrHipg",
        "outputId": "01428544-e673-4016-9985-271be052738e"
      },
      "source": [
        "not (False and False) # use \"()\" to make \"and\" runs first to check the previous answer. -- Question 4"
      ],
      "execution_count": null,
      "outputs": [
        {
          "output_type": "execute_result",
          "data": {
            "text/plain": [
              "True"
            ]
          },
          "metadata": {
            "tags": []
          },
          "execution_count": 62
        }
      ]
    },
    {
      "cell_type": "code",
      "metadata": {
        "colab": {
          "base_uri": "https://localhost:8080/"
        },
        "id": "Fdg5iMIRL75H",
        "outputId": "6b898e7b-4a62-421b-86da-aaca64b3ca0d"
      },
      "source": [
        "not True or True # \"not\" runs first in order to make this statement True -- Question 4"
      ],
      "execution_count": null,
      "outputs": [
        {
          "output_type": "execute_result",
          "data": {
            "text/plain": [
              "True"
            ]
          },
          "metadata": {
            "tags": []
          },
          "execution_count": 61
        }
      ]
    },
    {
      "cell_type": "code",
      "metadata": {
        "colab": {
          "base_uri": "https://localhost:8080/"
        },
        "id": "Uu0Hxf2NMGA8",
        "outputId": "9cebd9d4-19bb-4a9b-abc1-8706c5cf1edc"
      },
      "source": [
        "not (True or True) # use \"()\" to make \"or\" runs first to check the previous answer. -- Question 4"
      ],
      "execution_count": null,
      "outputs": [
        {
          "output_type": "execute_result",
          "data": {
            "text/plain": [
              "False"
            ]
          },
          "metadata": {
            "tags": []
          },
          "execution_count": 60
        }
      ]
    },
    {
      "cell_type": "markdown",
      "metadata": {
        "id": "JQmtWBJYN9w9"
      },
      "source": [
        "#### 5. \n",
        "\n",
        "According to the Question, we can get the `xor` Truth Table:\n",
        "    \n",
        "| p | q | xor |\n",
        "|-----|------|-------|\n",
        "| True| True | False |\n",
        "| True | False | True|\n",
        "| False| True | True|\n",
        "|False|False|False|\n",
        "\n",
        "From the `xor`Truth Table, we can get:\n",
        "\n",
        " `p xor q is true if (not p and q) or (p and not q)`\n",
        "\n",
        "\n"
      ]
    },
    {
      "cell_type": "markdown",
      "metadata": {
        "id": "k69tL17JU5yP"
      },
      "source": [
        "# Declaring variables"
      ]
    },
    {
      "cell_type": "markdown",
      "metadata": {
        "id": "UjI-5d00U5yP"
      },
      "source": [
        "A central feature of programming is the declaration of variables.  When you declare a variable, you are *storing* data in the computer's *memory* and you are assigning a *name* to that data.  Both storage and name-assignment are carried out with the *single* equality symbol =."
      ]
    },
    {
      "cell_type": "code",
      "metadata": {
        "id": "hkwJHNVpU5yQ"
      },
      "source": [
        "e = 2.71828"
      ],
      "execution_count": null,
      "outputs": []
    },
    {
      "cell_type": "markdown",
      "metadata": {
        "id": "gY-LejB4U5yQ"
      },
      "source": [
        "With this command, the float 2.71828 is stored somewhere inside your computer, and Python can access this stored number by the name \"e\" thereafter.  So if you want to compute \"e squared\", a single command will do."
      ]
    },
    {
      "cell_type": "code",
      "metadata": {
        "id": "2ZJ7VtIwU5yQ",
        "colab": {
          "base_uri": "https://localhost:8080/"
        },
        "outputId": "b770f23e-1c4c-465a-80c8-bf515a54e401"
      },
      "source": [
        "e * e"
      ],
      "execution_count": null,
      "outputs": [
        {
          "output_type": "execute_result",
          "data": {
            "text/plain": [
              "7.3890461584"
            ]
          },
          "metadata": {
            "tags": []
          },
          "execution_count": 8
        }
      ]
    },
    {
      "cell_type": "code",
      "metadata": {
        "id": "G46Ma5fCU5yQ",
        "colab": {
          "base_uri": "https://localhost:8080/"
        },
        "outputId": "c2c049f0-aed7-41be-e982-371b0fd9204b"
      },
      "source": [
        "type(e)"
      ],
      "execution_count": null,
      "outputs": [
        {
          "output_type": "execute_result",
          "data": {
            "text/plain": [
              "float"
            ]
          },
          "metadata": {
            "tags": []
          },
          "execution_count": 9
        }
      ]
    },
    {
      "cell_type": "markdown",
      "metadata": {
        "id": "cWVyUzZxU5yQ"
      },
      "source": [
        "You can use just about any name you want for a variable, but your name *must* start with a letter, *must* not contain spaces, and your name *must* not be an existing Python word.  Characters in a variable name can include letters (uppercase and lowercase) and numbers and underscores `_`.  \n",
        "\n",
        "So `e` is a valid name for a variable, but `type` is a bad name.  It is very tempting for beginners to use very short abbreviation-style names for variables (like `dx` or `vbn`).  But resist that temptation and use more descriptive names for variables, like `difference_x` or `very_big_number`.  This will make your code readable by you and others!\n",
        "\n",
        "There are different style conventions for variable names.  We use lowercase names, with underscores separating words,  roughly following [Google's style conventions](https://google.github.io/styleguide/pyguide.html#Python_Style_Rules) for Python code."
      ]
    },
    {
      "cell_type": "code",
      "metadata": {
        "id": "yQN7N7ZPU5yQ"
      },
      "source": [
        "my_number = 17"
      ],
      "execution_count": null,
      "outputs": []
    },
    {
      "cell_type": "code",
      "metadata": {
        "id": "FitPq8UNU5yQ",
        "colab": {
          "base_uri": "https://localhost:8080/"
        },
        "outputId": "93bc6692-1053-492d-822a-c628babdb1d1"
      },
      "source": [
        "my_number < 23"
      ],
      "execution_count": null,
      "outputs": [
        {
          "output_type": "execute_result",
          "data": {
            "text/plain": [
              "True"
            ]
          },
          "metadata": {
            "tags": []
          },
          "execution_count": 11
        }
      ]
    },
    {
      "cell_type": "markdown",
      "metadata": {
        "id": "ne_mUsdnU5yQ"
      },
      "source": [
        "After you declare a variable, its value remains the same until it is changed.  You can change the value of a variable with a simple assignment.  After the above lines, the value of my_number is 17."
      ]
    },
    {
      "cell_type": "code",
      "metadata": {
        "id": "Eu-rHwt0U5yQ"
      },
      "source": [
        "my_number = 3.14"
      ],
      "execution_count": null,
      "outputs": []
    },
    {
      "cell_type": "markdown",
      "metadata": {
        "id": "cqgxOyyEU5yQ"
      },
      "source": [
        "This command reassigns the value of my_number to 3.14.  Note that it changes the type too!  It effectively overrides the previous value and replaces it with the new value.\n",
        "\n",
        "Often it is useful to change the value of a variable *incrementally* or *recursively*.  Python, like many programming languages, allows one to assign variables in a self-referential way.  What do you think the value of S will be after the following four lines?"
      ]
    },
    {
      "cell_type": "code",
      "metadata": {
        "id": "zW6_fRoxU5yR",
        "colab": {
          "base_uri": "https://localhost:8080/"
        },
        "outputId": "ff976f74-01f0-42cc-cca2-8b010a15451d"
      },
      "source": [
        "S = 0\n",
        "S = S + 1\n",
        "S = S + 2\n",
        "S = S + 3\n",
        "print(S)"
      ],
      "execution_count": null,
      "outputs": [
        {
          "output_type": "stream",
          "text": [
            "6\n"
          ],
          "name": "stdout"
        }
      ]
    },
    {
      "cell_type": "markdown",
      "metadata": {
        "id": "cX1eo3jZU5yR"
      },
      "source": [
        "The first line `S = 0` is the initial declaration:  the value 0 is stored in memory, and the name S is assigned to this value.\n",
        "\n",
        "The next line `S = S + 1` looks like nonsense, as an algebraic sentence.  But reading = as **assignment** rather than **equality**, you should read the line `S = S + 1` as assigning the *value* `S + 1` to the *name* `S`.  When Python interprets `S = S + 1`, it carries out the following steps.\n",
        "\n",
        "1.  Compute the value of the right side, `S+1`.  (The value is 1, since `S` was assigned the value 0 in the previous line.)\n",
        "2.  Assign this value to the left side, `S`.  (Now `S` has the value 1.)\n",
        "\n",
        "Well, this is a slight lie.  Python probably does something more efficient, when given the command `S = S + 1`, since such operations are hard-wired in the computer and the Python interpreter is smart enough to take the most efficient route.  But at this level, it is most useful to think of a self-referential assignment of the form `X = expression(X)` as a two step process as above.\n",
        "\n",
        "1.  Compute the value of `expression(X)`.\n",
        "2.  Assign this value to `X`."
      ]
    },
    {
      "cell_type": "markdown",
      "metadata": {
        "id": "82NT9vo2U5yR"
      },
      "source": [
        "Now consider the following three commands."
      ]
    },
    {
      "cell_type": "code",
      "metadata": {
        "id": "CbT40NiuU5yR"
      },
      "source": [
        "my_number = 17\n",
        "new_number = my_number + 1\n",
        "my_number = 3.14"
      ],
      "execution_count": null,
      "outputs": []
    },
    {
      "cell_type": "markdown",
      "metadata": {
        "id": "yQz42J2dU5yR"
      },
      "source": [
        "What are the values of the variables my_number and new_number, after the execution of these three lines?\n",
        "\n",
        "To access these values, you can use the *print* function."
      ]
    },
    {
      "cell_type": "code",
      "metadata": {
        "id": "5J4rfa08U5yR",
        "colab": {
          "base_uri": "https://localhost:8080/"
        },
        "outputId": "5a3526e5-321b-45e0-d311-c5352cc94cce"
      },
      "source": [
        "print(my_number)\n",
        "print(new_number)"
      ],
      "execution_count": null,
      "outputs": [
        {
          "output_type": "stream",
          "text": [
            "3.14\n",
            "18\n"
          ],
          "name": "stdout"
        }
      ]
    },
    {
      "cell_type": "markdown",
      "metadata": {
        "id": "DbEoFnjnU5yR"
      },
      "source": [
        "Python is an *interpreted* language, which carries out commands line-by-line from top to bottom.  So consider the three lines\n",
        "\n",
        "``` python\n",
        "my_number = 17\n",
        "new_number = my_number + 1\n",
        "my_number = 3.14\n",
        "```\n",
        "\n",
        "Line 1 sets the value of my_number to 17.  Line 2 sets the value of new_number to 18.  Line 3 sets the value of my_number to 3.14.  But Line 3 does *not* change the value of new_number at all.\n",
        "\n",
        "(This will become confusing and complicated later, as we study mutable and immutable types.)"
      ]
    },
    {
      "cell_type": "markdown",
      "metadata": {
        "id": "PFA4Q7SiU5yR"
      },
      "source": [
        "### Exercises\n",
        "\n",
        "1.  What is the difference between `=` and `==` in the Python language?\n",
        "\n",
        "2.  If the variable `x` has value `3`, and you then evaluate the Python command `x = x * x`, what will be the value of `x` after evaluation?\n",
        "\n",
        "3.  Imagine you have two variables `a` and `b`, and you want to switch their values.  How could you do this in Python?\n",
        "\n",
        "4.  Kepler's third law states that for a planet in circular orbit around an object of mass $M$, one has $4 \\pi^2 r^3 = G M t^2$.  We can use this to estimate the mass of the sun, from other astronomically observable quantities.  Look up $G$ (the gravitational constant, estimated by experiment on Earth) and $r$ (the distance from the Earth to the sun, in meters).  Compute $t$, the number of seconds it takes for the Earth to go around the sun (365.25 days).  Finally use all of this to estimate $M$, the mass of the sun.  Your solution should use 5-10 lines of Python code."
      ]
    },
    {
      "cell_type": "markdown",
      "metadata": {
        "id": "sIeJz7hUU5yR"
      },
      "source": [
        "### Solutions\n",
        "\n",
        "(Use this space to work on the exercises.  Place more code and text cells above as needed.)"
      ]
    },
    {
      "cell_type": "markdown",
      "metadata": {
        "id": "oZgGlrJE2aTm"
      },
      "source": [
        "#### 1.\n",
        "\n",
        "- “=” is use as a assignment operator. This will assign the left-side value equals the right-side value.\n",
        "\n",
        "- \"==\" uses to check if the value of two sides are equal. And it will get an *bool* output"
      ]
    },
    {
      "cell_type": "code",
      "metadata": {
        "id": "hrh8uDX_40Dz"
      },
      "source": [
        "a = 3 # a will be assigned to be 3"
      ],
      "execution_count": null,
      "outputs": []
    },
    {
      "cell_type": "code",
      "metadata": {
        "colab": {
          "base_uri": "https://localhost:8080/"
        },
        "id": "fytG54WH4eJN",
        "outputId": "4a414c12-32aa-490c-a256-431394f2ef30"
      },
      "source": [
        "1+3 == 3 # to check if the two sides are equal."
      ],
      "execution_count": null,
      "outputs": [
        {
          "output_type": "execute_result",
          "data": {
            "text/plain": [
              "False"
            ]
          },
          "metadata": {
            "tags": []
          },
          "execution_count": 21
        }
      ]
    },
    {
      "cell_type": "markdown",
      "metadata": {
        "id": "pCRlMZq_5XyA"
      },
      "source": [
        "#### 2.\n",
        "\n"
      ]
    },
    {
      "cell_type": "code",
      "metadata": {
        "colab": {
          "base_uri": "https://localhost:8080/"
        },
        "id": "b5arDxP45qbY",
        "outputId": "5fb2e1fa-298b-4c46-c691-0526a81d839a"
      },
      "source": [
        "x = 3\n",
        "x = x * x\n",
        "print(x) # now the value of x is 9"
      ],
      "execution_count": null,
      "outputs": [
        {
          "output_type": "stream",
          "text": [
            "9\n"
          ],
          "name": "stdout"
        }
      ]
    },
    {
      "cell_type": "markdown",
      "metadata": {
        "id": "4meOSnGV53Ur"
      },
      "source": [
        "#### 3.\n",
        "\n"
      ]
    },
    {
      "cell_type": "code",
      "metadata": {
        "colab": {
          "base_uri": "https://localhost:8080/",
          "height": 0
        },
        "id": "zOXnSaK26Z2x",
        "outputId": "1b3da2d5-37bd-4706-c540-6578ea6ce2e0"
      },
      "source": [
        "a = 7\n",
        "b = 11\n",
        "\n",
        "a,b = b,a\n",
        "\n",
        "print(\"a =\", a)\n",
        "print(\"b =\", b)"
      ],
      "execution_count": 88,
      "outputs": [
        {
          "output_type": "stream",
          "text": [
            "a = 11\n",
            "b = 7\n"
          ],
          "name": "stdout"
        }
      ]
    },
    {
      "cell_type": "markdown",
      "metadata": {
        "id": "SPdj1__a8MlJ"
      },
      "source": [
        "#### 4."
      ]
    },
    {
      "cell_type": "code",
      "metadata": {
        "colab": {
          "base_uri": "https://localhost:8080/",
          "height": 0
        },
        "id": "r62g4oT68O1G",
        "outputId": "14c9b8d7-418e-4912-b9cb-d990106000be"
      },
      "source": [
        "from math import pi\n",
        "G = 6.67430 *15 * (10**-11)\n",
        "r = 1.496 * (10**11)\n",
        "t = 365.25 * 24 * 60 * 60\n",
        "M = (4 * (pi**2) * (r**3)) / (G * (t**2))\n",
        "print(M)"
      ],
      "execution_count": 87,
      "outputs": [
        {
          "output_type": "stream",
          "text": [
            "1.3257132607015468e+29\n"
          ],
          "name": "stdout"
        }
      ]
    },
    {
      "cell_type": "markdown",
      "metadata": {
        "id": "b81C2aIPU5yS"
      },
      "source": [
        "# Lists and ranges"
      ]
    },
    {
      "cell_type": "markdown",
      "metadata": {
        "id": "iZoKvbn0U5yS"
      },
      "source": [
        "Python stands out for the central role played by *lists*.  A *list* is what it sounds like -- a list of data.  Data within a list can be of any type.  Multiple types are possible within the same list!  The basic syntax for a list is to use brackets to enclose the list items and commas to separate the list items."
      ]
    },
    {
      "cell_type": "code",
      "metadata": {
        "id": "MQRMJWrgU5yS",
        "colab": {
          "base_uri": "https://localhost:8080/"
        },
        "outputId": "435663ba-9850-41be-8829-832dce8b239e"
      },
      "source": [
        "type([1,2,3])"
      ],
      "execution_count": null,
      "outputs": [
        {
          "output_type": "execute_result",
          "data": {
            "text/plain": [
              "list"
            ]
          },
          "metadata": {
            "tags": []
          },
          "execution_count": 38
        }
      ]
    },
    {
      "cell_type": "code",
      "metadata": {
        "id": "BkTCBWhsU5yS",
        "colab": {
          "base_uri": "https://localhost:8080/"
        },
        "outputId": "3c6b51b2-075b-40b0-bd86-854ce41a0f4c"
      },
      "source": [
        "type(['Hello',17])"
      ],
      "execution_count": null,
      "outputs": [
        {
          "output_type": "execute_result",
          "data": {
            "text/plain": [
              "list"
            ]
          },
          "metadata": {
            "tags": []
          },
          "execution_count": 39
        }
      ]
    },
    {
      "cell_type": "markdown",
      "metadata": {
        "id": "DH51tlMvU5yS"
      },
      "source": [
        "There is another type called a *tuple* that we will use less often.  Tuples use parentheses for enclosure instead of brackets."
      ]
    },
    {
      "cell_type": "code",
      "metadata": {
        "id": "8m1KBuRNU5yS",
        "colab": {
          "base_uri": "https://localhost:8080/"
        },
        "outputId": "7c76a3f1-a581-4b34-9a7d-3b22d585fc38"
      },
      "source": [
        "type((1,2,3))"
      ],
      "execution_count": null,
      "outputs": [
        {
          "output_type": "execute_result",
          "data": {
            "text/plain": [
              "tuple"
            ]
          },
          "metadata": {
            "tags": []
          },
          "execution_count": 40
        }
      ]
    },
    {
      "cell_type": "markdown",
      "metadata": {
        "id": "sFZr5TtpU5yS"
      },
      "source": [
        "There's another list-like type in Python 3, called the `range` type.  Ranges are kind of like lists, but instead of plunking every item into a slot of memory, ranges just have to remember three integers:  their *start*, their *stop*, and their *step*.    \n",
        "\n",
        "The `range` command creates a range with a given start, stop, and step.  If you only input one number, the range will ***start at zero*** and use ***steps of one*** and will stop ***just before*** the given stop-number.\n",
        "\n",
        "One can create a list from a range (plunking every term in the range into a slot of memory), by using the `list` command.  Here are a few examples."
      ]
    },
    {
      "cell_type": "code",
      "metadata": {
        "id": "0N_HejMiU5yS",
        "colab": {
          "base_uri": "https://localhost:8080/"
        },
        "outputId": "a32a34ac-748f-4f91-f25b-75a1fec67a3c"
      },
      "source": [
        "type(range(10)) # Ranges are their own type, in Python 3.x.  Not in Python 2.x!"
      ],
      "execution_count": null,
      "outputs": [
        {
          "output_type": "execute_result",
          "data": {
            "text/plain": [
              "range"
            ]
          },
          "metadata": {
            "tags": []
          },
          "execution_count": 41
        }
      ]
    },
    {
      "cell_type": "code",
      "metadata": {
        "id": "XzlQhL4eU5yS",
        "colab": {
          "base_uri": "https://localhost:8080/"
        },
        "outputId": "6d2a6ccb-1405-47d0-f308-e53d95611c36"
      },
      "source": [
        "list(range(10)) # Let's see what's in the range.  Note it starts at zero!  Where does it stop?"
      ],
      "execution_count": null,
      "outputs": [
        {
          "output_type": "execute_result",
          "data": {
            "text/plain": [
              "[0, 1, 2, 3, 4, 5, 6, 7, 8, 9]"
            ]
          },
          "metadata": {
            "tags": []
          },
          "execution_count": 42
        }
      ]
    },
    {
      "cell_type": "markdown",
      "metadata": {
        "id": "7-TeavRKU5yS"
      },
      "source": [
        "A more complicated two-input form of the range command produces a range of integers **starting at** a given number, and **terminating before** another given number."
      ]
    },
    {
      "cell_type": "code",
      "metadata": {
        "id": "fpHHkb82U5yT",
        "colab": {
          "base_uri": "https://localhost:8080/"
        },
        "outputId": "0b89c05a-dbe9-409c-f0b4-e10a8f993104"
      },
      "source": [
        "list(range(3,10))"
      ],
      "execution_count": null,
      "outputs": [
        {
          "output_type": "execute_result",
          "data": {
            "text/plain": [
              "[3, 4, 5, 6, 7, 8, 9]"
            ]
          },
          "metadata": {
            "tags": []
          },
          "execution_count": 1
        }
      ]
    },
    {
      "cell_type": "code",
      "metadata": {
        "id": "O5A8XZFxU5yT",
        "colab": {
          "base_uri": "https://localhost:8080/"
        },
        "outputId": "fb9a06b3-5453-4e34-a048-2ea715e166b3"
      },
      "source": [
        "list(range(-4,5))"
      ],
      "execution_count": null,
      "outputs": [
        {
          "output_type": "execute_result",
          "data": {
            "text/plain": [
              "[-4, -3, -2, -1, 0, 1, 2, 3, 4]"
            ]
          },
          "metadata": {
            "tags": []
          },
          "execution_count": 2
        }
      ]
    },
    {
      "cell_type": "markdown",
      "metadata": {
        "id": "dRzyphm5U5yT"
      },
      "source": [
        "This is a common source of difficulty for Python beginners.  While the first parameter (-4) is the starting point of the list, the list ends just before the second parameter (5).  This takes some getting used to, but experienced Python programmers grow to like this convention."
      ]
    },
    {
      "cell_type": "markdown",
      "metadata": {
        "id": "XderpNFAU5yT"
      },
      "source": [
        "The *length* of a list can be accessed by the len command."
      ]
    },
    {
      "cell_type": "code",
      "metadata": {
        "id": "-xjzFOxWU5yT",
        "colab": {
          "base_uri": "https://localhost:8080/"
        },
        "outputId": "ea278694-615a-459a-c86f-26d8c4ce6cab"
      },
      "source": [
        "len([2,4,6])"
      ],
      "execution_count": null,
      "outputs": [
        {
          "output_type": "execute_result",
          "data": {
            "text/plain": [
              "3"
            ]
          },
          "metadata": {
            "tags": []
          },
          "execution_count": 6
        }
      ]
    },
    {
      "cell_type": "code",
      "metadata": {
        "id": "1IG2dOJeU5yT",
        "colab": {
          "base_uri": "https://localhost:8080/"
        },
        "outputId": "986a6f8d-b6a3-42b8-e0d7-64d0c127ebb4"
      },
      "source": [
        "len(range(10))  # The len command can deal with lists and ranges.  No need to convert."
      ],
      "execution_count": null,
      "outputs": [
        {
          "output_type": "execute_result",
          "data": {
            "text/plain": [
              "10"
            ]
          },
          "metadata": {
            "tags": []
          },
          "execution_count": 3
        }
      ]
    },
    {
      "cell_type": "code",
      "metadata": {
        "id": "N9lCN8-bU5yT",
        "colab": {
          "base_uri": "https://localhost:8080/"
        },
        "outputId": "8da0ef71-87fe-498c-e4c0-b45b7f038f57"
      },
      "source": [
        "len(range(10,100)) # Can you figure out the length, before evaluating?"
      ],
      "execution_count": null,
      "outputs": [
        {
          "output_type": "execute_result",
          "data": {
            "text/plain": [
              "90"
            ]
          },
          "metadata": {
            "tags": []
          },
          "execution_count": 8
        }
      ]
    },
    {
      "cell_type": "markdown",
      "metadata": {
        "id": "zW4aiYaAU5yT"
      },
      "source": [
        "The final variant of the range command (for now) is the *three-parameter* command of the form `range(a,b,s)`.  This produces a list like `range(a,b)`, but with a \"step size\" of `s`.  In other words, it produces a list of integers, beginning at `a`, increasing by `s` from one entry to the next, and going up to (but not including) `b`.  It is best to experiment a bit to get the feel for it!"
      ]
    },
    {
      "cell_type": "code",
      "metadata": {
        "id": "RjmZQRmtU5yT",
        "colab": {
          "base_uri": "https://localhost:8080/"
        },
        "outputId": "6a200d9e-f7ad-4f5e-b302-99210344b1e0"
      },
      "source": [
        "list(range(1,10,2))"
      ],
      "execution_count": null,
      "outputs": [
        {
          "output_type": "execute_result",
          "data": {
            "text/plain": [
              "[1, 3, 5, 7, 9]"
            ]
          },
          "metadata": {
            "tags": []
          },
          "execution_count": 4
        }
      ]
    },
    {
      "cell_type": "code",
      "metadata": {
        "id": "UX91kNpoU5yT",
        "colab": {
          "base_uri": "https://localhost:8080/"
        },
        "outputId": "c3730eb1-8b65-4682-f9ff-10c06bb4a7e2"
      },
      "source": [
        "list(range(11,30,2))"
      ],
      "execution_count": null,
      "outputs": [
        {
          "output_type": "execute_result",
          "data": {
            "text/plain": [
              "[11, 13, 15, 17, 19, 21, 23, 25, 27, 29]"
            ]
          },
          "metadata": {
            "tags": []
          },
          "execution_count": 5
        }
      ]
    },
    {
      "cell_type": "code",
      "metadata": {
        "id": "cU6TYerPU5yU",
        "colab": {
          "base_uri": "https://localhost:8080/"
        },
        "outputId": "099b0ffe-3a2b-47af-8df4-0d5801f67da7"
      },
      "source": [
        "list(range(-4,5,3))"
      ],
      "execution_count": null,
      "outputs": [
        {
          "output_type": "execute_result",
          "data": {
            "text/plain": [
              "[-4, -1, 2]"
            ]
          },
          "metadata": {
            "tags": []
          },
          "execution_count": 6
        }
      ]
    },
    {
      "cell_type": "code",
      "metadata": {
        "id": "_RueWhdHU5yU",
        "colab": {
          "base_uri": "https://localhost:8080/"
        },
        "outputId": "5f4b1057-10e1-4296-c9ff-bbcb3a4d1e9b"
      },
      "source": [
        "list(range(10,100,17))"
      ],
      "execution_count": null,
      "outputs": [
        {
          "output_type": "execute_result",
          "data": {
            "text/plain": [
              "[10, 27, 44, 61, 78, 95]"
            ]
          },
          "metadata": {
            "tags": []
          },
          "execution_count": 7
        }
      ]
    },
    {
      "cell_type": "markdown",
      "metadata": {
        "id": "I3otAH2AU5yU"
      },
      "source": [
        "This can be used for descending ranges too, and observe that the final number b in range(a,b,s) is not included."
      ]
    },
    {
      "cell_type": "code",
      "metadata": {
        "id": "LVm1djsTU5yU",
        "colab": {
          "base_uri": "https://localhost:8080/"
        },
        "outputId": "666e449d-2c8e-41f0-8642-5a845e942267"
      },
      "source": [
        "list(range(10,0,-1))"
      ],
      "execution_count": null,
      "outputs": [
        {
          "output_type": "execute_result",
          "data": {
            "text/plain": [
              "[10, 9, 8, 7, 6, 5, 4, 3, 2, 1]"
            ]
          },
          "metadata": {
            "tags": []
          },
          "execution_count": 8
        }
      ]
    },
    {
      "cell_type": "markdown",
      "metadata": {
        "id": "Jp1V-X59U5yU"
      },
      "source": [
        "How many multiples of 7 are between 10 and 100?  We can find out pretty quickly with the range command and the len command (to count)."
      ]
    },
    {
      "cell_type": "code",
      "metadata": {
        "id": "roA4gLoXU5yU",
        "colab": {
          "base_uri": "https://localhost:8080/"
        },
        "outputId": "b2511311-e373-4ec6-8fe1-b1ecf9f62439"
      },
      "source": [
        "list(range(10,100,7))  # What list will this create?  It won't answer the question..."
      ],
      "execution_count": null,
      "outputs": [
        {
          "output_type": "execute_result",
          "data": {
            "text/plain": [
              "[10, 17, 24, 31, 38, 45, 52, 59, 66, 73, 80, 87, 94]"
            ]
          },
          "metadata": {
            "tags": []
          },
          "execution_count": 9
        }
      ]
    },
    {
      "cell_type": "code",
      "metadata": {
        "id": "jybN-evPU5yU",
        "colab": {
          "base_uri": "https://localhost:8080/"
        },
        "outputId": "dc2a1d71-a628-4d2a-f44e-b4c39e5e7429"
      },
      "source": [
        "list(range(14,100,7))  # Starting at 14 gives the multiples of 7."
      ],
      "execution_count": null,
      "outputs": [
        {
          "output_type": "execute_result",
          "data": {
            "text/plain": [
              "[14, 21, 28, 35, 42, 49, 56, 63, 70, 77, 84, 91, 98]"
            ]
          },
          "metadata": {
            "tags": []
          },
          "execution_count": 10
        }
      ]
    },
    {
      "cell_type": "code",
      "metadata": {
        "id": "BdvLmGljU5yU",
        "colab": {
          "base_uri": "https://localhost:8080/"
        },
        "outputId": "4edc9bec-730f-4cce-d2e4-bfe0315a632d"
      },
      "source": [
        "len(range(14,100,7))  # Gives the length of the list, and answers the question!"
      ],
      "execution_count": null,
      "outputs": [
        {
          "output_type": "execute_result",
          "data": {
            "text/plain": [
              "13"
            ]
          },
          "metadata": {
            "tags": []
          },
          "execution_count": 11
        }
      ]
    },
    {
      "cell_type": "markdown",
      "metadata": {
        "id": "dMbcJV5UU5yU"
      },
      "source": [
        "### Exercises\n",
        "\n",
        "1.  If `a` and `b` are integers, what is the length of `range(a,b)`?  Express your answer as a formula involving `a` and `b`.\n",
        "\n",
        "2.  Use a list and range command to produce the list `[1,2,3,4,5,6,7,8,9,10]`.\n",
        "\n",
        "3.  Create the list `[1,2,3,4,5,1,2,3,4,5,1,2,3,4,5,1,2,3,4,5,1,2,3,4,5]` with a single list and range command and another operation.\n",
        "\n",
        "4.  How many multiples of 3 are there between 300 and 3000 (including 300 and 3000)?"
      ]
    },
    {
      "cell_type": "markdown",
      "metadata": {
        "id": "g47CkMF8Y-46"
      },
      "source": [
        "### Solutions"
      ]
    },
    {
      "cell_type": "markdown",
      "metadata": {
        "id": "KZys1ll0ZC50"
      },
      "source": [
        "#### 1\n",
        "\n",
        "\n",
        "\n",
        "```\n",
        "len(range(a,b)) = b - a\n",
        "```\n",
        "\n"
      ]
    },
    {
      "cell_type": "markdown",
      "metadata": {
        "id": "I9vrs2aXZVgT"
      },
      "source": [
        "#### 2"
      ]
    },
    {
      "cell_type": "code",
      "metadata": {
        "colab": {
          "base_uri": "https://localhost:8080/"
        },
        "id": "lFUI0Z10Zdyg",
        "outputId": "60fd3044-0c7f-40db-e914-ec17861f0899"
      },
      "source": [
        "list(range(1,11))"
      ],
      "execution_count": null,
      "outputs": [
        {
          "output_type": "execute_result",
          "data": {
            "text/plain": [
              "[1, 2, 3, 4, 5, 6, 7, 8, 9, 10]"
            ]
          },
          "metadata": {
            "tags": []
          },
          "execution_count": 13
        }
      ]
    },
    {
      "cell_type": "markdown",
      "metadata": {
        "id": "YmfcbFqwZij2"
      },
      "source": [
        "#### 3"
      ]
    },
    {
      "cell_type": "code",
      "metadata": {
        "colab": {
          "base_uri": "https://localhost:8080/"
        },
        "id": "unF-NOF7Zk8o",
        "outputId": "40ce8423-b9a1-4667-b622-1dd5f56c131c"
      },
      "source": [
        "print(5 * list(range(1,6)))"
      ],
      "execution_count": null,
      "outputs": [
        {
          "output_type": "stream",
          "text": [
            "[1, 2, 3, 4, 5, 1, 2, 3, 4, 5, 1, 2, 3, 4, 5, 1, 2, 3, 4, 5, 1, 2, 3, 4, 5]\n"
          ],
          "name": "stdout"
        }
      ]
    },
    {
      "cell_type": "markdown",
      "metadata": {
        "id": "3jg86ve2Z4aa"
      },
      "source": [
        "#### 4"
      ]
    },
    {
      "cell_type": "code",
      "metadata": {
        "id": "T4XHovH9kf4N"
      },
      "source": [
        "list(range(300,3001,3))"
      ],
      "execution_count": null,
      "outputs": []
    },
    {
      "cell_type": "code",
      "metadata": {
        "colab": {
          "base_uri": "https://localhost:8080/"
        },
        "id": "WvZ2qBhoZ7HW",
        "outputId": "d89093a3-13e2-44f3-b6b5-304983d7345e"
      },
      "source": [
        "len(range(300,3001,3)) # There are 901."
      ],
      "execution_count": null,
      "outputs": [
        {
          "output_type": "execute_result",
          "data": {
            "text/plain": [
              "901"
            ]
          },
          "metadata": {
            "tags": []
          },
          "execution_count": 15
        }
      ]
    },
    {
      "cell_type": "markdown",
      "metadata": {
        "id": "ccSW2BGyU5yV"
      },
      "source": [
        "# Iterating over a range"
      ]
    },
    {
      "cell_type": "markdown",
      "metadata": {
        "id": "qoOhvB1rU5yV"
      },
      "source": [
        "Computers are excellent at repetitive reliable tasks.  If we wish to perform a similar computation, many times over, a computer a great tool.  Here we look at a common and simple way to carry out a repetetive computation:  the \"for loop\".  The \"for loop\" *iterates* through items in a list or range, carrying out some action for each item.  Two examples will illustrate."
      ]
    },
    {
      "cell_type": "code",
      "metadata": {
        "id": "mwdKBi3kU5yV",
        "colab": {
          "base_uri": "https://localhost:8080/"
        },
        "outputId": "a0dbaffc-afec-44e2-c52e-ed6429cc2310"
      },
      "source": [
        "for n in [1,2,3,4,5]:\n",
        "    print(n*n)"
      ],
      "execution_count": null,
      "outputs": [
        {
          "output_type": "stream",
          "text": [
            "1\n",
            "4\n",
            "9\n",
            "16\n",
            "25\n"
          ],
          "name": "stdout"
        }
      ]
    },
    {
      "cell_type": "code",
      "metadata": {
        "id": "HC031A4LU5yV",
        "colab": {
          "base_uri": "https://localhost:8080/"
        },
        "outputId": "f53dd36c-22df-4543-e2b7-951cfa6ebe9a"
      },
      "source": [
        "for s in ['I','Am','Python']:\n",
        "    print(s + \"!\")"
      ],
      "execution_count": null,
      "outputs": [
        {
          "output_type": "stream",
          "text": [
            "I!\n",
            "Am!\n",
            "Python!\n"
          ],
          "name": "stdout"
        }
      ]
    },
    {
      "cell_type": "markdown",
      "metadata": {
        "id": "yuctH9OZU5yV"
      },
      "source": [
        "The first loop, **unraveled**, carries out the following sequence of commands."
      ]
    },
    {
      "cell_type": "code",
      "metadata": {
        "id": "UY4izCfvU5yV",
        "colab": {
          "base_uri": "https://localhost:8080/"
        },
        "outputId": "669b7ae3-34f2-4c41-a546-23ead3724217"
      },
      "source": [
        "n = 1\n",
        "print(n*n)\n",
        "n = 2\n",
        "print(n*n)\n",
        "n = 3\n",
        "print(n*n)\n",
        "n = 4\n",
        "print(n*n)\n",
        "n = 5\n",
        "print(n*n)"
      ],
      "execution_count": null,
      "outputs": [
        {
          "output_type": "stream",
          "text": [
            "1\n",
            "4\n",
            "9\n",
            "16\n",
            "25\n"
          ],
          "name": "stdout"
        }
      ]
    },
    {
      "cell_type": "markdown",
      "metadata": {
        "id": "IgnUBVI0U5yV"
      },
      "source": [
        "But the \"for loop\" is more efficient *and* more readable to programmers.  Indeed, it saves the repetition of writing the same command `print(n*n)` over and over again.  It also makes transparent, from the beginning, the range of values that `n` is assigned to.  \n",
        "\n",
        "When you read and write \"for loops\", you should consider how they look unravelled -- that is how Python will carry out the loop.  And when you find yourself faced with a repetetive task, you might consider whether it may be wrapped up in a for loop.  Most of the time, you should try to write code that *never repeats* the same task.  If there is repetition, wrap it in a loop."
      ]
    },
    {
      "cell_type": "markdown",
      "metadata": {
        "id": "M16fubaDU5yV"
      },
      "source": [
        "Try to unravel the loop below, and predict the result, before evaluating the code."
      ]
    },
    {
      "cell_type": "code",
      "metadata": {
        "id": "vOyvFfJcU5yW",
        "colab": {
          "base_uri": "https://localhost:8080/",
          "height": 0
        },
        "outputId": "f90aa4d1-ad4c-4510-f2a9-3fd662596379"
      },
      "source": [
        "P = 1\n",
        "for n in range(1,6):\n",
        "    P = P * n\n",
        "print(P)"
      ],
      "execution_count": 21,
      "outputs": [
        {
          "output_type": "stream",
          "text": [
            "120\n"
          ],
          "name": "stdout"
        }
      ]
    },
    {
      "cell_type": "markdown",
      "metadata": {
        "id": "I79mIz44U5yW"
      },
      "source": [
        "This might have been difficult!  So what if you want to trace through the loop, as it goes?  Sometimes, especially when debugging, it's useful to inspect every step of the loop to see what Python is doing.  We can inspect the loop above, by inserting a print command within the *scope* of the loop."
      ]
    },
    {
      "cell_type": "code",
      "metadata": {
        "id": "C6bVCkZdU5yW",
        "colab": {
          "base_uri": "https://localhost:8080/"
        },
        "outputId": "1b243e4b-2d7e-4be8-876d-a8a725dd780b"
      },
      "source": [
        "P = 1\n",
        "for n in range(1,6):\n",
        "    P = P * n\n",
        "    print(\"n is\",n,\"and P is\",P)\n",
        "print(P)"
      ],
      "execution_count": null,
      "outputs": [
        {
          "output_type": "stream",
          "text": [
            "n is 1 and P is 1\n",
            "n is 2 and P is 2\n",
            "n is 3 and P is 6\n",
            "n is 4 and P is 24\n",
            "n is 5 and P is 120\n",
            "120\n"
          ],
          "name": "stdout"
        }
      ]
    },
    {
      "cell_type": "markdown",
      "metadata": {
        "id": "y8kjJUJAU5yW"
      },
      "source": [
        "Here we have used the *print* command with strings and numbers together.  In Python 3.x, you can print multiple things on the same line by separating them by commas.  The \"things\" can be strings (enclosed by single or double-quotes) and numbers (int, float, etc.)."
      ]
    },
    {
      "cell_type": "code",
      "metadata": {
        "id": "wUu0BH2lU5yW",
        "colab": {
          "base_uri": "https://localhost:8080/",
          "height": 0
        },
        "outputId": "0b33dfb2-bf11-4cb8-cc4d-a1bcaa7ff931"
      },
      "source": [
        "print(\"My favorite number is\",17)"
      ],
      "execution_count": 11,
      "outputs": [
        {
          "output_type": "stream",
          "text": [
            "My favorite number is 17\n"
          ],
          "name": "stdout"
        }
      ]
    },
    {
      "cell_type": "markdown",
      "metadata": {
        "id": "TPCXSm1LU5yW"
      },
      "source": [
        "If we unravel the loop above, the linear sequence of commands interpreted by Python is the following."
      ]
    },
    {
      "cell_type": "code",
      "metadata": {
        "id": "KzUl3ac7U5yW",
        "colab": {
          "base_uri": "https://localhost:8080/",
          "height": 0
        },
        "outputId": "23c8ebe5-8fb3-4fa2-ff12-d7f5f31205a7"
      },
      "source": [
        "P = 1\n",
        "n = 1\n",
        "P = P * n\n",
        "print(\"n is\",n,\"and P is\",P)\n",
        "n = 2\n",
        "P = P * n\n",
        "print(\"n is\",n,\"and P is\",P)\n",
        "n = 3\n",
        "P = P * n\n",
        "print(\"n is\",n,\"and P is\",P)\n",
        "n = 4\n",
        "P = P * n\n",
        "print(\"n is\",n,\"and P is\",P)\n",
        "n = 5\n",
        "P = P * n\n",
        "print(\"n is\",n,\"and P is\",P)\n",
        "print (P)"
      ],
      "execution_count": 12,
      "outputs": [
        {
          "output_type": "stream",
          "text": [
            "n is 1 and P is 1\n",
            "n is 2 and P is 2\n",
            "n is 3 and P is 6\n",
            "n is 4 and P is 24\n",
            "n is 5 and P is 120\n",
            "120\n"
          ],
          "name": "stdout"
        }
      ]
    },
    {
      "cell_type": "markdown",
      "metadata": {
        "id": "44_u1MSrU5yW"
      },
      "source": [
        "Let's analyze the loop syntax in more detail.  \n",
        "```python\n",
        "P = 1\n",
        "for n in range(1,6):\n",
        "    P = P * n  # this command is in the scope of the loop.\n",
        "    print(\"n is\",n,\"and P is\",P)  # this command is in the scope of the loop too!\n",
        "print(P)\n",
        "```\n",
        "The \"for\" command ends with a colon `:`, and the **next two** lines are indented.  The colon and indentation are indicators of **scope**.  The *scope* of the for loop begins after the colon, and includes all indented lines.  The *scope* of the for loop is what is repeated in every step of the loop (in addition to the reassignment of `n`).  "
      ]
    },
    {
      "cell_type": "code",
      "metadata": {
        "id": "jE003_YTU5yW",
        "colab": {
          "base_uri": "https://localhost:8080/",
          "height": 0
        },
        "outputId": "e9897904-1a04-4847-979d-8fdfe121cc22"
      },
      "source": [
        "P = 1\n",
        "for n in range(1,6):\n",
        "    P = P * n  # this command is in the scope of the loop.\n",
        "    print(\"n is\",n,\"and P is\",P)  # this command is in the scope of the loop too!\n",
        "print(P)"
      ],
      "execution_count": 13,
      "outputs": [
        {
          "output_type": "stream",
          "text": [
            "n is 1 and P is 1\n",
            "n is 2 and P is 2\n",
            "n is 3 and P is 6\n",
            "n is 4 and P is 24\n",
            "n is 5 and P is 120\n",
            "120\n"
          ],
          "name": "stdout"
        }
      ]
    },
    {
      "cell_type": "markdown",
      "metadata": {
        "id": "8wXaf4hxU5yW"
      },
      "source": [
        "If we change the indentation, it changes the scope of the for loop.  Predict what the following loop will do, by unraveling, before evaluating it."
      ]
    },
    {
      "cell_type": "code",
      "metadata": {
        "id": "F_FcpC5QU5yX",
        "colab": {
          "base_uri": "https://localhost:8080/",
          "height": 0
        },
        "outputId": "46697603-6234-4bee-d189-133408ae453e"
      },
      "source": [
        "P = 1\n",
        "for n in range(1,6):\n",
        "    P = P * n\n",
        "print(\"n is\",n,\"and P is\",P)\n",
        "print(P)"
      ],
      "execution_count": 14,
      "outputs": [
        {
          "output_type": "stream",
          "text": [
            "n is 5 and P is 120\n",
            "120\n"
          ],
          "name": "stdout"
        }
      ]
    },
    {
      "cell_type": "markdown",
      "metadata": {
        "id": "__tEmpKPU5yX"
      },
      "source": [
        "Scopes can be nested by nesting indentation.  What do you think the following loop will do?  Can you unravel it?"
      ]
    },
    {
      "cell_type": "code",
      "metadata": {
        "id": "9fboPJdAU5yX",
        "colab": {
          "base_uri": "https://localhost:8080/",
          "height": 0
        },
        "outputId": "46a13593-8be8-4058-e167-52a7059d9bab"
      },
      "source": [
        "for x in [1,2,3]:\n",
        "    for y in ['a', 'b']:\n",
        "        print(x,y)"
      ],
      "execution_count": 15,
      "outputs": [
        {
          "output_type": "stream",
          "text": [
            "1 a\n",
            "1 b\n",
            "2 a\n",
            "2 b\n",
            "3 a\n",
            "3 b\n"
          ],
          "name": "stdout"
        }
      ]
    },
    {
      "cell_type": "markdown",
      "metadata": {
        "id": "HmXwPykdU5yX"
      },
      "source": [
        "How might you create a nested loop which prints `1 a` then `2 a` then `3 a` then `1 b` then `2 b` then `3 b`?  Try it below."
      ]
    },
    {
      "cell_type": "code",
      "metadata": {
        "id": "b97leVdkU5yX",
        "colab": {
          "base_uri": "https://localhost:8080/",
          "height": 0
        },
        "outputId": "70bae065-f625-46d7-cdeb-598a7127f034"
      },
      "source": [
        "# Insert your loop here.\n",
        "for y in ['a', 'b']:\n",
        "    for x in [1,2,3]:\n",
        "        print(x,y)"
      ],
      "execution_count": 91,
      "outputs": [
        {
          "output_type": "stream",
          "text": [
            "1 a\n",
            "2 a\n",
            "3 a\n",
            "1 b\n",
            "2 b\n",
            "3 b\n"
          ],
          "name": "stdout"
        }
      ]
    },
    {
      "cell_type": "markdown",
      "metadata": {
        "id": "ofCBY24EU5yX"
      },
      "source": [
        "Among popular programming languages, Python is particular about indentation.  Other languages indicate scope with open/close braces, for example, and indentation is just a matter of style.  By requiring indentation to indicate scope, Python effectively removes the need for open/close braces, and enforces a readable style.\n",
        "\n",
        "We have now encountered data types, operations, variables, and loops.  Taken together, these are powerful tools for computation!  Now complete the following exercises for more practice."
      ]
    },
    {
      "cell_type": "markdown",
      "metadata": {
        "id": "JBr_HgrSU5yX"
      },
      "source": [
        "## Exercises"
      ]
    },
    {
      "cell_type": "markdown",
      "metadata": {
        "id": "FEQTm_WZU5yX"
      },
      "source": [
        "1.  Describe how Python interprets division with remainder when the divisor and/or dividend is negative.\n",
        "2.  What is the remainder when $2^{90}$ is divided by $91$?\n",
        "3.  How many multiples of 13 are there between 1 and 1000?\n",
        "4.  How many *odd* multiples of 13 are there between 1 and 1000?\n",
        "5.  What is the sum of the numbers from 1 to 1000?\n",
        "6.  What is the sum of the squares, from $1 \\cdot 1$ to $1000 \\cdot 1000$?\n",
        "7.  Euler proved that\n",
        "$$\\frac{1}{1^4} + \\frac{1}{2^4} + \\frac{1}{3^4} + \\cdots = \\frac{\\pi^4}{C},$$\n",
        "for some positive integer $C$.  Use Python to guess what $C$ is."
      ]
    },
    {
      "cell_type": "markdown",
      "metadata": {
        "id": "83Mf8bnLYosF"
      },
      "source": [
        "####1\n",
        "Describe how Python interprets division with remainder when the divisor and/or dividend is negative."
      ]
    },
    {
      "cell_type": "markdown",
      "metadata": {
        "id": "hIRvmJKXnCkt"
      },
      "source": [
        "When Python interprets division with reminder when the divisor and dividends is negative, such as \n",
        "\n",
        "\n",
        "\n",
        "```\n",
        "10 % -3  # the output would be -2\n",
        "```\n",
        "We know that the reminder for `10 % -3` is -1. So how does Python get `-2`?\n",
        "\n",
        "Because the way Python think is to if we divide `a` by `b` with a reminder `r`, and this express as `a = q*b + r`. So for the reminder `r`, when b is positive, it can choose between `0` to `b-1`, when b is negative, making r between  `b+1` and `0`.\n",
        "\n",
        "Thus for `10 % -3`, it goes like `10 = (-4) * (-3) - 2` with `r = -2` and `q = -4`.\n"
      ]
    },
    {
      "cell_type": "code",
      "metadata": {
        "colab": {
          "base_uri": "https://localhost:8080/",
          "height": 0
        },
        "id": "C-Pay2l9gGFS",
        "outputId": "5db5a60c-ab64-4459-ac22-ca10e5851224"
      },
      "source": [
        "10 % -3"
      ],
      "execution_count": 60,
      "outputs": [
        {
          "output_type": "execute_result",
          "data": {
            "text/plain": [
              "-2"
            ]
          },
          "metadata": {
            "tags": []
          },
          "execution_count": 60
        }
      ]
    },
    {
      "cell_type": "code",
      "metadata": {
        "colab": {
          "base_uri": "https://localhost:8080/",
          "height": 0
        },
        "id": "3bg5sjln82vt",
        "outputId": "2ee532fc-e48e-4546-a527-5ebe30dd0b3d"
      },
      "source": [
        "-10 % -3"
      ],
      "execution_count": 89,
      "outputs": [
        {
          "output_type": "execute_result",
          "data": {
            "text/plain": [
              "-1"
            ]
          },
          "metadata": {
            "tags": []
          },
          "execution_count": 89
        }
      ]
    },
    {
      "cell_type": "code",
      "metadata": {
        "colab": {
          "base_uri": "https://localhost:8080/",
          "height": 0
        },
        "id": "TiwHKXKK9Fjp",
        "outputId": "82c5b69d-fa84-4cf7-a859-0ffecf3bba2a"
      },
      "source": [
        "-10 % 3"
      ],
      "execution_count": 90,
      "outputs": [
        {
          "output_type": "execute_result",
          "data": {
            "text/plain": [
              "2"
            ]
          },
          "metadata": {
            "tags": []
          },
          "execution_count": 90
        }
      ]
    },
    {
      "cell_type": "markdown",
      "metadata": {
        "id": "ZH_xQikEN7Dy"
      },
      "source": [
        "#### 2\n",
        "What is the remainder when $2^{90}$ is divided by $91$?"
      ]
    },
    {
      "cell_type": "code",
      "metadata": {
        "colab": {
          "base_uri": "https://localhost:8080/",
          "height": 0
        },
        "id": "l85DYwiPN9Dv",
        "outputId": "c3330e8f-3295-4136-eee4-f73910fad97a"
      },
      "source": [
        "2**90 % 91 # the remainder is 64"
      ],
      "execution_count": 27,
      "outputs": [
        {
          "output_type": "execute_result",
          "data": {
            "text/plain": [
              "64"
            ]
          },
          "metadata": {
            "tags": []
          },
          "execution_count": 27
        }
      ]
    },
    {
      "cell_type": "markdown",
      "metadata": {
        "id": "60ai8YBAOMs7"
      },
      "source": [
        "#### 3\n",
        "How many multiples of 13 are there between 1 and 1000?"
      ]
    },
    {
      "cell_type": "code",
      "metadata": {
        "colab": {
          "base_uri": "https://localhost:8080/",
          "height": 0
        },
        "id": "HiSU-XIQjH3i",
        "outputId": "7f553d49-cd44-4ed4-9f98-b39f87031d5a"
      },
      "source": [
        "len(range(13,1001,13)) # There 76 nultiples of 13 between 1 and 1000 (including 1 and 1000)."
      ],
      "execution_count": 66,
      "outputs": [
        {
          "output_type": "execute_result",
          "data": {
            "text/plain": [
              "76"
            ]
          },
          "metadata": {
            "tags": []
          },
          "execution_count": 66
        }
      ]
    },
    {
      "cell_type": "markdown",
      "metadata": {
        "id": "XA1vg_6CPXU0"
      },
      "source": [
        "#### 4.\n",
        "How many odd multiples of 13 are there between 1 and 1000?"
      ]
    },
    {
      "cell_type": "code",
      "metadata": {
        "colab": {
          "base_uri": "https://localhost:8080/",
          "height": 0
        },
        "id": "J9AiSUmvPlGg",
        "outputId": "dc4228fd-f2df-4ebc-8dcc-9fb59a381cc5"
      },
      "source": [
        "list1 = range(13,1001,13)\n",
        "odd_multiples = [num for num in list1 if num % 2 == 1]\n",
        "num_odd = len(odd_multiples)\n",
        "print(\"Odd multiples of 13 are there between 1 and 1000: \", num_odd) \n",
        "# Odd multiples of 13 are there between 1 and 1000 is 38"
      ],
      "execution_count": 67,
      "outputs": [
        {
          "output_type": "stream",
          "text": [
            "Odd multiples of 13 are there between 1 and 1000:  38\n"
          ],
          "name": "stdout"
        }
      ]
    },
    {
      "cell_type": "markdown",
      "metadata": {
        "id": "0XXtDTgjX36H"
      },
      "source": [
        "#### 5\n",
        "What is the sum of the numbers from 1 to 1000?"
      ]
    },
    {
      "cell_type": "code",
      "metadata": {
        "colab": {
          "base_uri": "https://localhost:8080/",
          "height": 0
        },
        "id": "SEKz4nEzX5yj",
        "outputId": "694f49fa-b6cb-4b88-cead-b7978e824f55"
      },
      "source": [
        "print(sum(range(1,1001)))"
      ],
      "execution_count": 50,
      "outputs": [
        {
          "output_type": "stream",
          "text": [
            "500500\n"
          ],
          "name": "stdout"
        }
      ]
    },
    {
      "cell_type": "markdown",
      "metadata": {
        "id": "-0c-UMwbY2Pm"
      },
      "source": [
        "#### 6\n",
        "What is the sum of the squares, from $1 \\cdot 1$ to $1000 \\cdot 1000$?"
      ]
    },
    {
      "cell_type": "code",
      "metadata": {
        "colab": {
          "base_uri": "https://localhost:8080/",
          "height": 0
        },
        "id": "2amnjJJwaLjn",
        "outputId": "232b6d52-103e-4c62-d40b-9522ba089c6e"
      },
      "source": [
        "n = 1000\n",
        "sum_squaren = (n * (n+1) * (2 * n + 1))/6\n",
        "print (sum_squaren)"
      ],
      "execution_count": 58,
      "outputs": [
        {
          "output_type": "stream",
          "text": [
            "333833500.0\n"
          ],
          "name": "stdout"
        }
      ]
    },
    {
      "cell_type": "markdown",
      "metadata": {
        "id": "JYQeElr3eJf5"
      },
      "source": [
        "#### 7\n",
        "Euler proved that\n",
        "$$\\frac{1}{1^4} + \\frac{1}{2^4} + \\frac{1}{3^4} + \\cdots = \\frac{\\pi^4}{C},$$\n",
        "for some positive integer $C$.  Use Python to guess what $C$ is."
      ]
    },
    {
      "cell_type": "code",
      "metadata": {
        "colab": {
          "base_uri": "https://localhost:8080/",
          "height": 0
        },
        "id": "iROFdFC7k7C1",
        "outputId": "40101ef3-1bf9-4c09-ee81-ceabb9c8bbfd"
      },
      "source": [
        "from math import pi\n",
        "sum_left = 0\n",
        "for n in range(1, 100):\n",
        "  sum_left = (1/(n**4)) + sum_left\n",
        "print(sum_left)\n",
        "C = (pi**4)/(sum_left)\n",
        "print(C) # C is 90."
      ],
      "execution_count": 86,
      "outputs": [
        {
          "output_type": "stream",
          "text": [
            "1.0823228953444728\n",
            "90.00002813670486\n"
          ],
          "name": "stdout"
        }
      ]
    },
    {
      "cell_type": "markdown",
      "metadata": {
        "id": "nS9xYcpCU5yY"
      },
      "source": [
        "# Explorations\n",
        "\n",
        "Now that you have learned the basics of computation in Python and loops, we can start exploring some interesting mathematics!  We are going to look at approximation here -- some ancient questions made easier with programming."
      ]
    },
    {
      "cell_type": "markdown",
      "metadata": {
        "id": "IfPCPAu5U5yY"
      },
      "source": [
        "## Exploration 1:  Approximating square roots.\n",
        "\n",
        "We have seen how Python can do basic arithmetic -- addition, subtraction, multiplication, and division.  But what about other functions, like the square root?  In fact, Python offers a few functions for the square root, but that's not the point.  How can we compute the square root using only basic arithmetic?  \n",
        "\n",
        "Why might we care?\n",
        "\n",
        "1.  We might want to know the square root of a number with more precision than the Python function offers.\n",
        "2.  We might want to understand how the square root is computed... under the hood.\n",
        "3.  Understanding approximations of square roots and other functions is important, because we might want to approximate other functions in the future (that aren't pre-programmed for us).\n",
        "\n",
        "Here is a method for approximating the square root of a number $X$.\n",
        "\n",
        "1.  Begin with a guess $g$.\n",
        "2.  Observe that $g \\cdot (X / g) = X$.  Therefore, among the two numbers $g$ and $(X/g)$, one will be less than or equal to the square root of X, and the other will be greater than or equal to the square root.\n",
        "3.  Take the average of $g$ and $(X/g)$.  This will be closer to the square root than $g$ or $X/g$ (unless your guess is exactly right!) \n",
        "4.  Use this average as a new guess... and go back to the beginning.\n",
        "\n",
        "Now implement this in Python to approximate the square root of 2.  Use a loop, so that you can go through the approximation process 10 times or 100 times or however many you wish.  Explore the effect of different starting guesses.  Would a change in the averaging function improve the approximation?  How quickly does this converge?  How does this change if you try square roots of different positive numbers?\n",
        "\n",
        "Write your code (Python) and findings (in Markdown cells) in a readable form.  Answer the questions in complete sentences.\n",
        "\n"
      ]
    },
    {
      "cell_type": "code",
      "metadata": {
        "id": "PoGqUlqoU5yY"
      },
      "source": [
        "#  Finding the square root of a positive number X\n",
        "X = 2\n",
        "g = 1 # guess \n",
        "for n in range(1,11):\n",
        "  g = (g + (X/g)) / 2 # the average of \"g\" and \"X/g\", and this average is our new guess.\n",
        "  print('The square root of', X, 'is', g)"
      ],
      "execution_count": null,
      "outputs": []
    },
    {
      "cell_type": "markdown",
      "metadata": {
        "id": "LR2DxRXLIkwc"
      },
      "source": [
        "As the code outcome shown above, every change in the average function improve the approximation. \n",
        "\n",
        "For calculating `square root of 2`, I set the first guess as `1` and the approximation process 10 times. We can see the `output` shows that the approximation becomes constant from the 5th and 6th process. \n",
        "\n"
      ]
    },
    {
      "cell_type": "code",
      "metadata": {
        "id": "hsL6KiPF0y48"
      },
      "source": [
        "#  Finding the square root of a positive number X\n",
        "X = 2\n",
        "g = 0.5 # guess \n",
        "for n in range(1,50):\n",
        "  g = (g + (X/g)) / 2 # the average of \"g\" and \"X/g\", and this average is our new guess.\n",
        "  print('The square root of', X, 'is', g)"
      ],
      "execution_count": null,
      "outputs": []
    },
    {
      "cell_type": "markdown",
      "metadata": {
        "id": "gHxmSYaoc8v0"
      },
      "source": [
        "For calculating square root of 2, I set the second guess as 0.5 and the approximation process 49 times. We can see the output shows that the approximation becomes constant from the 5th and 6th process as well."
      ]
    },
    {
      "cell_type": "code",
      "metadata": {
        "colab": {
          "base_uri": "https://localhost:8080/"
        },
        "id": "fueiI5DA0GJ6",
        "outputId": "0bd4da30-e70a-4dd8-bef2-22b135eadf95"
      },
      "source": [
        "#  Finding the square root of a positive number X\n",
        "X = 13\n",
        "g = 4 # guess \n",
        "for n in range(1,11):\n",
        "  g = (g + (X/g)) / 2 # the average of \"g\" and \"X/g\", and this average is our new guess.\n",
        "  print('The square root of', X, 'is', g)"
      ],
      "execution_count": 3,
      "outputs": [
        {
          "output_type": "stream",
          "text": [
            "The square root of 13 is 3.625\n",
            "The square root of 13 is 3.605603448275862\n",
            "The square root of 13 is 3.6055512758414574\n",
            "The square root of 13 is 3.6055512754639896\n",
            "The square root of 13 is 3.6055512754639896\n",
            "The square root of 13 is 3.6055512754639896\n",
            "The square root of 13 is 3.6055512754639896\n",
            "The square root of 13 is 3.6055512754639896\n",
            "The square root of 13 is 3.6055512754639896\n",
            "The square root of 13 is 3.6055512754639896\n"
          ],
          "name": "stdout"
        }
      ]
    },
    {
      "cell_type": "markdown",
      "metadata": {
        "id": "RCvMmTjS0Uvt"
      },
      "source": [
        "I changed the X to 13. For calculating square root of 13, I set the guess as 4 and the approximation process 10 times. We can see the output shows that the approximation becomes constant from the 3th and 4th process. This shows that the code also can use for different positive numbers to calculate the square root."
      ]
    },
    {
      "cell_type": "markdown",
      "metadata": {
        "id": "fOUbCcfxU5yY"
      },
      "source": [
        "## Exploration 2:  Approximating e and pi.\n",
        "\n",
        "Now we approximate two of the most important constants in mathematics:  e and pi.  There are multiple approaches, but e is pretty easy with the series expansion of e^x.  First, approximate e by evaluating the Taylor series expansion of e^x at x=1.  I.e., remember from calculus that\n",
        "$$e^x = 1 + x + \\frac{1}{2} x^2 + \\frac{1}{3!} x^3 + \\frac{1}{4!} x^4 + \\cdots.$$\n",
        "How many terms are necessary before the float stabilizes?  Use a loop, with a running product for the factorials and running sums for the series."
      ]
    },
    {
      "cell_type": "code",
      "metadata": {
        "id": "cH0ApCftU5yY"
      },
      "source": [
        "#  Approximate e here.\n",
        "e_x = 0 \n",
        "for i in range(n,0,-1): \n",
        "      e_x = 1 + x * e_x / i\n",
        "      print(\"e^x =\", e_x) \n",
        "print(n)\n",
        "\n",
        "# we get e^x = 2.718281828459045\n"
      ],
      "execution_count": null,
      "outputs": []
    },
    {
      "cell_type": "markdown",
      "metadata": {
        "id": "YYhT-tDRU5yY"
      },
      "source": [
        "Next we will approximate pi, which is much more interesting.  We can try a few approaches.  For a series-approach (like e), we need a series that converges to pi.  A simple example is the arctangent atan(x).  Recall (precalculus!) that $atan(1) = \\pi/4$.  Moreover, the derivative of $atan(x)$ is $1 / (1+x^2)$.  \n",
        "\n",
        "1.  Figure out the Taylor series of $1 / (1+x^2)$ near $x=0$.  Note that this is a geometric series! \n",
        "\n",
        "2.  Figure out the Taylor series of $atan(x)$ near $x=0$ by taking the antiderivative, term by term, of the above.\n",
        "\n",
        "3.  Try to estimate $\\pi$ with this series, using many terms of the series."
      ]
    },
    {
      "cell_type": "code",
      "metadata": {
        "colab": {
          "base_uri": "https://localhost:8080/"
        },
        "id": "FIboL-QDKqlS",
        "outputId": "3d303dc4-b2cd-4ada-d791-e2a6c5267cca"
      },
      "source": [
        "# 1/（1+x^2) = 1 - x^2 + x^4 - x^6 + x^8 ...\n",
        "# atan(x) = x - x^3/3 + x^5/5 - x^7/7 ...\n",
        "# pi/4 = atan(1)\n",
        "# pi/4 = 1 - 1/3 + 1/5 -1/7 +...+ (-1)^n(1/(2n+1)\n",
        "pi = 1\n",
        "for i in range(1,10000000):\n",
        "    pi = pi + (-1)**i*(1/(2*i+1))\n",
        "print(pi*4)"
      ],
      "execution_count": 74,
      "outputs": [
        {
          "output_type": "stream",
          "text": [
            "3.140592653839794\n"
          ],
          "name": "stdout"
        }
      ]
    },
    {
      "cell_type": "markdown",
      "metadata": {
        "id": "77BvRTGFU5yY"
      },
      "source": [
        "Now we'll accelerate things a bit.  There's a famous formula of Machin (1706) who computed the first hundred digits of $\\pi$.  We'll use his identity:\n",
        "\n",
        "$\\pi/4 = 4 \\cdot atan(1/5) - atan(1 / 239)$.  \n",
        "\n",
        "This isn't obvious, but there's a tedious proof using sum/difference identities in trig.\n",
        "\n",
        "Try using this formula now to approximate $\\pi$, using your Taylor series for $atan(x)$.  It should require fewer terms."
      ]
    },
    {
      "cell_type": "code",
      "metadata": {
        "id": "71EwcYnMU5yY",
        "colab": {
          "base_uri": "https://localhost:8080/"
        },
        "outputId": "fc3afec1-8ea2-43a0-f528-35331d03f5bc"
      },
      "source": [
        "#  Approximate pi more quickly here!\n",
        "pi = 4 * (4 * atan(1/5) - atan(1/239))\n",
        "print(pi)"
      ],
      "execution_count": 59,
      "outputs": [
        {
          "output_type": "stream",
          "text": [
            "3.1415926535897934107032954041479970148981482500287\n"
          ],
          "name": "stdout"
        }
      ]
    },
    {
      "cell_type": "markdown",
      "metadata": {
        "id": "NazcANnNU5yY"
      },
      "source": [
        "Now let's compare this to **Archimedes' method**.  Archimedes approximated pi by looking at the perimeters $p(n)$ and $P(n)$ of ($2^n$)-gons inscribed in and circumscribed around a unit circle.  So $p(2)$ is the perimeter of a square inscribed in the unit circle.  $P(2)$ is the perimeter of a square circumscribed around a unit circle.\n",
        "\n",
        "Archimedes proved the following (not in the formulaic language of algebra):  For all $n \\geq 2$,\n",
        "\n",
        "(P-formula)  $P(n+1) = \\frac{2  p(n) P(n)}{p(n) + P(n)}$.\n",
        "\n",
        "(p-formula)  $p(n+1) = \\sqrt{ p(n)  P(n+1) }$.\n",
        "\n",
        "1.  Compute $p(2)$ and $P(2)$.\n",
        "\n",
        "2.  Use these formulas to compute $p(10)$ and $P(10)$.  Use this to get a good approximation for $\\pi$!\n",
        "\n",
        "We could use our previous sqrt function if you want, we'll take a fancier high-precision approach.  \"mpmath\" is a Python package for high-precision calculation.  It should be accessible through Google Colab.  You can read the full documentation at http://mpmath.org/doc/current/\n",
        "\n",
        "First we load the package and print its status."
      ]
    },
    {
      "cell_type": "code",
      "metadata": {
        "colab": {
          "base_uri": "https://localhost:8080/"
        },
        "id": "PQ05tKl-0jmc",
        "outputId": "d5b5222a-f847-4bd8-a9eb-789adfe518cd"
      },
      "source": [
        "p_little = 4*sqrt(2)\n",
        "p_big = 8\n",
        "for i in range (1,9): \n",
        "    p_big = (2 * p_little * p_big) / (p_little + p_big)\n",
        "    p_little = sqrt(p_little * p_big)\n",
        "print('P(10) =',p_big)\n",
        "print('p(10) =',p_little)\n",
        "\n"
      ],
      "execution_count": 42,
      "outputs": [
        {
          "output_type": "stream",
          "text": [
            "P(10) = 6.2832050205136178935273793169853200235845469162052\n",
            "p(10) = 6.2831754505543194012577085254038374787985617171497\n"
          ],
          "name": "stdout"
        }
      ]
    },
    {
      "cell_type": "code",
      "metadata": {
        "id": "uJZZ9M_PU5yZ",
        "colab": {
          "base_uri": "https://localhost:8080/"
        },
        "outputId": "df752b4a-11a7-4a98-cba3-64db3e0bc6a5"
      },
      "source": [
        "from mpmath import *\n",
        "print(mp)"
      ],
      "execution_count": 26,
      "outputs": [
        {
          "output_type": "stream",
          "text": [
            "Mpmath settings:\n",
            "  mp.prec = 53                [default: 53]\n",
            "  mp.dps = 15                 [default: 15]\n",
            "  mp.trap_complex = False     [default: False]\n"
          ],
          "name": "stdout"
        }
      ]
    },
    {
      "cell_type": "markdown",
      "metadata": {
        "id": "17mWwbgyU5yZ"
      },
      "source": [
        "The number mp.dps is (roughly) the number of decimal digits that mpmath will keep track of in its computations.  mp.prec is the binary precision, a bit more than 3 times the decimal precision.  We can change this to whatever we want."
      ]
    },
    {
      "cell_type": "code",
      "metadata": {
        "id": "f2aNKEWeU5yZ",
        "colab": {
          "base_uri": "https://localhost:8080/"
        },
        "outputId": "27458731-ea16-4c36-f600-4e9a6cad90b9"
      },
      "source": [
        "mp.dps = 100 # Let's try 50 digits precision to start.\n",
        "print(mp)"
      ],
      "execution_count": 64,
      "outputs": [
        {
          "output_type": "stream",
          "text": [
            "Mpmath settings:\n",
            "  mp.prec = 336               [default: 53]\n",
            "  mp.dps = 100                [default: 15]\n",
            "  mp.trap_complex = False     [default: False]\n"
          ],
          "name": "stdout"
        }
      ]
    },
    {
      "cell_type": "markdown",
      "metadata": {
        "id": "AVFYKq9hU5yZ"
      },
      "source": [
        "mpmath has a nice function for square roots.  Compare this to your approximation from before!"
      ]
    },
    {
      "cell_type": "code",
      "metadata": {
        "scrolled": true,
        "id": "IynhKMaLU5yZ",
        "colab": {
          "base_uri": "https://localhost:8080/"
        },
        "outputId": "21a35d33-fe03-4efc-d697-d795c254402b"
      },
      "source": [
        "sqrt(2)  # mpf(...) stands for an mp-float.  "
      ],
      "execution_count": 43,
      "outputs": [
        {
          "output_type": "execute_result",
          "data": {
            "text/plain": [
              "mpf('1.4142135623730950488016887242096980785696718753769468')"
            ]
          },
          "metadata": {
            "tags": []
          },
          "execution_count": 43
        }
      ]
    },
    {
      "cell_type": "code",
      "metadata": {
        "id": "quMwWJJ3U5yZ",
        "colab": {
          "base_uri": "https://localhost:8080/",
          "height": 0
        },
        "outputId": "f0f6e9a1-37d1-4532-9aa0-84b5db739564"
      },
      "source": [
        "type(sqrt(2)) # mpmath stores numbers in its own types!"
      ],
      "execution_count": 7,
      "outputs": [
        {
          "output_type": "execute_result",
          "data": {
            "text/plain": [
              "mpmath.ctx_mp_python.mpf"
            ]
          },
          "metadata": {
            "tags": []
          },
          "execution_count": 7
        }
      ]
    },
    {
      "cell_type": "code",
      "metadata": {
        "id": "3WEkkeNNU5yZ",
        "colab": {
          "base_uri": "https://localhost:8080/",
          "height": 0
        },
        "outputId": "f328a849-6d8a-45d1-98b5-3de14a915cd6"
      },
      "source": [
        "4*mp.atan(1) # mpmath has the arctan built in.  This should be pretty close to pi!"
      ],
      "execution_count": 8,
      "outputs": [
        {
          "output_type": "execute_result",
          "data": {
            "text/plain": [
              "mpf('3.1415926535897932384626433832795028841971693993751068')"
            ]
          },
          "metadata": {
            "tags": []
          },
          "execution_count": 8
        }
      ]
    },
    {
      "cell_type": "markdown",
      "metadata": {
        "id": "8oMFGUkiU5yZ"
      },
      "source": [
        "Now try Archimedes' approximation of pi.  Use the mpmath sqrt function along the way.  How many iterations do you need to get pi correct to 100 digits?  Compare this to the arctan-series (not the mpmath atan function) via Machin's formula."
      ]
    },
    {
      "cell_type": "code",
      "metadata": {
        "id": "ulLOs22VU5yZ",
        "colab": {
          "base_uri": "https://localhost:8080/"
        },
        "outputId": "a1225cab-5838-453c-e316-41dfd9c3e835"
      },
      "source": [
        "#  Explore and experiment.\n",
        "p_little = 4*sqrt(2)\n",
        "p_big = 8\n",
        "for i in range (1,100): \n",
        "    p_big = (2 * p_little * p_big) / (p_little + p_big)\n",
        "    p_little = sqrt(p_little * p_big)\n",
        "pi = ((p_big + p_little) / 2)/2\n",
        "print('P(101) =',p_big)\n",
        "print('p(101) =',p_little)\n",
        "print('pi =', pi) # I need to change the mp.dps = 100 to get pi to 100 digits."
      ],
      "execution_count": 65,
      "outputs": [
        {
          "output_type": "stream",
          "text": [
            "P(101) = 6.283185307179586476925286766559005768394338798750211641949892400491190997496150080531065369552589883\n",
            "p(101) = 6.283185307179586476925286766559005768394338798750211641949887576677853720110551955618571791250056262\n",
            "pi = 3.141592653589793238462643383279502884197169399375105820974944994292261179401675509037409290200661536\n"
          ],
          "name": "stdout"
        }
      ]
    }
  ]
}