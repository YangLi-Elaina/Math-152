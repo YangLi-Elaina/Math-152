{
  "nbformat": 4,
  "nbformat_minor": 0,
  "metadata": {
    "kernelspec": {
      "display_name": "Python 3",
      "language": "python",
      "name": "python3"
    },
    "language_info": {
      "codemirror_mode": {
        "name": "ipython",
        "version": 3
      },
      "file_extension": ".py",
      "mimetype": "text/x-python",
      "name": "python",
      "nbconvert_exporter": "python",
      "pygments_lexer": "ipython3",
      "version": "3.6.7"
    },
    "colab": {
      "name": "“P4M_Notebook2.ipynb”copy",
      "provenance": [],
      "collapsed_sections": [],
      "toc_visible": true,
      "include_colab_link": true
    }
  },
  "cells": [
    {
      "cell_type": "markdown",
      "metadata": {
        "id": "view-in-github",
        "colab_type": "text"
      },
      "source": [
        "<a href=\"https://colab.research.google.com/github/YangLi-Elaina/Math-152/blob/main/%E2%80%9CP4M_Notebook2_ipynb%E2%80%9Dcopy.ipynb\" target=\"_parent\"><img src=\"https://colab.research.google.com/assets/colab-badge.svg\" alt=\"Open In Colab\"/></a>"
      ]
    },
    {
      "cell_type": "markdown",
      "metadata": {
        "id": "XyGhVIyPwBYC"
      },
      "source": [
        "# Part 2:  Functions and Control Statements"
      ]
    },
    {
      "cell_type": "markdown",
      "metadata": {
        "id": "NuyLg8OKwBYE"
      },
      "source": [
        "A distinguishing property of *programming* languages is that the programmer can create their own *functions*.  Creating a *function* is like teaching the computer a new trick.  Typically a function will receive some data as *input*, will perform an *algorithm* involving the input data, and will *output* data when the algorithm terminates. \n",
        "\n",
        "In this part, we explore Python functions.  We also explore control statements, which allow a program to behave in different ways for different inputs.  We also introduce the *while loop*, a loop whose repetition can be more carefully controlled than a for loop.  As an application of these techniques, we implement the Euclidean algorithm as a Python function in a few ways, to effectively find the GCD of integers.\n",
        "\n",
        "At the end, you will be prepared to explore the Collatz conjecture."
      ]
    },
    {
      "cell_type": "markdown",
      "metadata": {
        "id": "7-K3A-UCwBYF"
      },
      "source": [
        "## Table of Contents\n",
        "\n",
        "- [Getting started with Python functions](#functions)\n",
        "- [Control statements](#controls)\n",
        "- [While loops and implementation of the Euclidean algorithm](#while)\n"
      ]
    },
    {
      "cell_type": "markdown",
      "metadata": {
        "id": "URGfWbYwwBYF"
      },
      "source": [
        "<a id='functions'></a>"
      ]
    },
    {
      "cell_type": "markdown",
      "metadata": {
        "id": "TQEoN7_qwBYF"
      },
      "source": [
        "## Getting started with Python functions"
      ]
    },
    {
      "cell_type": "markdown",
      "metadata": {
        "id": "-PjkYVe_wBYF"
      },
      "source": [
        "A *function* in Python is a construction which takes input data, performs some actions, and outputs data.  It is best to start with a few examples and break down the code.  Here is a function `square`.  Run the code as usual by pressing *shift-Enter* when the code block is selected."
      ]
    },
    {
      "cell_type": "code",
      "metadata": {
        "id": "ZXK8yaEXwBYG"
      },
      "source": [
        "def square(x):\n",
        "    answer = x * x\n",
        "    return answer"
      ],
      "execution_count": null,
      "outputs": []
    },
    {
      "cell_type": "code",
      "metadata": {
        "id": "ySzLN_C6wBYG"
      },
      "source": [
        "from dis import dis"
      ],
      "execution_count": null,
      "outputs": []
    },
    {
      "cell_type": "code",
      "metadata": {
        "id": "g-g7uC_ZwBYG",
        "colab": {
          "base_uri": "https://localhost:8080/"
        },
        "outputId": "cf267751-3ecd-47bf-c822-ff5758e9cdfd"
      },
      "source": [
        "dis(square)"
      ],
      "execution_count": null,
      "outputs": [
        {
          "output_type": "stream",
          "text": [
            "  2           0 LOAD_FAST                0 (x)\n",
            "              2 LOAD_FAST                0 (x)\n",
            "              4 BINARY_MULTIPLY\n",
            "              6 STORE_FAST               1 (answer)\n",
            "\n",
            "  3           8 LOAD_FAST                1 (answer)\n",
            "             10 RETURN_VALUE\n"
          ],
          "name": "stdout"
        }
      ]
    },
    {
      "cell_type": "markdown",
      "metadata": {
        "id": "8PMsVVJWwBYH"
      },
      "source": [
        "When you run the code block, you probably didn't see anything happen.  But you have effectively taught your computer a new trick, increasing the vocabulary of commands it understands through the Python interpreter.  Now you can use the `square` command as you wish."
      ]
    },
    {
      "cell_type": "code",
      "metadata": {
        "id": "-BY-5Lm-wBYH",
        "colab": {
          "base_uri": "https://localhost:8080/"
        },
        "outputId": "3dd60e59-42fa-4788-ee02-dc35e104096a"
      },
      "source": [
        "square(12)"
      ],
      "execution_count": null,
      "outputs": [
        {
          "output_type": "execute_result",
          "data": {
            "text/plain": [
              "144"
            ]
          },
          "metadata": {
            "tags": []
          },
          "execution_count": 4
        }
      ]
    },
    {
      "cell_type": "code",
      "metadata": {
        "id": "gYlHzDUTwBYH",
        "outputId": "660c55ee-d706-4ec8-95d6-33dbd78a016b"
      },
      "source": [
        "square(1.5)"
      ],
      "execution_count": null,
      "outputs": [
        {
          "output_type": "execute_result",
          "data": {
            "text/plain": [
              "2.25"
            ]
          },
          "metadata": {
            "tags": []
          },
          "execution_count": 5
        }
      ]
    },
    {
      "cell_type": "markdown",
      "metadata": {
        "id": "txkbI9nlwBYH"
      },
      "source": [
        "Let's break down the syntax of the *function declaration*, line by line.\n",
        "\n",
        "```python\n",
        "def square(x):\n",
        "    answer = x * x\n",
        "    return answer\n",
        "```\n",
        "\n",
        "The first line begins with the Python reserved word `def`.  (So don't use `def` as a variable name!).  The word `def` stands for \"define\" and it defines a function called `square`.  After the function name `square` comes parentheses `(x)` containing the **argument** `x`.  The *arguments* or *parameters* of a function refer to the input data.  Even if your function has no arguments, you need parentheses.  The argument `x` is used to name whatever number is input into the `square` function.  \n",
        "\n",
        "At the end of the function declaration line is a colon `:` and the following two lines are indented.  As in the case of for loops, the colon and indentation are signals of *scope*.  Everything on the indented lines is considered within the *scope of the function* and is carried out when the function is used later.\n",
        "\n",
        "The second line `answer = x * x` is the beginning of the scope of the function.  It declares a variable `answer` and sets the value to be `x * x`.  So if the argument `x` is 12, then `answer` will be set to 144.  The variable `answer`, being declared within the scope of the function, will not be accessible outside the scope of the function.  It is called a **local variable**.\n",
        "\n",
        "The last line `return answer` contains the Python reserved word `return`, which terminates the function and outputs the value of the variable `answer`.  So when you apply the function with the command `square(1.5)`, the number `1.5` is `passed` as the argument `x`, and `answer` is `2.25`, and that number `2.25` becomes the output."
      ]
    },
    {
      "cell_type": "markdown",
      "metadata": {
        "id": "ZuMjQvvIwBYI"
      },
      "source": [
        "A function does not have to return a value.  Some functions might just provide some information.  Here is a function which displays the result of division with remainder as a sentence with addition and multiplication."
      ]
    },
    {
      "cell_type": "code",
      "metadata": {
        "id": "c8MvwsOBwBYI"
      },
      "source": [
        "def display_divmod(a,b):\n",
        "    quotient = a // b # Integer division\n",
        "    remainder = a % b #\n",
        "    print(\"{} = {} ({}) + {}\".format(a,quotient,b,remainder))"
      ],
      "execution_count": null,
      "outputs": []
    },
    {
      "cell_type": "code",
      "metadata": {
        "id": "gMjG6qpcwBYI",
        "outputId": "532676ce-a755-4f1a-db28-5e54c38a0803"
      },
      "source": [
        "dis(display_divmod)"
      ],
      "execution_count": null,
      "outputs": [
        {
          "output_type": "stream",
          "text": [
            "  2           0 LOAD_FAST                0 (a)\n",
            "              2 LOAD_FAST                1 (b)\n",
            "              4 BINARY_FLOOR_DIVIDE\n",
            "              6 STORE_FAST               2 (quotient)\n",
            "\n",
            "  3           8 LOAD_FAST                0 (a)\n",
            "             10 LOAD_FAST                1 (b)\n",
            "             12 BINARY_MODULO\n",
            "             14 STORE_FAST               3 (remainder)\n",
            "\n",
            "  4          16 LOAD_GLOBAL              0 (print)\n",
            "             18 LOAD_CONST               1 ('{} = {} ({}) + {}')\n",
            "             20 LOAD_ATTR                1 (format)\n",
            "             22 LOAD_FAST                0 (a)\n",
            "             24 LOAD_FAST                2 (quotient)\n",
            "             26 LOAD_FAST                1 (b)\n",
            "             28 LOAD_FAST                3 (remainder)\n",
            "             30 CALL_FUNCTION            4\n",
            "             32 CALL_FUNCTION            1\n",
            "             34 POP_TOP\n",
            "             36 LOAD_CONST               0 (None)\n",
            "             38 RETURN_VALUE\n"
          ],
          "name": "stdout"
        }
      ]
    },
    {
      "cell_type": "code",
      "metadata": {
        "scrolled": true,
        "id": "hoKyaYkvwBYI",
        "outputId": "671f6103-3e6b-4bef-eded-b085afc2408f"
      },
      "source": [
        "display_divmod(23,5)"
      ],
      "execution_count": null,
      "outputs": [
        {
          "output_type": "stream",
          "text": [
            "23 = 4 (5) + 3\n"
          ],
          "name": "stdout"
        }
      ]
    },
    {
      "cell_type": "markdown",
      "metadata": {
        "id": "yK69GHfXwBYI"
      },
      "source": [
        "Notice that this function has no `return` line.  The function terminates automatically at the end of its scope.\n",
        "\n",
        "The function also uses Python's **string formatting**.  This has changed between Python 2.x and 3.x, and this notebook uses Python 3.x syntax.\n",
        "\n",
        "String formatting allows you to insert placeholders like `{}` within a string, and later fill those places with a list of things.  "
      ]
    },
    {
      "cell_type": "code",
      "metadata": {
        "id": "hbzy5xRJwBYI",
        "colab": {
          "base_uri": "https://localhost:8080/"
        },
        "outputId": "e7f707b1-83ad-44e4-ef22-12f3d00c8262"
      },
      "source": [
        "print(\"My favorite number is {}\".format(17))  # The .format \"method\" substitutes 17 for {}"
      ],
      "execution_count": null,
      "outputs": [
        {
          "output_type": "stream",
          "text": [
            "My favorite number is 17\n"
          ],
          "name": "stdout"
        }
      ]
    },
    {
      "cell_type": "code",
      "metadata": {
        "id": "g33iMjywwBYJ",
        "colab": {
          "base_uri": "https://localhost:8080/"
        },
        "outputId": "1d5ea032-7d99-4c52-f62b-ccdf49a589e7"
      },
      "source": [
        "print(\"{} + {} = {}\".format(13,12,13+12))"
      ],
      "execution_count": null,
      "outputs": [
        {
          "output_type": "stream",
          "text": [
            "13 + 12 = 25\n"
          ],
          "name": "stdout"
        }
      ]
    },
    {
      "cell_type": "markdown",
      "metadata": {
        "id": "PGIvRsgtwBYJ"
      },
      "source": [
        "The `format` command is an example of a **string method**.  It has the effect of replacing all placeholders `{}` by the its inputs, in sequence.  There is an intricate syntax for these placeholders, to allow one to match placeholders with values in different orders, and to format different kinds of values.  Here is the [official reference for string formatting in Python 3.x](https://docs.python.org/3/library/string.html#formatstrings).  We will only use the most basic features, exhibited below."
      ]
    },
    {
      "cell_type": "code",
      "metadata": {
        "id": "jF4cN2YJwBYJ",
        "colab": {
          "base_uri": "https://localhost:8080/"
        },
        "outputId": "7929e8fd-6c8e-4e1b-eeb3-b29963783c39"
      },
      "source": [
        "print (\"The number {} comes before {}.\".format(1,2)) # This should be familiar.\n",
        "print (\"The number {1} comes before {0}.\".format(1,2)) # What happens?\n",
        "print (\"The number {1} comes before {1}.\".format(1,2)) # Got it now?\n",
        "\n"
      ],
      "execution_count": null,
      "outputs": [
        {
          "output_type": "stream",
          "text": [
            "The number 1 comes before 2.\n",
            "The number 2 comes before 1.\n",
            "The number 2 comes before 2.\n"
          ],
          "name": "stdout"
        }
      ]
    },
    {
      "cell_type": "markdown",
      "metadata": {
        "id": "P0r9PihnwBYJ"
      },
      "source": [
        "By placing a number in the placeholder, like `{1}`, one can fill in the placeholders with the values in a different order, or repeat the same value.  The format method takes multiple parameters, and they are numbered:  parameter 0, parameter 1, parameter 2, etc..  So the placeholder `{1}` will be replaced by the second parameter (parameter 1).  It's confusing at first, but Python almost always starts counting at zero."
      ]
    },
    {
      "cell_type": "code",
      "metadata": {
        "id": "Ny23S5lPwBYJ",
        "colab": {
          "base_uri": "https://localhost:8080/"
        },
        "outputId": "890434e8-78bf-4df0-fce8-f46c8300dea6"
      },
      "source": [
        "print(\"pi is approximately {0}\".format(3.14159265))\n",
        "print(\"pi is approximately {0:f}\".format(3.14159265)) # The \"f\" in \"0:f\" formats the float.\n",
        "print(\"pi is approximately {0:0.3f}\".format(3.14159265)) # Choose 3 digits of precision.\n"
      ],
      "execution_count": null,
      "outputs": [
        {
          "output_type": "stream",
          "text": [
            "pi is approximately 3.14159265\n",
            "pi is approximately 3.141593\n",
            "pi is approximately 3.142\n"
          ],
          "name": "stdout"
        }
      ]
    },
    {
      "cell_type": "markdown",
      "metadata": {
        "id": "A0yz474_wBYK"
      },
      "source": [
        "If you give some information about how the placeholder is being used, the format method will format things more nicely for printing.  The placeholder `{0:f}` will be replaced by parameter 0, and it will be formatted in a way that is nice for floats (hence the `f`).  Don't try formatting things outside of their type!"
      ]
    },
    {
      "cell_type": "code",
      "metadata": {
        "id": "5GqWSWY8wBYK",
        "colab": {
          "base_uri": "https://localhost:8080/",
          "height": 270
        },
        "outputId": "021a6a59-70ef-4ce5-f080-94bd64cc3cd1"
      },
      "source": [
        "print(\"{:d} is a pretty big integer.\".format(2**100)) # d is the formatting code for integers.\n",
        "print(\"{:f} is an integer, formatted like a float.\".format(2**100))\n",
        "print(\"{:f} is a float, of course.\".format(1/7))\n",
        "print(\"{:s} is a string.\".format('Hi there!')) # s is the formatting code for strings.\n",
        "print(\"{:d} will give us an error message.\".format(1/7))\n"
      ],
      "execution_count": null,
      "outputs": [
        {
          "output_type": "stream",
          "text": [
            "1267650600228229401496703205376 is a pretty big integer.\n",
            "1267650600228229401496703205376.000000 is an integer, formatted like a float.\n",
            "0.142857 is a float, of course.\n",
            "Hi there! is a string.\n"
          ],
          "name": "stdout"
        },
        {
          "output_type": "error",
          "ename": "ValueError",
          "evalue": "ignored",
          "traceback": [
            "\u001b[0;31m---------------------------------------------------------------------------\u001b[0m",
            "\u001b[0;31mValueError\u001b[0m                                Traceback (most recent call last)",
            "\u001b[0;32m<ipython-input-4-a243553941ff>\u001b[0m in \u001b[0;36m<module>\u001b[0;34m()\u001b[0m\n\u001b[1;32m      3\u001b[0m \u001b[0mprint\u001b[0m\u001b[0;34m(\u001b[0m\u001b[0;34m\"{:f} is a float, of course.\"\u001b[0m\u001b[0;34m.\u001b[0m\u001b[0mformat\u001b[0m\u001b[0;34m(\u001b[0m\u001b[0;36m1\u001b[0m\u001b[0;34m/\u001b[0m\u001b[0;36m7\u001b[0m\u001b[0;34m)\u001b[0m\u001b[0;34m)\u001b[0m\u001b[0;34m\u001b[0m\u001b[0;34m\u001b[0m\u001b[0m\n\u001b[1;32m      4\u001b[0m \u001b[0mprint\u001b[0m\u001b[0;34m(\u001b[0m\u001b[0;34m\"{:s} is a string.\"\u001b[0m\u001b[0;34m.\u001b[0m\u001b[0mformat\u001b[0m\u001b[0;34m(\u001b[0m\u001b[0;34m'Hi there!'\u001b[0m\u001b[0;34m)\u001b[0m\u001b[0;34m)\u001b[0m \u001b[0;31m# s is the formatting code for strings.\u001b[0m\u001b[0;34m\u001b[0m\u001b[0;34m\u001b[0m\u001b[0m\n\u001b[0;32m----> 5\u001b[0;31m \u001b[0mprint\u001b[0m\u001b[0;34m(\u001b[0m\u001b[0;34m\"{:d} will give us an error message.\"\u001b[0m\u001b[0;34m.\u001b[0m\u001b[0mformat\u001b[0m\u001b[0;34m(\u001b[0m\u001b[0;36m1\u001b[0m\u001b[0;34m/\u001b[0m\u001b[0;36m7\u001b[0m\u001b[0;34m)\u001b[0m\u001b[0;34m)\u001b[0m\u001b[0;34m\u001b[0m\u001b[0;34m\u001b[0m\u001b[0m\n\u001b[0m",
            "\u001b[0;31mValueError\u001b[0m: Unknown format code 'd' for object of type 'float'"
          ]
        }
      ]
    },
    {
      "cell_type": "code",
      "metadata": {
        "id": "RNIEWFp-wBYK",
        "colab": {
          "base_uri": "https://localhost:8080/"
        },
        "outputId": "9d5cc614-12c7-4bb3-dbb6-9629381336d1"
      },
      "source": [
        "from math import sqrt  # Make sure the square root function is loaded.\n",
        "print(\"The square root of {0:d} is about {1:f}.\".format(1000, sqrt(1000)))"
      ],
      "execution_count": null,
      "outputs": [
        {
          "output_type": "stream",
          "text": [
            "The square root of 1000 is about 31.622777.\n"
          ],
          "name": "stdout"
        }
      ]
    },
    {
      "cell_type": "markdown",
      "metadata": {
        "id": "AnRHZ9edwBYK"
      },
      "source": [
        "### Exercises\n",
        "\n",
        "1.  What are the signals of scope in Python?\n",
        "\n",
        "2.  Write a function called area_circle, which takes one argument radius. The function should return the area of the circle, as a floating point number. Then add one line to the function, using string formatting, so that it additionally prints a helpful sentence of the form \"The area of a circle of radius 1.0 is 3.14159.\" (depending on the radius and the area it computes).\n",
        "\n",
        "3. `format` is an example of a \"string method\".  Another neat one is `replace`.  Try `\"Python\".replace(\"yth\",\"arag\")` to see what it does.  \n",
        "\n",
        "4.  Try the formatting codes `%` and `E` (instead of `f`) for a floating point number.  What do they do?\n",
        "\n",
        "5. Can you think of a reason you might want to have a function with *no* arguments?"
      ]
    },
    {
      "cell_type": "code",
      "metadata": {
        "id": "ConEeZPBwBYL"
      },
      "source": [
        "#  Use this space to work on the Exercises.  \n",
        "#  Remember that you can add a new cell above/below by clicking to the left of a cell,\n",
        "#  (the cell will have a blue bar at the left) and then pressing \"a\" or \"b\" on the keyboard.\n"
      ],
      "execution_count": null,
      "outputs": []
    },
    {
      "cell_type": "markdown",
      "metadata": {
        "id": "ICudboO3N82F"
      },
      "source": [
        "#### 1.\n",
        "What are the signals of scope in Python?\n",
        "\n",
        "The signals of scope in python is  the colon and indentation in a function."
      ]
    },
    {
      "cell_type": "markdown",
      "metadata": {
        "id": "uBHo-xtkOIm7"
      },
      "source": [
        "#### 2\n",
        "Write a function called area_circle, which takes one argument radius. The function should return the area of the circle, as a floating point number. Then add one line to the function, using string formatting, so that it additionally prints a helpful sentence of the form \"The area of a circle of radius 1.0 is 3.14159.\" (depending on the radius and the area it computes)."
      ]
    },
    {
      "cell_type": "code",
      "metadata": {
        "colab": {
          "base_uri": "https://localhost:8080/"
        },
        "id": "uw9ORQtYNzLX",
        "outputId": "686036eb-e835-4121-a0f1-11c6b6cd2c36"
      },
      "source": [
        "from math import pi\n",
        "a = 0\n",
        "def area_circle(r): # r stands for radius\n",
        "    a  = pi * r**2  # a stands for area of a circle\n",
        "    print('The area of a circle of radius {:0.1f} is {:0.5f}'.format(r, a))\n",
        "area_circle(1)"
      ],
      "execution_count": null,
      "outputs": [
        {
          "output_type": "stream",
          "text": [
            "The area of a circle of radius 1.0 is 3.14159\n"
          ],
          "name": "stdout"
        }
      ]
    },
    {
      "cell_type": "code",
      "metadata": {
        "colab": {
          "base_uri": "https://localhost:8080/"
        },
        "id": "h60BPYv5Ob-b",
        "outputId": "cc2c094c-05fe-47f0-e334-76ca4af7a9f5"
      },
      "source": [
        "area_circle(3)"
      ],
      "execution_count": null,
      "outputs": [
        {
          "output_type": "stream",
          "text": [
            "The area of a circle of radius 3.0 is 28.27433\n"
          ],
          "name": "stdout"
        }
      ]
    },
    {
      "cell_type": "markdown",
      "metadata": {
        "id": "1OfGNz86ylY4"
      },
      "source": [
        "#### 3\n",
        "`format` is an example of a \"string method\".  Another neat one is `replace`.  Try `\"Python\".replace(\"yth\",\"arag\")` to see what it does.  "
      ]
    },
    {
      "cell_type": "code",
      "metadata": {
        "colab": {
          "base_uri": "https://localhost:8080/",
          "height": 35
        },
        "id": "e9WjqKskTLXY",
        "outputId": "8de7ae55-d911-4e98-9a78-3b18fe2987bd"
      },
      "source": [
        "\"Python\".replace(\"yth\",\"arag\") # this replace \"yth\" in \"Python\" with \"arag\"."
      ],
      "execution_count": null,
      "outputs": [
        {
          "output_type": "execute_result",
          "data": {
            "application/vnd.google.colaboratory.intrinsic+json": {
              "type": "string"
            },
            "text/plain": [
              "'Paragon'"
            ]
          },
          "metadata": {
            "tags": []
          },
          "execution_count": 15
        }
      ]
    },
    {
      "cell_type": "markdown",
      "metadata": {
        "id": "3R5yYrQ1yv7a"
      },
      "source": [
        "#### 4\n",
        "Try the formatting codes `%` and `E` (instead of `f`) for a floating point number.  What do they do?"
      ]
    },
    {
      "cell_type": "code",
      "metadata": {
        "colab": {
          "base_uri": "https://localhost:8080/"
        },
        "id": "bV7z_Jae9ZmL",
        "outputId": "fde6c92b-4316-40c4-e864-f798c288fe6c"
      },
      "source": [
        "print(\"{:%} is an percentile notation, and it is a flot number.\".format(1/7))# {:%} gives us an percentile expression."
      ],
      "execution_count": null,
      "outputs": [
        {
          "output_type": "stream",
          "text": [
            "14.285714% is an percentile notation, and it is a flot number.\n"
          ],
          "name": "stdout"
        }
      ]
    },
    {
      "cell_type": "code",
      "metadata": {
        "colab": {
          "base_uri": "https://localhost:8080/"
        },
        "id": "o_Xns8Bvui0_",
        "outputId": "8f3b5676-630e-4ae5-f1ae-d14993b84da1"
      },
      "source": [
        "print(\"{:E} is an exponential notation, it's still a flot number.\".format(1/7)) # {:E} gives us an exponential expression."
      ],
      "execution_count": null,
      "outputs": [
        {
          "output_type": "stream",
          "text": [
            "1.428571E-01 is an exponential notation, it's still a flot number.\n"
          ],
          "name": "stdout"
        }
      ]
    },
    {
      "cell_type": "markdown",
      "metadata": {
        "id": "_UP_w2Fxy1f5"
      },
      "source": [
        "#### 5\n",
        "Can you think of a reason you might want to have a function with *no* arguments?\n",
        "\n",
        "when the output is a constant situation, we may want to have a function with no arguments."
      ]
    },
    {
      "cell_type": "markdown",
      "metadata": {
        "id": "iXU_5T6IwBYL"
      },
      "source": [
        "## Control statements"
      ]
    },
    {
      "cell_type": "markdown",
      "metadata": {
        "id": "zlgqy_zdwBYL"
      },
      "source": [
        "It is important for a computer program to behave differently under different circumstances.  The simplest control statements, `if` and its relative `else`, can be used to tell Python to carry out different actions depending on the value of a boolean variable.  The following function exhibits the syntax."
      ]
    },
    {
      "cell_type": "code",
      "metadata": {
        "id": "oWosbiZuwBYL"
      },
      "source": [
        "def is_even(n):\n",
        "    if n%2 == 0:\n",
        "        print(\"{} is even.\".format(n))\n",
        "        return True\n",
        "    else:\n",
        "        print(\"{} is odd.\".format(n))\n",
        "        return False"
      ],
      "execution_count": null,
      "outputs": []
    },
    {
      "cell_type": "code",
      "metadata": {
        "id": "waCcd7ugwBYM",
        "colab": {
          "base_uri": "https://localhost:8080/"
        },
        "outputId": "d0384a89-803b-4c74-980c-bb4d97c1662f"
      },
      "source": [
        "is_even(17)"
      ],
      "execution_count": null,
      "outputs": [
        {
          "output_type": "stream",
          "text": [
            "17 is odd.\n"
          ],
          "name": "stdout"
        },
        {
          "output_type": "execute_result",
          "data": {
            "text/plain": [
              "False"
            ]
          },
          "metadata": {
            "tags": []
          },
          "execution_count": 29
        }
      ]
    },
    {
      "cell_type": "code",
      "metadata": {
        "id": "SqZF_uUAwBYM",
        "colab": {
          "base_uri": "https://localhost:8080/"
        },
        "outputId": "7de3632e-ff15-4c25-9fb6-19ce39d89b21"
      },
      "source": [
        "is_even(1000)"
      ],
      "execution_count": null,
      "outputs": [
        {
          "output_type": "stream",
          "text": [
            "1000 is even.\n"
          ],
          "name": "stdout"
        },
        {
          "output_type": "execute_result",
          "data": {
            "text/plain": [
              "True"
            ]
          },
          "metadata": {
            "tags": []
          },
          "execution_count": 30
        }
      ]
    },
    {
      "cell_type": "markdown",
      "metadata": {
        "id": "m_51xvu4wBYM"
      },
      "source": [
        "The broad syntax of the function should be familiar.  We have created a function called `is_even` with one argument called `n`.  The body of the function uses the **control statement** `if n%2 == 0:`.  Recall that `n%2` gives the remainder after dividing `n` by `2`.  Thus `n%2` is 0 or 1, depending on whether `n` is even or odd.  Therefore the **boolean** `n%2 == 0` is `True` if `n` is even, and `False` if `n` is odd.\n",
        "\n",
        "The next two lines (the first `print` and `return` statements) are within the **scope** of the `if <boolean>:` statement, as indicated by the colon and the indentation.  The `if <boolean>:` statement tells the Python interpreter to perform the statements within the scope if the boolean is `True`, and to ignore the statements within the scope if the boolean is `False`.\n",
        "\n",
        "Putting it together, we can analyze the code.\n",
        "```python\n",
        "    if n%2 == 0:\n",
        "        print(\"{} is even.\".format(n))\n",
        "        return True\n",
        "```\n",
        "If `n` is even, then the Python interpreter will print a sentence of the form `n is even`.  Then the interpreter will return (output) the value `True` and the function will terminate.  If `n` is odd, the Python interpreter will ignore the two lines of scope."
      ]
    },
    {
      "cell_type": "markdown",
      "metadata": {
        "id": "NVzaGwBbwBYM"
      },
      "source": [
        "Often we don't just want Python to *do nothing* when a condition is not satisfied.  In the case above, we would rather Python tell us that the number is odd.  The `else:` control statement tells Python what to do in case the `if <boolean>:` control statement receives a `False` boolean.  We analyze the code\n",
        "```python\n",
        "    else:\n",
        "        print(\"{} is odd.\".format(n))\n",
        "        return False\n",
        "```\n",
        "The `print` and `return` commands are within the scope of the `else:` control statement.  So when the `if` statement receives a false signal (the number `n` is odd), the program prints a sentence of the form `n is odd.` and then returns the value `False` and terminates the function."
      ]
    },
    {
      "cell_type": "markdown",
      "metadata": {
        "id": "7T1-WYgDwBYN"
      },
      "source": [
        "The function `is_even` is a verbose, or \"talkative\" sort of function.  Such a function is sometimes useful in an interactive setting, where the programmer wants to understand everything that's going on.  But if the function had to be called a million times, the screen would fill with printed sentences!  In practice, an efficient and silent function `is_even` might look like the following."
      ]
    },
    {
      "cell_type": "code",
      "metadata": {
        "scrolled": true,
        "id": "Zf_tdTTzwBYN",
        "outputId": "f9a442ee-8eff-441e-a256-5ef5b0fd603e"
      },
      "source": [
        "dis(is_even)"
      ],
      "execution_count": null,
      "outputs": [
        {
          "output_type": "stream",
          "text": [
            "  2           0 LOAD_FAST                0 (n)\n",
            "              2 LOAD_CONST               1 (2)\n",
            "              4 BINARY_MODULO\n",
            "              6 LOAD_CONST               2 (0)\n",
            "              8 COMPARE_OP               2 (==)\n",
            "             10 RETURN_VALUE\n"
          ],
          "name": "stdout"
        }
      ]
    },
    {
      "cell_type": "code",
      "metadata": {
        "id": "f6IhlMxBwBYN"
      },
      "source": [
        "def is_even(n):\n",
        "    return (n%2 == 0)"
      ],
      "execution_count": null,
      "outputs": []
    },
    {
      "cell_type": "code",
      "metadata": {
        "id": "E8lt6TgAwBYN"
      },
      "source": [
        "is_even(17)"
      ],
      "execution_count": null,
      "outputs": []
    },
    {
      "cell_type": "markdown",
      "metadata": {
        "id": "ezouQa-rwBYN"
      },
      "source": [
        "A `for` loop and an `if` control statement, used together, allow us to carry out a **brute force** search.  We can search for factors in order to check whether a number is prime.  Or we can look for solutions to an equation until we find one.\n",
        "\n",
        "One thing to note:  the function below begins with a block of text between a triple-quote (three single-quotes when typing).  That text is called a **docstring** and it is meant to document what the function does.  Writing clear docstrings becomes more important as you write longer programs, collaborate with other programmers, and when you want to return months or years later to use a program again.  There are different style conventions for docstrings; for example, here are [Google's docstring conventions](https://google.github.io/styleguide/pyguide.html?showone=Comments#Comments).  We take a less formal approach."
      ]
    },
    {
      "cell_type": "code",
      "metadata": {
        "id": "TlIdvhpRwBYN"
      },
      "source": [
        "def is_prime(n):\n",
        "    '''\n",
        "    Checks whether the argument n is a prime number.\n",
        "    Uses a brute force search for factors between 1 and n.\n",
        "    '''\n",
        "    for j in range(2,n):  # the list of numbers 2,3,...,n-1.\n",
        "        if n%j == 0:  # is n divisible by j?\n",
        "            print(\"{} is a factor of {}.\".format(j,n))\n",
        "            return False\n",
        "    return True"
      ],
      "execution_count": null,
      "outputs": []
    },
    {
      "cell_type": "markdown",
      "metadata": {
        "id": "QyccyPhCwBYO"
      },
      "source": [
        "An important note:  the `return` keyword **terminates** the function.  So as soon as a factor is found, the function terminates and outputs `False`.  If no factor is found, then the function execution survives past the loop, and the line `return True` is executed to terminate the function."
      ]
    },
    {
      "cell_type": "code",
      "metadata": {
        "id": "vA0_e4jjwBYO",
        "colab": {
          "base_uri": "https://localhost:8080/"
        },
        "outputId": "dfbce8e8-7561-4dcc-b093-03bf2deed227"
      },
      "source": [
        "is_prime(9997)"
      ],
      "execution_count": null,
      "outputs": [
        {
          "output_type": "stream",
          "text": [
            "13 is a factor of 9997.\n"
          ],
          "name": "stdout"
        },
        {
          "output_type": "execute_result",
          "data": {
            "text/plain": [
              "False"
            ]
          },
          "metadata": {
            "tags": []
          },
          "execution_count": 53
        }
      ]
    },
    {
      "cell_type": "code",
      "metadata": {
        "id": "pIrSBkjMwBYO",
        "colab": {
          "base_uri": "https://localhost:8080/"
        },
        "outputId": "b75ed429-026a-4617-9840-a8781bcb43c5"
      },
      "source": [
        "is_prime(101)"
      ],
      "execution_count": null,
      "outputs": [
        {
          "output_type": "execute_result",
          "data": {
            "text/plain": [
              "True"
            ]
          },
          "metadata": {
            "tags": []
          },
          "execution_count": 51
        }
      ]
    },
    {
      "cell_type": "markdown",
      "metadata": {
        "id": "dYW_c5khwBYO"
      },
      "source": [
        "Try the `is_prime` function on bigger numbers -- try numbers with 4 digits, 5 digits, 6 digits.  Where does it start to slow down?  Do you get any errors when the numbers are large?  Make sure to save your work first, just in case this crashes your computer!  \n",
        "\n"
      ]
    },
    {
      "cell_type": "code",
      "metadata": {
        "id": "hf0sXNZvwBYO",
        "colab": {
          "base_uri": "https://localhost:8080/"
        },
        "outputId": "21b6ffd6-ef21-4c7c-dbfa-cd663394e94a"
      },
      "source": [
        "# Experiment with is_prime here.\n",
        "is_prime(997)"
      ],
      "execution_count": null,
      "outputs": [
        {
          "output_type": "execute_result",
          "data": {
            "text/plain": [
              "True"
            ]
          },
          "metadata": {
            "tags": []
          },
          "execution_count": 54
        }
      ]
    },
    {
      "cell_type": "code",
      "metadata": {
        "colab": {
          "base_uri": "https://localhost:8080/"
        },
        "id": "t8ZYEySN3xyu",
        "outputId": "3d2a5ca1-5ff0-4754-9525-96d37a8943e6"
      },
      "source": [
        "is_prime(9997)"
      ],
      "execution_count": null,
      "outputs": [
        {
          "output_type": "stream",
          "text": [
            "13 is a factor of 9997.\n"
          ],
          "name": "stdout"
        },
        {
          "output_type": "execute_result",
          "data": {
            "text/plain": [
              "False"
            ]
          },
          "metadata": {
            "tags": []
          },
          "execution_count": 55
        }
      ]
    },
    {
      "cell_type": "code",
      "metadata": {
        "colab": {
          "base_uri": "https://localhost:8080/"
        },
        "id": "3N6AaSQF31Hs",
        "outputId": "2b8aebeb-695f-46fc-fa9d-613c62d33564"
      },
      "source": [
        "is_prime(99997)"
      ],
      "execution_count": null,
      "outputs": [
        {
          "output_type": "stream",
          "text": [
            "19 is a factor of 99997.\n"
          ],
          "name": "stdout"
        },
        {
          "output_type": "execute_result",
          "data": {
            "text/plain": [
              "False"
            ]
          },
          "metadata": {
            "tags": []
          },
          "execution_count": 56
        }
      ]
    },
    {
      "cell_type": "code",
      "metadata": {
        "colab": {
          "base_uri": "https://localhost:8080/"
        },
        "id": "kJqgcENp34aB",
        "outputId": "211d3732-ad97-4a8d-9a28-3d12d9000e11"
      },
      "source": [
        "is_prime(9999999999000000000000000009997)"
      ],
      "execution_count": null,
      "outputs": [
        {
          "output_type": "stream",
          "text": [
            "43 is a factor of 9999999999000000000000000009997.\n"
          ],
          "name": "stdout"
        },
        {
          "output_type": "execute_result",
          "data": {
            "text/plain": [
              "False"
            ]
          },
          "metadata": {
            "tags": []
          },
          "execution_count": 60
        }
      ]
    },
    {
      "cell_type": "code",
      "metadata": {
        "colab": {
          "base_uri": "https://localhost:8080/",
          "height": 287
        },
        "id": "tEO9nRnC4Kln",
        "outputId": "67988e6c-e156-420a-8d44-62a7e1d17623"
      },
      "source": [
        "is_prime(2**101 - 1)"
      ],
      "execution_count": null,
      "outputs": [
        {
          "output_type": "error",
          "ename": "KeyboardInterrupt",
          "evalue": "ignored",
          "traceback": [
            "\u001b[0;31m---------------------------------------------------------------------------\u001b[0m",
            "\u001b[0;31mKeyboardInterrupt\u001b[0m                         Traceback (most recent call last)",
            "\u001b[0;32m<ipython-input-61-99150af8c36d>\u001b[0m in \u001b[0;36m<module>\u001b[0;34m()\u001b[0m\n\u001b[0;32m----> 1\u001b[0;31m \u001b[0mis_prime\u001b[0m\u001b[0;34m(\u001b[0m\u001b[0;36m2\u001b[0m\u001b[0;34m**\u001b[0m\u001b[0;36m101\u001b[0m \u001b[0;34m-\u001b[0m \u001b[0;36m1\u001b[0m\u001b[0;34m)\u001b[0m\u001b[0;34m\u001b[0m\u001b[0;34m\u001b[0m\u001b[0m\n\u001b[0m",
            "\u001b[0;32m<ipython-input-42-9b652073c8a0>\u001b[0m in \u001b[0;36mis_prime\u001b[0;34m(n)\u001b[0m\n\u001b[1;32m      5\u001b[0m     '''\n\u001b[1;32m      6\u001b[0m     \u001b[0;32mfor\u001b[0m \u001b[0mj\u001b[0m \u001b[0;32min\u001b[0m \u001b[0mrange\u001b[0m\u001b[0;34m(\u001b[0m\u001b[0;36m2\u001b[0m\u001b[0;34m,\u001b[0m\u001b[0mn\u001b[0m\u001b[0;34m)\u001b[0m\u001b[0;34m:\u001b[0m  \u001b[0;31m# the list of numbers 2,3,...,n-1.\u001b[0m\u001b[0;34m\u001b[0m\u001b[0;34m\u001b[0m\u001b[0m\n\u001b[0;32m----> 7\u001b[0;31m         \u001b[0;32mif\u001b[0m \u001b[0mn\u001b[0m\u001b[0;34m%\u001b[0m\u001b[0mj\u001b[0m \u001b[0;34m==\u001b[0m \u001b[0;36m0\u001b[0m\u001b[0;34m:\u001b[0m  \u001b[0;31m# is n divisible by j?\u001b[0m\u001b[0;34m\u001b[0m\u001b[0;34m\u001b[0m\u001b[0m\n\u001b[0m\u001b[1;32m      8\u001b[0m             \u001b[0mprint\u001b[0m\u001b[0;34m(\u001b[0m\u001b[0;34m\"{} is a factor of {}.\"\u001b[0m\u001b[0;34m.\u001b[0m\u001b[0mformat\u001b[0m\u001b[0;34m(\u001b[0m\u001b[0mj\u001b[0m\u001b[0;34m,\u001b[0m\u001b[0mn\u001b[0m\u001b[0;34m)\u001b[0m\u001b[0;34m)\u001b[0m\u001b[0;34m\u001b[0m\u001b[0;34m\u001b[0m\u001b[0m\n\u001b[1;32m      9\u001b[0m             \u001b[0;32mreturn\u001b[0m \u001b[0;32mFalse\u001b[0m\u001b[0;34m\u001b[0m\u001b[0;34m\u001b[0m\u001b[0m\n",
            "\u001b[0;31mKeyboardInterrupt\u001b[0m: "
          ]
        }
      ]
    },
    {
      "cell_type": "markdown",
      "metadata": {
        "id": "8my0MlwqwBYO"
      },
      "source": [
        "There are two limiting factors, which we study in more detail later.  These are **time** and **space** (your computer's memory space).  As the loop of `is_prime` goes on and on, it might take your computer a long time!  If each step of the loop takes only a nanosecond (1 billionth of a second), the loop would take about a second when executing `is_prime(1000000001)`.  If you tried `is_prime` on a much larger number, like `is_prime(2**101 - 1)`, the loop would take longer than the lifetime of the Earth.\n",
        "\n",
        "The other issue that can arise is a problem with *space*.  In Python 3.x, the `range(2,n)` cleverly *avoids* storing all the numbers between `2` and `n-1` in memory.  It just remembers the endpoints, and how to proceed from one number to the next.  In the older version, Python 2.x, the range command `range(2,n)` would have tried to store the entire list of numbers `[2,3,4,...,n-1]` in the memory of your computer.  Your computer has some (4 or 8 or 16, perhaps) gigabytes of memory (RAM).  A gigabyte is a billion bytes, and a byte is enough memory to store a number between 0 and 255.  (More detail about this later!).  So a gigabyte will not even hold a billion numbers.  So our `is_prime` function would have led to memory problems in Python 2.x, but in Python 3.x we don't have to worry (for now) about space."
      ]
    },
    {
      "cell_type": "markdown",
      "metadata": {
        "id": "feMW3moswBYO"
      },
      "source": [
        "### Exercises\n",
        "\n",
        "1.  Create a function `my_abs(x)` which outputs the absolute value of the argument `x`.  (Note that Python already has a built-in `abs(x)` function).  \n",
        "\n",
        "2.  Modify the `is_prime` function so that it prints a message `Number too big` and returns `None` if the input argument is bigger than one million.  (Note that `None` is a Python reserved word.  You can use the one-line statement `return None`.)  \n",
        "\n",
        "3.  Write a Python function `thrarity` which takes an argument `n`, and outputs the string `threeven` if `n` is a multiple of three, or `throdd` is `n` is one more than a multiple of three, or `thrugly` if `n` is one less than a multiple of three.  Example:  `thrarity(31)` should output `throdd` and `thrarity(44)` should output `thrugly`.  Hint:  study the `if`/`elif` syntax at [the official Python tutorial](https://docs.python.org/3/tutorial/controlflow.html#if-statements)\n",
        "\n",
        "4.  Write a Python function `sum_of_squares(n)` which finds and prints a pair of natural numbers $x$, $y$, such that $x^2 + y^2 = n$.  The function should use a brute force search and return `None` if no such pair of numbers $x,y$ exists.  Explore which natural numbers can be expressed as sums of two squares... hint:  look at prime numbers first!\n",
        "\n",
        "5.  Write a function `gamma(n)` which takes a positive integer n as input, and outputs the difference between the harmonic sum $\\frac{1}{1} + \\frac{1}{2} + \\frac{1}{3} + \\cdots + \\frac{1}{n}$ and the natural logarithm $\\log(n)$.  Use numpy to compute the logarithm, by using the command `from numpy import log` in a separate cell.  Approximate $\\gamma(n)$ as $n \\rightarrow \\infty$.  How large does $n$ need to be to get five digits of precision on this limit?  Can you prove that the limit $\\lim_{n \\rightarrow \\infty} \\gamma(n)$ exists?"
      ]
    },
    {
      "cell_type": "markdown",
      "metadata": {
        "id": "RHw12UmozFvI"
      },
      "source": [
        "#### 1\n",
        "Create a function `my_abs(x)` which outputs the absolute value of the argument `x`.  (Note that Python already has a built-in `abs(x)` function)."
      ]
    },
    {
      "cell_type": "code",
      "metadata": {
        "colab": {
          "base_uri": "https://localhost:8080/"
        },
        "id": "CBKoQmtT0ocd",
        "outputId": "b649add5-91f7-4e57-db0a-6d3e51acd7f5"
      },
      "source": [
        "def my_abs(x):\n",
        "  print(x,'has the absolite value of',abs(x))\n",
        "my_abs(-10)\n"
      ],
      "execution_count": null,
      "outputs": [
        {
          "output_type": "stream",
          "text": [
            "-10 has the absolite value of 10\n"
          ],
          "name": "stdout"
        }
      ]
    },
    {
      "cell_type": "markdown",
      "metadata": {
        "id": "aFrZlQ8yzLCR"
      },
      "source": [
        "#### 2\n",
        "Modify the `is_prime` function so that it prints a message `Number too big` and returns `None` if the input argument is bigger than one million.  (Note that `None` is a Python reserved word.  You can use the one-line statement `return None`.) "
      ]
    },
    {
      "cell_type": "code",
      "metadata": {
        "colab": {
          "base_uri": "https://localhost:8080/"
        },
        "id": "VMGZ_T3I2nR4",
        "outputId": "96d5ec15-f119-40f4-ed09-868f6146535b"
      },
      "source": [
        "def is_prime(n):\n",
        "    if n > 1000000:\n",
        "      print('Number too big') # prints a message Number too big\n",
        "      return None             # returns None if the input argument is bigger than one million\n",
        "    for j in range(2,n):  # the list of numbers 2,3,...,n-1.\n",
        "        if n%j == 0:  # is n divisible by j?\n",
        "            print(\"{} is a factor of {}.\".format(j,n))\n",
        "            return False\n",
        "    return True\n",
        "    \n",
        "\n",
        "is_prime(9999999999000000000000000009997)\n",
        "is_prime(99997)"
      ],
      "execution_count": null,
      "outputs": [
        {
          "output_type": "stream",
          "text": [
            "Number too big\n",
            "19 is a factor of 99997.\n"
          ],
          "name": "stdout"
        },
        {
          "output_type": "execute_result",
          "data": {
            "text/plain": [
              "False"
            ]
          },
          "metadata": {
            "tags": []
          },
          "execution_count": 1
        }
      ]
    },
    {
      "cell_type": "markdown",
      "metadata": {
        "id": "l9zifwzHzRek"
      },
      "source": [
        "#### 3\n",
        "Write a Python function `thrarity` which takes an argument `n`, and outputs the string `threeven` if `n` is a multiple of three, or `throdd` is `n` is one more than a multiple of three, or `thrugly` if `n` is one less than a multiple of three.  Example:  `thrarity(31)` should output `throdd` and `thrarity(44)` should output `thrugly`.  Hint:  study the `if`/`elif` syntax at [the official Python tutorial](https://docs.python.org/3/tutorial/controlflow.html#if-statements)"
      ]
    },
    {
      "cell_type": "code",
      "metadata": {
        "id": "Gcqhh9NY6zEU"
      },
      "source": [
        "def tharity(n):\n",
        "  if n % 3 == 0: # n is a multiple of three\n",
        "    print('threeven')\n",
        "  elif n % 3 == 1: # n is one more than a multiple of three\n",
        "    print('throdd')\n",
        "  elif n % 3 == 2: # n is two more or one less than a multiple of three\n",
        "    print('thrugly')"
      ],
      "execution_count": null,
      "outputs": []
    },
    {
      "cell_type": "code",
      "metadata": {
        "colab": {
          "base_uri": "https://localhost:8080/"
        },
        "id": "GGrKVh2L8pWz",
        "outputId": "c03e99da-a6d0-49f2-d6f6-33a45edf4e85"
      },
      "source": [
        "tharity(44)"
      ],
      "execution_count": null,
      "outputs": [
        {
          "output_type": "stream",
          "text": [
            "thrugly\n"
          ],
          "name": "stdout"
        }
      ]
    },
    {
      "cell_type": "code",
      "metadata": {
        "colab": {
          "base_uri": "https://localhost:8080/"
        },
        "id": "2UYLWX1B8q81",
        "outputId": "715e2363-b9d8-4d5a-a9f5-82020f02261b"
      },
      "source": [
        "tharity(30)"
      ],
      "execution_count": null,
      "outputs": [
        {
          "output_type": "stream",
          "text": [
            "threeven\n"
          ],
          "name": "stdout"
        }
      ]
    },
    {
      "cell_type": "code",
      "metadata": {
        "colab": {
          "base_uri": "https://localhost:8080/"
        },
        "id": "KNiYcA6w8s4V",
        "outputId": "5a0acbd5-4212-423a-adba-3d87539c6c9c"
      },
      "source": [
        "tharity(31)"
      ],
      "execution_count": null,
      "outputs": [
        {
          "output_type": "stream",
          "text": [
            "throdd\n"
          ],
          "name": "stdout"
        }
      ]
    },
    {
      "cell_type": "markdown",
      "metadata": {
        "id": "U-fEkDQozX3S"
      },
      "source": [
        "#### 4\n",
        "Write a Python function `sum_of_squares(n)` which finds and prints a pair of natural numbers $x$, $y$, such that $x^2 + y^2 = n$.  The function should use a brute force search and return `None` if no such pair of numbers $x,y$ exists.  Explore which natural numbers can be expressed as sums of two squares... hint:  look at prime numbers first!"
      ]
    },
    {
      "cell_type": "code",
      "metadata": {
        "id": "GEA0EaF0-MEp"
      },
      "source": [
        "# find a pair of natural numbers  𝑥, 𝑦, such that x^2 + y^2 = n\n",
        "def sum_of_squares(n):\n",
        "  for x in range (1,n):\n",
        "    a = x**2\n",
        "    for y in range (1,n):\n",
        "      b = y**2\n",
        "      if (a + b == n):\n",
        "       print('{}^2 + {}^2 = {}'.format(x,y,n))\n",
        "       return x, y\n",
        "      else:\n",
        "        continue"
      ],
      "execution_count": null,
      "outputs": []
    },
    {
      "cell_type": "code",
      "metadata": {
        "colab": {
          "base_uri": "https://localhost:8080/"
        },
        "id": "DqVHymNQXWZs",
        "outputId": "e53f901a-0218-4750-b534-6b261c47eac0"
      },
      "source": [
        "sum_of_squares(8)"
      ],
      "execution_count": null,
      "outputs": [
        {
          "output_type": "stream",
          "text": [
            "2^2 + 2^2 = 8\n"
          ],
          "name": "stdout"
        },
        {
          "output_type": "execute_result",
          "data": {
            "text/plain": [
              "(2, 2)"
            ]
          },
          "metadata": {
            "tags": []
          },
          "execution_count": 8
        }
      ]
    },
    {
      "cell_type": "code",
      "metadata": {
        "colab": {
          "base_uri": "https://localhost:8080/",
          "height": 1000
        },
        "id": "CYObNk47z8ag",
        "outputId": "2ce95641-a304-47f6-c7f4-ad29ea251a37"
      },
      "source": [
        "for i in range (1,500):\n",
        "  if sum_of_squares(i) == None:  # return None if no such pair of numbers  𝑥,𝑦  exists.\n",
        "    continue #continue to check the sum of squares.\n",
        "  else:\n",
        "    sum_of_squares(i)\n",
        "'''\n",
        "After list a range in (1,500), I noticed that some prime number in the range\n",
        "is a sum of squares of two numbers, such as 5, 13, 17, 41... By observation,\n",
        "they are all congruent to 1 modulo 4\n",
        "\n",
        "However, prime numbers such as 3, 7, 11, 19, 23... cannot be express as sum of\n",
        "squares. By observation, they are all congruent to 3 modulo 4.\n",
        "\n",
        "There are also some non-prime numbers can be formed with sum of squares of two\n",
        "numbers such as 8, 10, 20, 25...\n",
        "'''"
      ],
      "execution_count": null,
      "outputs": [
        {
          "output_type": "stream",
          "text": [
            "1^2 + 1^2 = 2\n",
            "1^2 + 1^2 = 2\n",
            "1^2 + 2^2 = 5\n",
            "1^2 + 2^2 = 5\n",
            "2^2 + 2^2 = 8\n",
            "2^2 + 2^2 = 8\n",
            "1^2 + 3^2 = 10\n",
            "1^2 + 3^2 = 10\n",
            "2^2 + 3^2 = 13\n",
            "2^2 + 3^2 = 13\n",
            "1^2 + 4^2 = 17\n",
            "1^2 + 4^2 = 17\n",
            "3^2 + 3^2 = 18\n",
            "3^2 + 3^2 = 18\n",
            "2^2 + 4^2 = 20\n",
            "2^2 + 4^2 = 20\n",
            "3^2 + 4^2 = 25\n",
            "3^2 + 4^2 = 25\n",
            "1^2 + 5^2 = 26\n",
            "1^2 + 5^2 = 26\n",
            "2^2 + 5^2 = 29\n",
            "2^2 + 5^2 = 29\n",
            "4^2 + 4^2 = 32\n",
            "4^2 + 4^2 = 32\n",
            "3^2 + 5^2 = 34\n",
            "3^2 + 5^2 = 34\n",
            "1^2 + 6^2 = 37\n",
            "1^2 + 6^2 = 37\n",
            "2^2 + 6^2 = 40\n",
            "2^2 + 6^2 = 40\n",
            "4^2 + 5^2 = 41\n",
            "4^2 + 5^2 = 41\n",
            "3^2 + 6^2 = 45\n",
            "3^2 + 6^2 = 45\n",
            "1^2 + 7^2 = 50\n",
            "1^2 + 7^2 = 50\n",
            "4^2 + 6^2 = 52\n",
            "4^2 + 6^2 = 52\n",
            "2^2 + 7^2 = 53\n",
            "2^2 + 7^2 = 53\n",
            "3^2 + 7^2 = 58\n",
            "3^2 + 7^2 = 58\n",
            "5^2 + 6^2 = 61\n",
            "5^2 + 6^2 = 61\n",
            "1^2 + 8^2 = 65\n",
            "1^2 + 8^2 = 65\n",
            "2^2 + 8^2 = 68\n",
            "2^2 + 8^2 = 68\n",
            "6^2 + 6^2 = 72\n",
            "6^2 + 6^2 = 72\n",
            "3^2 + 8^2 = 73\n",
            "3^2 + 8^2 = 73\n",
            "5^2 + 7^2 = 74\n",
            "5^2 + 7^2 = 74\n",
            "4^2 + 8^2 = 80\n",
            "4^2 + 8^2 = 80\n",
            "1^2 + 9^2 = 82\n",
            "1^2 + 9^2 = 82\n",
            "2^2 + 9^2 = 85\n",
            "2^2 + 9^2 = 85\n",
            "5^2 + 8^2 = 89\n",
            "5^2 + 8^2 = 89\n",
            "3^2 + 9^2 = 90\n",
            "3^2 + 9^2 = 90\n",
            "4^2 + 9^2 = 97\n",
            "4^2 + 9^2 = 97\n",
            "7^2 + 7^2 = 98\n",
            "7^2 + 7^2 = 98\n",
            "6^2 + 8^2 = 100\n",
            "6^2 + 8^2 = 100\n",
            "1^2 + 10^2 = 101\n",
            "1^2 + 10^2 = 101\n",
            "2^2 + 10^2 = 104\n",
            "2^2 + 10^2 = 104\n",
            "5^2 + 9^2 = 106\n",
            "5^2 + 9^2 = 106\n",
            "3^2 + 10^2 = 109\n",
            "3^2 + 10^2 = 109\n",
            "7^2 + 8^2 = 113\n",
            "7^2 + 8^2 = 113\n",
            "4^2 + 10^2 = 116\n",
            "4^2 + 10^2 = 116\n",
            "6^2 + 9^2 = 117\n",
            "6^2 + 9^2 = 117\n",
            "1^2 + 11^2 = 122\n",
            "1^2 + 11^2 = 122\n",
            "2^2 + 11^2 = 125\n",
            "2^2 + 11^2 = 125\n",
            "8^2 + 8^2 = 128\n",
            "8^2 + 8^2 = 128\n",
            "3^2 + 11^2 = 130\n",
            "3^2 + 11^2 = 130\n",
            "6^2 + 10^2 = 136\n",
            "6^2 + 10^2 = 136\n",
            "4^2 + 11^2 = 137\n",
            "4^2 + 11^2 = 137\n",
            "1^2 + 12^2 = 145\n",
            "1^2 + 12^2 = 145\n",
            "5^2 + 11^2 = 146\n",
            "5^2 + 11^2 = 146\n",
            "2^2 + 12^2 = 148\n",
            "2^2 + 12^2 = 148\n",
            "7^2 + 10^2 = 149\n",
            "7^2 + 10^2 = 149\n",
            "3^2 + 12^2 = 153\n",
            "3^2 + 12^2 = 153\n",
            "6^2 + 11^2 = 157\n",
            "6^2 + 11^2 = 157\n",
            "4^2 + 12^2 = 160\n",
            "4^2 + 12^2 = 160\n",
            "9^2 + 9^2 = 162\n",
            "9^2 + 9^2 = 162\n",
            "8^2 + 10^2 = 164\n",
            "8^2 + 10^2 = 164\n",
            "5^2 + 12^2 = 169\n",
            "5^2 + 12^2 = 169\n",
            "1^2 + 13^2 = 170\n",
            "1^2 + 13^2 = 170\n",
            "2^2 + 13^2 = 173\n",
            "2^2 + 13^2 = 173\n",
            "3^2 + 13^2 = 178\n",
            "3^2 + 13^2 = 178\n",
            "6^2 + 12^2 = 180\n",
            "6^2 + 12^2 = 180\n",
            "9^2 + 10^2 = 181\n",
            "9^2 + 10^2 = 181\n",
            "4^2 + 13^2 = 185\n",
            "4^2 + 13^2 = 185\n",
            "7^2 + 12^2 = 193\n",
            "7^2 + 12^2 = 193\n",
            "5^2 + 13^2 = 194\n",
            "5^2 + 13^2 = 194\n",
            "1^2 + 14^2 = 197\n",
            "1^2 + 14^2 = 197\n",
            "2^2 + 14^2 = 200\n",
            "2^2 + 14^2 = 200\n",
            "9^2 + 11^2 = 202\n",
            "9^2 + 11^2 = 202\n",
            "3^2 + 14^2 = 205\n",
            "3^2 + 14^2 = 205\n",
            "8^2 + 12^2 = 208\n",
            "8^2 + 12^2 = 208\n",
            "4^2 + 14^2 = 212\n",
            "4^2 + 14^2 = 212\n",
            "7^2 + 13^2 = 218\n",
            "7^2 + 13^2 = 218\n",
            "5^2 + 14^2 = 221\n",
            "5^2 + 14^2 = 221\n",
            "9^2 + 12^2 = 225\n",
            "9^2 + 12^2 = 225\n",
            "1^2 + 15^2 = 226\n",
            "1^2 + 15^2 = 226\n",
            "2^2 + 15^2 = 229\n",
            "2^2 + 15^2 = 229\n",
            "6^2 + 14^2 = 232\n",
            "6^2 + 14^2 = 232\n",
            "8^2 + 13^2 = 233\n",
            "8^2 + 13^2 = 233\n",
            "3^2 + 15^2 = 234\n",
            "3^2 + 15^2 = 234\n",
            "4^2 + 15^2 = 241\n",
            "4^2 + 15^2 = 241\n",
            "11^2 + 11^2 = 242\n",
            "11^2 + 11^2 = 242\n",
            "10^2 + 12^2 = 244\n",
            "10^2 + 12^2 = 244\n",
            "7^2 + 14^2 = 245\n",
            "7^2 + 14^2 = 245\n",
            "5^2 + 15^2 = 250\n",
            "5^2 + 15^2 = 250\n",
            "1^2 + 16^2 = 257\n",
            "1^2 + 16^2 = 257\n",
            "2^2 + 16^2 = 260\n",
            "2^2 + 16^2 = 260\n",
            "6^2 + 15^2 = 261\n",
            "6^2 + 15^2 = 261\n",
            "3^2 + 16^2 = 265\n",
            "3^2 + 16^2 = 265\n",
            "10^2 + 13^2 = 269\n",
            "10^2 + 13^2 = 269\n",
            "4^2 + 16^2 = 272\n",
            "4^2 + 16^2 = 272\n",
            "7^2 + 15^2 = 274\n",
            "7^2 + 15^2 = 274\n",
            "9^2 + 14^2 = 277\n",
            "9^2 + 14^2 = 277\n",
            "5^2 + 16^2 = 281\n",
            "5^2 + 16^2 = 281\n",
            "12^2 + 12^2 = 288\n",
            "12^2 + 12^2 = 288\n",
            "8^2 + 15^2 = 289\n",
            "8^2 + 15^2 = 289\n",
            "1^2 + 17^2 = 290\n",
            "1^2 + 17^2 = 290\n",
            "6^2 + 16^2 = 292\n",
            "6^2 + 16^2 = 292\n",
            "2^2 + 17^2 = 293\n",
            "2^2 + 17^2 = 293\n",
            "10^2 + 14^2 = 296\n",
            "10^2 + 14^2 = 296\n",
            "3^2 + 17^2 = 298\n",
            "3^2 + 17^2 = 298\n",
            "4^2 + 17^2 = 305\n",
            "4^2 + 17^2 = 305\n",
            "9^2 + 15^2 = 306\n",
            "9^2 + 15^2 = 306\n",
            "12^2 + 13^2 = 313\n",
            "12^2 + 13^2 = 313\n",
            "5^2 + 17^2 = 314\n",
            "5^2 + 17^2 = 314\n",
            "11^2 + 14^2 = 317\n",
            "11^2 + 14^2 = 317\n",
            "8^2 + 16^2 = 320\n",
            "8^2 + 16^2 = 320\n",
            "1^2 + 18^2 = 325\n",
            "1^2 + 18^2 = 325\n",
            "2^2 + 18^2 = 328\n",
            "2^2 + 18^2 = 328\n",
            "3^2 + 18^2 = 333\n",
            "3^2 + 18^2 = 333\n",
            "9^2 + 16^2 = 337\n",
            "9^2 + 16^2 = 337\n",
            "7^2 + 17^2 = 338\n",
            "7^2 + 17^2 = 338\n",
            "4^2 + 18^2 = 340\n",
            "4^2 + 18^2 = 340\n",
            "11^2 + 15^2 = 346\n",
            "11^2 + 15^2 = 346\n",
            "5^2 + 18^2 = 349\n",
            "5^2 + 18^2 = 349\n",
            "8^2 + 17^2 = 353\n",
            "8^2 + 17^2 = 353\n",
            "10^2 + 16^2 = 356\n",
            "10^2 + 16^2 = 356\n",
            "6^2 + 18^2 = 360\n",
            "6^2 + 18^2 = 360\n",
            "1^2 + 19^2 = 362\n",
            "1^2 + 19^2 = 362\n",
            "2^2 + 19^2 = 365\n",
            "2^2 + 19^2 = 365\n",
            "12^2 + 15^2 = 369\n",
            "12^2 + 15^2 = 369\n",
            "3^2 + 19^2 = 370\n",
            "3^2 + 19^2 = 370\n",
            "7^2 + 18^2 = 373\n",
            "7^2 + 18^2 = 373\n",
            "4^2 + 19^2 = 377\n",
            "4^2 + 19^2 = 377\n",
            "5^2 + 19^2 = 386\n",
            "5^2 + 19^2 = 386\n",
            "8^2 + 18^2 = 388\n",
            "8^2 + 18^2 = 388\n",
            "10^2 + 17^2 = 389\n",
            "10^2 + 17^2 = 389\n",
            "14^2 + 14^2 = 392\n",
            "14^2 + 14^2 = 392\n",
            "13^2 + 15^2 = 394\n",
            "13^2 + 15^2 = 394\n",
            "6^2 + 19^2 = 397\n",
            "6^2 + 19^2 = 397\n",
            "12^2 + 16^2 = 400\n",
            "12^2 + 16^2 = 400\n",
            "1^2 + 20^2 = 401\n",
            "1^2 + 20^2 = 401\n",
            "2^2 + 20^2 = 404\n",
            "2^2 + 20^2 = 404\n",
            "9^2 + 18^2 = 405\n",
            "9^2 + 18^2 = 405\n",
            "3^2 + 20^2 = 409\n",
            "3^2 + 20^2 = 409\n",
            "7^2 + 19^2 = 410\n",
            "7^2 + 19^2 = 410\n",
            "4^2 + 20^2 = 416\n",
            "4^2 + 20^2 = 416\n",
            "14^2 + 15^2 = 421\n",
            "14^2 + 15^2 = 421\n",
            "10^2 + 18^2 = 424\n",
            "10^2 + 18^2 = 424\n",
            "5^2 + 20^2 = 425\n",
            "5^2 + 20^2 = 425\n",
            "12^2 + 17^2 = 433\n",
            "12^2 + 17^2 = 433\n",
            "6^2 + 20^2 = 436\n",
            "6^2 + 20^2 = 436\n",
            "1^2 + 21^2 = 442\n",
            "1^2 + 21^2 = 442\n",
            "2^2 + 21^2 = 445\n",
            "2^2 + 21^2 = 445\n",
            "7^2 + 20^2 = 449\n",
            "7^2 + 20^2 = 449\n",
            "3^2 + 21^2 = 450\n",
            "3^2 + 21^2 = 450\n",
            "14^2 + 16^2 = 452\n",
            "14^2 + 16^2 = 452\n",
            "4^2 + 21^2 = 457\n",
            "4^2 + 21^2 = 457\n",
            "13^2 + 17^2 = 458\n",
            "13^2 + 17^2 = 458\n",
            "10^2 + 19^2 = 461\n",
            "10^2 + 19^2 = 461\n",
            "8^2 + 20^2 = 464\n",
            "8^2 + 20^2 = 464\n",
            "5^2 + 21^2 = 466\n",
            "5^2 + 21^2 = 466\n",
            "12^2 + 18^2 = 468\n",
            "12^2 + 18^2 = 468\n",
            "6^2 + 21^2 = 477\n",
            "6^2 + 21^2 = 477\n",
            "9^2 + 20^2 = 481\n",
            "9^2 + 20^2 = 481\n",
            "11^2 + 19^2 = 482\n",
            "11^2 + 19^2 = 482\n",
            "1^2 + 22^2 = 485\n",
            "1^2 + 22^2 = 485\n",
            "2^2 + 22^2 = 488\n",
            "2^2 + 22^2 = 488\n",
            "7^2 + 21^2 = 490\n",
            "7^2 + 21^2 = 490\n",
            "3^2 + 22^2 = 493\n",
            "3^2 + 22^2 = 493\n"
          ],
          "name": "stdout"
        },
        {
          "output_type": "execute_result",
          "data": {
            "application/vnd.google.colaboratory.intrinsic+json": {
              "type": "string"
            },
            "text/plain": [
              "'\\nAfter list a range in (1,500), I noticed that some prime number in the range\\nis a sum of squares of two numbers, such as 5, 13, 17, 41... By observation,\\nthey are all congruent to 1 modulo 4\\n\\nHowever, prime numbers such as 3, 7, 11, 19, 23... cannot be express as sum of\\nsquares. By observation, they are all congruent to 3 modulo 4.\\n\\nThere are also some non-prime numbers can be formed with sum of squares of two\\nnumbers such as 8, 10, 20, 25...\\n'"
            ]
          },
          "metadata": {
            "tags": []
          },
          "execution_count": 9
        }
      ]
    },
    {
      "cell_type": "markdown",
      "metadata": {
        "id": "b61bQ1tazewv"
      },
      "source": [
        "#### 5\n",
        "Write a function `gamma(n)` which takes a positive integer n as input, and outputs the difference between the harmonic sum $\\frac{1}{1} + \\frac{1}{2} + \\frac{1}{3} + \\cdots + \\frac{1}{n}$ and the natural logarithm $\\log(n)$.  Use numpy to compute the logarithm, by using the command `from numpy import log` in a separate cell.  Approximate $\\gamma(n)$ as $n \\rightarrow \\infty$.  How large does $n$ need to be to get five digits of precision on this limit?  Can you prove that the limit $\\lim_{n \\rightarrow \\infty} \\gamma(n)$ exists?"
      ]
    },
    {
      "cell_type": "code",
      "metadata": {
        "colab": {
          "base_uri": "https://localhost:8080/"
        },
        "id": "jQPfSxfi5A24",
        "outputId": "39a4b44b-7a96-4598-a7e0-22bce834f31d"
      },
      "source": [
        "from numpy import log\n",
        "def harmonic(n):\n",
        "  s = 0\n",
        "  for i in range(1,n+1):\n",
        "    s = s + 1 / i\n",
        "  return s\n",
        "def gamma(n):\n",
        "  return harmonic(n) - log(n)\n",
        "\n",
        "gamma(224) - gamma(223) # in order to get five figits of precision on this limit, n should be greater than 224."
      ],
      "execution_count": null,
      "outputs": [
        {
          "output_type": "execute_result",
          "data": {
            "text/plain": [
              "-9.994680635116993e-06"
            ]
          },
          "metadata": {
            "tags": []
          },
          "execution_count": 55
        }
      ]
    },
    {
      "cell_type": "markdown",
      "metadata": {
        "id": "Y7LDeVaqSDCd"
      },
      "source": [
        "To prove the limit $\\lim_{n \\rightarrow \\infty} \\gamma(n)$ exists. We need to know that \n",
        "$$\n",
        "ln(x) = \\int_1^n \\frac{1}{x} \\;dx\n",
        "$$\n",
        "\n",
        "Now the sequence should be \n",
        "$$\n",
        "x_n = \\frac{1}{1} + \\frac{1}{2} + \\frac{1}{3} + \\cdots + \\frac{1}{n} - \\int_1^n \\frac{1}{x} \\;dx\n",
        "$$\n",
        "\n",
        "to simplify this, we get:\n",
        "$$\n",
        "x_{n-1} - x_n = \\frac{1}{n+1} - \\int_{n}^{n+1} \\frac{1}{x} \\;dx\n",
        "$$\n",
        "\n",
        "This sequence must be `converge` because the boundury from $\\frac{1}{n+1} - \\frac{1}{n}$ to `0`. Therefore $\\lim_{n \\rightarrow \\infty} \\gamma(n)$ exists."
      ]
    },
    {
      "cell_type": "markdown",
      "metadata": {
        "id": "3To15qEUwBYP"
      },
      "source": [
        "## Handling errors by raising exceptions.\n",
        "\n",
        "In the previous batch of exercises, we tried to modify functions to be a bit more intelligent -- identifying when numbers were \"too big\" for example.  There's a professional way to handle these situations, by raising *exceptions*.  Here is the [official documentation on errors and exceptions](https://docs.python.org/3/tutorial/errors.html).  We will focus on raising exceptions to catch \"bad inputs\" to functions.  Let's revisit our `is_even` function."
      ]
    },
    {
      "cell_type": "code",
      "metadata": {
        "id": "DS9bCBIqwBYP"
      },
      "source": [
        "def is_even(n):\n",
        "    return (n%2 == 0)"
      ],
      "execution_count": null,
      "outputs": []
    },
    {
      "cell_type": "code",
      "metadata": {
        "id": "GOZ5MHnnwBYP",
        "colab": {
          "base_uri": "https://localhost:8080/",
          "height": 168
        },
        "outputId": "b1a2a0dc-9b85-41cf-c994-df3e78bd02e9"
      },
      "source": [
        "is_even(3.14)  # What will this do?"
      ],
      "execution_count": null,
      "outputs": [
        {
          "output_type": "error",
          "ename": "NameError",
          "evalue": "ignored",
          "traceback": [
            "\u001b[0;31m---------------------------------------------------------------------------\u001b[0m",
            "\u001b[0;31mNameError\u001b[0m                                 Traceback (most recent call last)",
            "\u001b[0;32m<ipython-input-2-1939dee66f01>\u001b[0m in \u001b[0;36m<module>\u001b[0;34m()\u001b[0m\n\u001b[0;32m----> 1\u001b[0;31m \u001b[0mis_even\u001b[0m\u001b[0;34m(\u001b[0m\u001b[0;36m3.14\u001b[0m\u001b[0;34m)\u001b[0m  \u001b[0;31m# What will this do?\u001b[0m\u001b[0;34m\u001b[0m\u001b[0;34m\u001b[0m\u001b[0m\n\u001b[0m",
            "\u001b[0;31mNameError\u001b[0m: name 'is_even' is not defined"
          ]
        }
      ]
    },
    {
      "cell_type": "code",
      "metadata": {
        "id": "03jjYiSAwBYP",
        "colab": {
          "base_uri": "https://localhost:8080/"
        },
        "outputId": "2bb49efc-59b7-4db7-efe9-ae4ca76fa2c8"
      },
      "source": [
        "3.14%2  # Well, this explains it!"
      ],
      "execution_count": null,
      "outputs": [
        {
          "output_type": "execute_result",
          "data": {
            "text/plain": [
              "1.1400000000000001"
            ]
          },
          "metadata": {
            "tags": []
          },
          "execution_count": 1
        }
      ]
    },
    {
      "cell_type": "markdown",
      "metadata": {
        "id": "aHh1P9VLwBYP"
      },
      "source": [
        "Although the output of `is_even(3.14)` might be what you want, a smarter function might let the user know that 3.14 should not be input into `is_even`.  We commonly ask whether *integers* are even or odd; if a non-integer ends up input to `is_even`, it might be a sign of a bug elsewhere.  One possibility is to modify the function by manually printing an error message."
      ]
    },
    {
      "cell_type": "code",
      "metadata": {
        "id": "9VOOuy9gwBYP"
      },
      "source": [
        "def is_even(n):\n",
        "    if type(n) == int:\n",
        "        return (n%2 == 0)\n",
        "    else:\n",
        "        print(\"Bad input!  Please input integers only.\")\n",
        "        return None"
      ],
      "execution_count": null,
      "outputs": []
    },
    {
      "cell_type": "code",
      "metadata": {
        "id": "TLJ67H-ywBYP",
        "colab": {
          "base_uri": "https://localhost:8080/"
        },
        "outputId": "ed714d4c-3b33-4f6e-d211-5ef2d29b4dcb"
      },
      "source": [
        "is_even(4)"
      ],
      "execution_count": null,
      "outputs": [
        {
          "output_type": "execute_result",
          "data": {
            "text/plain": [
              "True"
            ]
          },
          "metadata": {
            "tags": []
          },
          "execution_count": 5
        }
      ]
    },
    {
      "cell_type": "code",
      "metadata": {
        "id": "CiTMAaEDwBYP",
        "colab": {
          "base_uri": "https://localhost:8080/"
        },
        "outputId": "2cf598a5-79c2-4ca5-a9b1-dbfd0562eb10"
      },
      "source": [
        "is_even(3.14)"
      ],
      "execution_count": null,
      "outputs": [
        {
          "output_type": "stream",
          "text": [
            "Bad input!  Please input integers only.\n"
          ],
          "name": "stdout"
        }
      ]
    },
    {
      "cell_type": "code",
      "metadata": {
        "id": "Xivfhc_hwBYP",
        "colab": {
          "base_uri": "https://localhost:8080/"
        },
        "outputId": "8f2b257f-dcad-40ef-ea60-48f861093225"
      },
      "source": [
        "print(is_even(3.14))"
      ],
      "execution_count": null,
      "outputs": [
        {
          "output_type": "stream",
          "text": [
            "Bad input!  Please input integers only.\n",
            "None\n"
          ],
          "name": "stdout"
        }
      ]
    },
    {
      "cell_type": "markdown",
      "metadata": {
        "id": "HYS1gLB2wBYQ"
      },
      "source": [
        "This behavior is a bit better.  The output of the function is neither True nor False, when a non-integer is input.  Instead, the smarter function outputs `None`, which is exactly what it sounds like."
      ]
    },
    {
      "cell_type": "code",
      "metadata": {
        "id": "T76o3Qj4wBYQ",
        "colab": {
          "base_uri": "https://localhost:8080/"
        },
        "outputId": "bfb109be-cd7c-492f-81ee-4d7ec3a5cec7"
      },
      "source": [
        "type(None) # A zen command."
      ],
      "execution_count": null,
      "outputs": [
        {
          "output_type": "execute_result",
          "data": {
            "text/plain": [
              "NoneType"
            ]
          },
          "metadata": {
            "tags": []
          },
          "execution_count": 8
        }
      ]
    },
    {
      "cell_type": "markdown",
      "metadata": {
        "id": "lhq8w6v-wBYQ"
      },
      "source": [
        "Instead of manually using a print command and returning None, we can use Python's built-in `exception` class.  Raising exceptions is the Pythonic way of catching errors, and this will make things smoother in the long term.  Here's a new and safe `is_even` function."
      ]
    },
    {
      "cell_type": "code",
      "metadata": {
        "id": "o-vBb1KZwBYQ"
      },
      "source": [
        "def is_even(n):\n",
        "    if type(n) == int:\n",
        "        return (n%2 == 0)\n",
        "    else:\n",
        "        raise TypeError('Only integers can be even or odd.')"
      ],
      "execution_count": null,
      "outputs": []
    },
    {
      "cell_type": "code",
      "metadata": {
        "id": "FNeJyPH7wBYQ",
        "colab": {
          "base_uri": "https://localhost:8080/"
        },
        "outputId": "ec76aa78-ac99-423f-fc8b-252d5de11968"
      },
      "source": [
        "is_even(3)"
      ],
      "execution_count": null,
      "outputs": [
        {
          "output_type": "execute_result",
          "data": {
            "text/plain": [
              "False"
            ]
          },
          "metadata": {
            "tags": []
          },
          "execution_count": 9
        }
      ]
    },
    {
      "cell_type": "code",
      "metadata": {
        "id": "REx_SS02wBYQ",
        "colab": {
          "base_uri": "https://localhost:8080/"
        },
        "outputId": "c76cd072-d1b9-47cd-b1a5-a425b78cabed"
      },
      "source": [
        "is_even(3.14)"
      ],
      "execution_count": null,
      "outputs": [
        {
          "output_type": "stream",
          "text": [
            "Bad input!  Please input integers only.\n"
          ],
          "name": "stdout"
        }
      ]
    },
    {
      "cell_type": "markdown",
      "metadata": {
        "id": "63MDXiHmwBYQ"
      },
      "source": [
        "Instead of manually printing the error message and returning `None`, we have raised a `TypeError`.  This gives information about the kind of error, and a custom error message is displayed at the end.  Type errors are meant for situations where a variable belongs to the wrong type.  `TypeError` is just one kind of \"exception\" -- the full built-in hierarchy of exceptions can be found in the [official Python documentation](https://docs.python.org/3/library/exceptions.html#exception-hierarchy).\n",
        "\n",
        "Another kind of exception is the `ValueError`.  It seems similar to `TypeError` at first, but `ValueError` is meant to catch an input that has a \"bad\" value, even if it is the right type.  For example, here is a square root function that only works with positive input.  It should raise an exception (error message) when a negative number is input.  Both positive and negative numbers can be represented as floats, so the error doesn't represent the *wrong type*.  The error represents a *bad value*.  "
      ]
    },
    {
      "cell_type": "code",
      "metadata": {
        "id": "EDP_mj_kwBYQ"
      },
      "source": [
        "def sqrt(x):\n",
        "    '''\n",
        "    Estimates the square root of a positive number x.\n",
        "    '''\n",
        "    if x < 0:\n",
        "        raise ValueError('Cannot approximate square root of negative numbers.')\n",
        "    guess= x/2 # A decent place to start\n",
        "    while True: # A dangerous loop!  See next section...\n",
        "        new_guess = 0.5 * (guess + x/guess)\n",
        "        if abs(new_guess - guess) < .000000001: # close enough!\n",
        "            return new_guess\n",
        "        guess = new_guess"
      ],
      "execution_count": null,
      "outputs": []
    },
    {
      "cell_type": "code",
      "metadata": {
        "id": "IGvUTIeGwBYR"
      },
      "source": [
        "sqrt(3) # This should be ok."
      ],
      "execution_count": null,
      "outputs": []
    },
    {
      "cell_type": "code",
      "metadata": {
        "scrolled": true,
        "id": "6_KtVtuDwBYR"
      },
      "source": [
        "sqrt(-3)"
      ],
      "execution_count": null,
      "outputs": []
    },
    {
      "cell_type": "markdown",
      "metadata": {
        "id": "z30cT4LMwBYR"
      },
      "source": [
        "By raising the `ValueError`, we have avoided an endless loop... the sort of problem that crashes computers!  If you know that your function is only meant for certain kinds of inputs, it is best to catch errors by raising exceptions."
      ]
    },
    {
      "cell_type": "markdown",
      "metadata": {
        "id": "kR4KTs5ZwBYR"
      },
      "source": [
        "###Exercises\n",
        "\n",
        "1.  There's a special exception called `ZeroDivisionError`.  When do you think this occurs?  Try to make it occur!  Can you think of a time when you might want to raise this exception yourself?\n",
        "\n",
        "2.  Make the `is_prime` function safer by raising a `TypeError` or a `ValueError` when a \"bad\" input occurs."
      ]
    },
    {
      "cell_type": "markdown",
      "metadata": {
        "id": "sIqeGvEVzuxq"
      },
      "source": [
        "#### 1\n",
        "There's a special exception called `ZeroDivisionError`.  When do you think this occurs?  Try to make it occur!  Can you think of a time when you might want to raise this exception yourself?"
      ]
    },
    {
      "cell_type": "code",
      "metadata": {
        "id": "CPMBPeB5z_bD",
        "colab": {
          "base_uri": "https://localhost:8080/",
          "height": 168
        },
        "outputId": "218292a5-7fb3-4b3b-c572-aabc76389d79"
      },
      "source": [
        "20 / 0 #ZeroDivisionError occurs when a number divide by \"0\"."
      ],
      "execution_count": null,
      "outputs": [
        {
          "output_type": "error",
          "ename": "ZeroDivisionError",
          "evalue": "ignored",
          "traceback": [
            "\u001b[0;31m---------------------------------------------------------------------------\u001b[0m",
            "\u001b[0;31mZeroDivisionError\u001b[0m                         Traceback (most recent call last)",
            "\u001b[0;32m<ipython-input-12-072154a2af8e>\u001b[0m in \u001b[0;36m<module>\u001b[0;34m()\u001b[0m\n\u001b[0;32m----> 1\u001b[0;31m \u001b[0;36m20\u001b[0m \u001b[0;34m/\u001b[0m \u001b[0;36m0\u001b[0m \u001b[0;31m#ZeroDivisionError occurs when a number divide by \"0\".\u001b[0m\u001b[0;34m\u001b[0m\u001b[0;34m\u001b[0m\u001b[0m\n\u001b[0m",
            "\u001b[0;31mZeroDivisionError\u001b[0m: division by zero"
          ]
        }
      ]
    },
    {
      "cell_type": "markdown",
      "metadata": {
        "id": "pb-9T2zqz0Wz"
      },
      "source": [
        "#### 2\n",
        "Make the `is_prime` function safer by raising a `TypeError` or a `ValueError` when a \"bad\" input occurs."
      ]
    },
    {
      "cell_type": "code",
      "metadata": {
        "id": "HIP2JQq5-_tg"
      },
      "source": [
        "def is_prime(n):\n",
        "  if n > 1000000:\n",
        "    raise ValueError # when number greater tha 1000000\n",
        "  for j in range(2,n):  # the list of numbers 2,3,...,n-1.\n",
        "        if n%j == 0:  # is n divisible by j?\n",
        "            print(\"{} is a factor of {}.\".format(j,n))\n",
        "            return False  \n",
        "  return True\n",
        "  if type(n) != int:\n",
        "    raise TypeError #when number is not a integer\n",
        "    \n",
        "\n"
      ],
      "execution_count": null,
      "outputs": []
    },
    {
      "cell_type": "code",
      "metadata": {
        "colab": {
          "base_uri": "https://localhost:8080/",
          "height": 287
        },
        "id": "kNVP7jEm_vhR",
        "outputId": "b405b0bc-1189-4e30-d8f5-136a49a9deea"
      },
      "source": [
        "is_prime(3.66)"
      ],
      "execution_count": null,
      "outputs": [
        {
          "output_type": "error",
          "ename": "TypeError",
          "evalue": "ignored",
          "traceback": [
            "\u001b[0;31m---------------------------------------------------------------------------\u001b[0m",
            "\u001b[0;31mTypeError\u001b[0m                                 Traceback (most recent call last)",
            "\u001b[0;32m<ipython-input-11-af14b1dd75a8>\u001b[0m in \u001b[0;36m<module>\u001b[0;34m()\u001b[0m\n\u001b[0;32m----> 1\u001b[0;31m \u001b[0mis_prime\u001b[0m\u001b[0;34m(\u001b[0m\u001b[0;36m3.66\u001b[0m\u001b[0;34m)\u001b[0m\u001b[0;34m\u001b[0m\u001b[0;34m\u001b[0m\u001b[0m\n\u001b[0m",
            "\u001b[0;32m<ipython-input-10-c029d2884fc5>\u001b[0m in \u001b[0;36mis_prime\u001b[0;34m(n)\u001b[0m\n\u001b[1;32m      2\u001b[0m   \u001b[0;32mif\u001b[0m \u001b[0mn\u001b[0m \u001b[0;34m>\u001b[0m \u001b[0;36m1000000\u001b[0m\u001b[0;34m:\u001b[0m\u001b[0;34m\u001b[0m\u001b[0;34m\u001b[0m\u001b[0m\n\u001b[1;32m      3\u001b[0m     \u001b[0;32mraise\u001b[0m \u001b[0mValueError\u001b[0m \u001b[0;31m# when number greater tha 1000000\u001b[0m\u001b[0;34m\u001b[0m\u001b[0;34m\u001b[0m\u001b[0m\n\u001b[0;32m----> 4\u001b[0;31m   \u001b[0;32mfor\u001b[0m \u001b[0mj\u001b[0m \u001b[0;32min\u001b[0m \u001b[0mrange\u001b[0m\u001b[0;34m(\u001b[0m\u001b[0;36m2\u001b[0m\u001b[0;34m,\u001b[0m\u001b[0mn\u001b[0m\u001b[0;34m)\u001b[0m\u001b[0;34m:\u001b[0m  \u001b[0;31m# the list of numbers 2,3,...,n-1.\u001b[0m\u001b[0;34m\u001b[0m\u001b[0;34m\u001b[0m\u001b[0m\n\u001b[0m\u001b[1;32m      5\u001b[0m         \u001b[0;32mif\u001b[0m \u001b[0mn\u001b[0m\u001b[0;34m%\u001b[0m\u001b[0mj\u001b[0m \u001b[0;34m==\u001b[0m \u001b[0;36m0\u001b[0m\u001b[0;34m:\u001b[0m  \u001b[0;31m# is n divisible by j?\u001b[0m\u001b[0;34m\u001b[0m\u001b[0;34m\u001b[0m\u001b[0m\n\u001b[1;32m      6\u001b[0m             \u001b[0mprint\u001b[0m\u001b[0;34m(\u001b[0m\u001b[0;34m\"{} is a factor of {}.\"\u001b[0m\u001b[0;34m.\u001b[0m\u001b[0mformat\u001b[0m\u001b[0;34m(\u001b[0m\u001b[0mj\u001b[0m\u001b[0;34m,\u001b[0m\u001b[0mn\u001b[0m\u001b[0;34m)\u001b[0m\u001b[0;34m)\u001b[0m\u001b[0;34m\u001b[0m\u001b[0;34m\u001b[0m\u001b[0m\n",
            "\u001b[0;31mTypeError\u001b[0m: 'float' object cannot be interpreted as an integer"
          ]
        }
      ]
    },
    {
      "cell_type": "code",
      "metadata": {
        "colab": {
          "base_uri": "https://localhost:8080/"
        },
        "id": "NPAPOM-s_zMI",
        "outputId": "38922984-652b-45ad-b569-18012b3e1c50"
      },
      "source": [
        "is_prime(73)"
      ],
      "execution_count": null,
      "outputs": [
        {
          "output_type": "execute_result",
          "data": {
            "text/plain": [
              "True"
            ]
          },
          "metadata": {
            "tags": []
          },
          "execution_count": 12
        }
      ]
    },
    {
      "cell_type": "code",
      "metadata": {
        "colab": {
          "base_uri": "https://localhost:8080/",
          "height": 287
        },
        "id": "S8hYU0Cb2XJY",
        "outputId": "6366a782-7c25-4a1a-a82f-cce65fecf4f0"
      },
      "source": [
        "is_prime(100000000000)"
      ],
      "execution_count": null,
      "outputs": [
        {
          "output_type": "error",
          "ename": "ValueError",
          "evalue": "ignored",
          "traceback": [
            "\u001b[0;31m---------------------------------------------------------------------------\u001b[0m",
            "\u001b[0;31mValueError\u001b[0m                                Traceback (most recent call last)",
            "\u001b[0;32m<ipython-input-13-1d546e2967c3>\u001b[0m in \u001b[0;36m<module>\u001b[0;34m()\u001b[0m\n\u001b[0;32m----> 1\u001b[0;31m \u001b[0mis_prime\u001b[0m\u001b[0;34m(\u001b[0m\u001b[0;36m100000000000\u001b[0m\u001b[0;34m)\u001b[0m\u001b[0;34m\u001b[0m\u001b[0;34m\u001b[0m\u001b[0m\n\u001b[0m",
            "\u001b[0;32m<ipython-input-10-c029d2884fc5>\u001b[0m in \u001b[0;36mis_prime\u001b[0;34m(n)\u001b[0m\n\u001b[1;32m      1\u001b[0m \u001b[0;32mdef\u001b[0m \u001b[0mis_prime\u001b[0m\u001b[0;34m(\u001b[0m\u001b[0mn\u001b[0m\u001b[0;34m)\u001b[0m\u001b[0;34m:\u001b[0m\u001b[0;34m\u001b[0m\u001b[0;34m\u001b[0m\u001b[0m\n\u001b[1;32m      2\u001b[0m   \u001b[0;32mif\u001b[0m \u001b[0mn\u001b[0m \u001b[0;34m>\u001b[0m \u001b[0;36m1000000\u001b[0m\u001b[0;34m:\u001b[0m\u001b[0;34m\u001b[0m\u001b[0;34m\u001b[0m\u001b[0m\n\u001b[0;32m----> 3\u001b[0;31m     \u001b[0;32mraise\u001b[0m \u001b[0mValueError\u001b[0m \u001b[0;31m# when number greater tha 1000000\u001b[0m\u001b[0;34m\u001b[0m\u001b[0;34m\u001b[0m\u001b[0m\n\u001b[0m\u001b[1;32m      4\u001b[0m   \u001b[0;32mfor\u001b[0m \u001b[0mj\u001b[0m \u001b[0;32min\u001b[0m \u001b[0mrange\u001b[0m\u001b[0;34m(\u001b[0m\u001b[0;36m2\u001b[0m\u001b[0;34m,\u001b[0m\u001b[0mn\u001b[0m\u001b[0;34m)\u001b[0m\u001b[0;34m:\u001b[0m  \u001b[0;31m# the list of numbers 2,3,...,n-1.\u001b[0m\u001b[0;34m\u001b[0m\u001b[0;34m\u001b[0m\u001b[0m\n\u001b[1;32m      5\u001b[0m         \u001b[0;32mif\u001b[0m \u001b[0mn\u001b[0m\u001b[0;34m%\u001b[0m\u001b[0mj\u001b[0m \u001b[0;34m==\u001b[0m \u001b[0;36m0\u001b[0m\u001b[0;34m:\u001b[0m  \u001b[0;31m# is n divisible by j?\u001b[0m\u001b[0;34m\u001b[0m\u001b[0;34m\u001b[0m\u001b[0m\n",
            "\u001b[0;31mValueError\u001b[0m: "
          ]
        }
      ]
    },
    {
      "cell_type": "markdown",
      "metadata": {
        "id": "ViI7tbd-wBYR"
      },
      "source": [
        "## While loops and implementation of the Eucidean algorithm"
      ]
    },
    {
      "cell_type": "markdown",
      "metadata": {
        "id": "ORdn2x-bwBYR"
      },
      "source": [
        "We *almost* have all the tools we need to implement the Euclidean algorithm.  The last tool we will need is the **while loop**.  We have seen the *for loop* already, which is very useful for iterating over a range of numbers.  The Euclidean algorithm involves repetition, but there is no way to know in advance how many steps it will take.  The while loop allows us to repeat a process as long as a boolean value (sometimes called a **flag**) is True.  The following countdown example illustrates the structure of a while loop."
      ]
    },
    {
      "cell_type": "code",
      "metadata": {
        "id": "E40XDYt1wBYR"
      },
      "source": [
        "def countdown(n):\n",
        "    current_value = n\n",
        "    while current_value > 0:  # The condition (current_value > 0) is checked before every instance of the scope!\n",
        "        print(current_value)\n",
        "        current_value = current_value - 1\n",
        "    print(\"Blastoff!\")"
      ],
      "execution_count": null,
      "outputs": []
    },
    {
      "cell_type": "code",
      "metadata": {
        "id": "_D7SP8LSwBYS",
        "colab": {
          "base_uri": "https://localhost:8080/"
        },
        "outputId": "e2a406d9-2cdf-4d55-a468-6f412b12c4d4"
      },
      "source": [
        "countdown(10)"
      ],
      "execution_count": null,
      "outputs": [
        {
          "output_type": "stream",
          "text": [
            "10\n",
            "9\n",
            "8\n",
            "7\n",
            "6\n",
            "5\n",
            "4\n",
            "3\n",
            "2\n",
            "1\n",
            "Blastoff!\n"
          ],
          "name": "stdout"
        }
      ]
    },
    {
      "cell_type": "markdown",
      "metadata": {
        "id": "r-ydvNIIwBYS"
      },
      "source": [
        "The while loop syntax begins with `while <boolean>:` and the following indented lines comprise the scope of the loop.  If the boolean is `True`, then the scope of the loop is executed.  If the boolean is `True` again afterwards, then the scope of the loop is executed again.  And again and again and so on.\n",
        "\n",
        "This can be a **dangerous process**!  For example, what would happen if you made a little typo and the last line of the while loop read `current_value = current_value + 1`?  The numbers would increase and increase... and the boolean `current_value > 0` would **always** be `True`.  Therefore the loop would never end.  Bigger and bigger numbers would scroll down your computer screen.  \n",
        "\n",
        "You might panic under such a circumstance, and maybe turn your computer off to stop the loop.  Here is some advice for when your computer gets stuck in such a neverending loop:\n",
        "\n",
        "1.  Back up your work often.  When you're programming, make sure everything else is saved just in case.\n",
        "2.  Save your programming work (use \"Save and checkpoint\" under the \"File\" menu) often, especially before running a cell with a loop for the first time.\n",
        "3.  If you *do* get stuck in a neverending loop, click on \"Kernel... Interrupt\".  This will often unstick the loop and allow you to pick up where you left off.  \n",
        "4.  On a Mac, you might try a \"Force Quit\" of the Python process, using the Activity Manager.\n",
        "\n",
        "Now, if you're feeling brave, save your work, change the while loop so that it never ends, and try to recover where you left off.  But be aware that this could cause your computer to freeze or behave erratically, crashing your browser, etc.  Don't panic... it probably won't break your computer permanently.\n",
        "\n",
        "The neverending loop causes two problems here.  One is with your computer processor, which will be essentially spinning its wheels.  This is called [busy waiting](https://en.wikipedia.org/wiki/Busy_waiting), and your computer will essentially be busy waiting forever.  The other problem is that your loop is printing more and more lines of text into the notebook.  This could easily crash your web browser, which is trying to store and display zillions of lines of numbers.  So be ready for problems!  "
      ]
    },
    {
      "cell_type": "markdown",
      "metadata": {
        "id": "Dcic2bdMwBYS"
      },
      "source": [
        "### The Euclidean algorithm with a while loop"
      ]
    },
    {
      "cell_type": "markdown",
      "metadata": {
        "collapsed": true,
        "id": "wvrqN8prwBYS"
      },
      "source": [
        "The **Euclidean Algorithm** is a process of repeated division with remainder.  Beginning with two integers `a` (dividend) and `b` (divisor), one computes quotient `q` and remainder `q` to express `a = qb + r`.  Then `b` becomes the dividend and `r` becomes the divisor, and one repeats.  The repetition continues, and the **last nonzero** remainder is the greatest common divisor of `a` and `b`."
      ]
    },
    {
      "cell_type": "markdown",
      "metadata": {
        "id": "yHqhoD1NwBYS"
      },
      "source": [
        "We implement the Euclidean algorithm in a few variations.  The first will be a verbose version, to show the user what happens at every step.  We use a while loop to take care of the repetition."
      ]
    },
    {
      "cell_type": "code",
      "metadata": {
        "id": "1o4jC1FfwBYS"
      },
      "source": [
        "def Euclidean_algorithm(a,b):\n",
        "    dividend = a\n",
        "    divisor = b\n",
        "    while divisor != 0:   # Recall that != means \"is not equal to\".\n",
        "        quotient = dividend // divisor\n",
        "        remainder = dividend % divisor\n",
        "        print(\"{} = {} ({}) + {}\".format(dividend, quotient, divisor, remainder))\n",
        "        dividend = divisor  \n",
        "        divisor = remainder"
      ],
      "execution_count": null,
      "outputs": []
    },
    {
      "cell_type": "code",
      "metadata": {
        "id": "oCHA8gAxwBYS",
        "colab": {
          "base_uri": "https://localhost:8080/"
        },
        "outputId": "a97fa16a-2a76-4035-c4a6-582db44f36cf"
      },
      "source": [
        "Euclidean_algorithm(133, 58)"
      ],
      "execution_count": null,
      "outputs": [
        {
          "output_type": "stream",
          "text": [
            "133 = 2 (58) + 17\n",
            "58 = 3 (17) + 7\n",
            "17 = 2 (7) + 3\n",
            "7 = 2 (3) + 1\n",
            "3 = 3 (1) + 0\n"
          ],
          "name": "stdout"
        }
      ]
    },
    {
      "cell_type": "code",
      "metadata": {
        "id": "m5LME7V7wBYS",
        "colab": {
          "base_uri": "https://localhost:8080/"
        },
        "outputId": "be944d80-1913-4e7d-d255-4f6e50e206e9"
      },
      "source": [
        "Euclidean_algorithm(1312331323, 58123123)"
      ],
      "execution_count": null,
      "outputs": [
        {
          "output_type": "stream",
          "text": [
            "1312331323 = 22 (58123123) + 33622617\n",
            "58123123 = 1 (33622617) + 24500506\n",
            "33622617 = 1 (24500506) + 9122111\n",
            "24500506 = 2 (9122111) + 6256284\n",
            "9122111 = 1 (6256284) + 2865827\n",
            "6256284 = 2 (2865827) + 524630\n",
            "2865827 = 5 (524630) + 242677\n",
            "524630 = 2 (242677) + 39276\n",
            "242677 = 6 (39276) + 7021\n",
            "39276 = 5 (7021) + 4171\n",
            "7021 = 1 (4171) + 2850\n",
            "4171 = 1 (2850) + 1321\n",
            "2850 = 2 (1321) + 208\n",
            "1321 = 6 (208) + 73\n",
            "208 = 2 (73) + 62\n",
            "73 = 1 (62) + 11\n",
            "62 = 5 (11) + 7\n",
            "11 = 1 (7) + 4\n",
            "7 = 1 (4) + 3\n",
            "4 = 1 (3) + 1\n",
            "3 = 3 (1) + 0\n"
          ],
          "name": "stdout"
        }
      ]
    },
    {
      "cell_type": "markdown",
      "metadata": {
        "id": "M7dfBZn0wBYS"
      },
      "source": [
        "This is excellent if we want to know every step of the Euclidean algorithm.  If we just want to know the GCD of two numbers, we can be less verbose.  We carefully return the last nonzero remainder after the while loop is concluded.  This last nonzero remainder becomes the divisor when the remainder becomes zero, and then it would become the dividend in the next (unprinted) line.  That is why we return the (absolute value) of the dividend after the loop is concluded.  You might insert a line at the end of the loop, like `print(dividend, divisor, remainder)` to help you track the variables."
      ]
    },
    {
      "cell_type": "code",
      "metadata": {
        "id": "amer9VWSwBYT"
      },
      "source": [
        "def GCD(a,b):\n",
        "    dividend = a # The first dividend is a.\n",
        "    divisor = b # The first divisor is b.\n",
        "    while divisor != 0:   # Recall that != means \"not equal to\".\n",
        "        quotient = dividend // divisor\n",
        "        remainder = dividend % divisor\n",
        "        dividend = divisor  \n",
        "        divisor = remainder\n",
        "    return abs(dividend)  #  abs() is used, since we like our GCDs to be positive."
      ],
      "execution_count": null,
      "outputs": []
    },
    {
      "cell_type": "markdown",
      "metadata": {
        "id": "6mT_AhwvwBYT"
      },
      "source": [
        "Note that the `return dividend` statement occurs *after* the scope of the while loop.  So as soon as the *divisor* variable equals zero, the funtion `GCD` returns the *dividend* variable and terminates."
      ]
    },
    {
      "cell_type": "code",
      "metadata": {
        "id": "ET_g6ArgwBYT",
        "colab": {
          "base_uri": "https://localhost:8080/"
        },
        "outputId": "31e8f9a1-ad9e-486f-c503-bc655d03fe6b"
      },
      "source": [
        "GCD(111,27)"
      ],
      "execution_count": null,
      "outputs": [
        {
          "output_type": "execute_result",
          "data": {
            "text/plain": [
              "3"
            ]
          },
          "metadata": {
            "tags": []
          },
          "execution_count": 15
        }
      ]
    },
    {
      "cell_type": "code",
      "metadata": {
        "id": "_fDCnzzcwBYT",
        "colab": {
          "base_uri": "https://localhost:8080/"
        },
        "outputId": "026d8d09-8514-4254-a2bc-97694c0ea87b"
      },
      "source": [
        "GCD(111,-27)"
      ],
      "execution_count": null,
      "outputs": [
        {
          "output_type": "execute_result",
          "data": {
            "text/plain": [
              "3"
            ]
          },
          "metadata": {
            "tags": []
          },
          "execution_count": 16
        }
      ]
    },
    {
      "cell_type": "markdown",
      "metadata": {
        "id": "Nde6ihXDwBYT"
      },
      "source": [
        "We can refine our code in a few ways.  First, note that the `quotient` variable is never used!  It was nice in the verbose version of the Euclidean algorithm, but plays no role in finding the GCD.  Our refined code reads\n",
        "```python\n",
        "def GCD(a,b):\n",
        "    dividend = a  \n",
        "    divisor = b  \n",
        "    while divisor != 0:   # Recall that != means \"not equal to\".\n",
        "        remainder = dividend % divisor\n",
        "        dividend = divisor  \n",
        "        divisor = remainder\n",
        "    return abs(dividend) \n",
        "```"
      ]
    },
    {
      "cell_type": "markdown",
      "metadata": {
        "id": "05G89T2RwBYT"
      },
      "source": [
        "Now there are two slick Python tricks we can use to shorten the code.  The first is called **multiple assignment**.  It is possible to set the values of two variables in a single line of code, with a syntax like below."
      ]
    },
    {
      "cell_type": "code",
      "metadata": {
        "id": "7UWbcL7xwBYT"
      },
      "source": [
        "x,y = 2,3  # Sets x to 2 and y to 3."
      ],
      "execution_count": null,
      "outputs": []
    },
    {
      "cell_type": "markdown",
      "metadata": {
        "id": "9jcmyvyBwBYT"
      },
      "source": [
        "This is particular useful for self-referential assignments, because as for ordinary assignment, the right side is evaluated first and then bound to the variables on the left side.  For example, after the line above, try the line below.  Use print statements to see what the values of the variables are afterwards!"
      ]
    },
    {
      "cell_type": "code",
      "metadata": {
        "id": "ThwPrqKywBYU"
      },
      "source": [
        "x,y = y,x #  Guess what this does!"
      ],
      "execution_count": null,
      "outputs": []
    },
    {
      "cell_type": "code",
      "metadata": {
        "id": "amNo5G3BwBYU",
        "colab": {
          "base_uri": "https://localhost:8080/"
        },
        "outputId": "8d5f40d3-f3e4-42f7-9b5f-82542feec905"
      },
      "source": [
        "print(\"x =\",x) # One could use \"x = {}\".format(x) too.\n",
        "print(\"y =\",y)"
      ],
      "execution_count": null,
      "outputs": [
        {
          "output_type": "stream",
          "text": [
            "x = 3\n",
            "y = 2\n"
          ],
          "name": "stdout"
        }
      ]
    },
    {
      "cell_type": "markdown",
      "metadata": {
        "id": "_C8-GTxXwBYU"
      },
      "source": [
        "Now we can use multiple assignment to turn three lines of code into one line of code.  For the `remainder` variable is only used temporarily before its value is given to the `divisor` variable.  Using multiple assignment, the three lines\n",
        "```python\n",
        "    remainder = dividend % divisor\n",
        "    dividend = divisor  \n",
        "    divisor = remainder\n",
        "```\n",
        "can be written in one line,\n",
        "```python\n",
        "    dividend, divisor = divisor, dividend % divisor # Evaluations on the right occur before any assignments!\n",
        "```"
      ]
    },
    {
      "cell_type": "markdown",
      "metadata": {
        "id": "gjAb4EEgwBYU"
      },
      "source": [
        "Our newly shortened GCD function looks like this.\n",
        "```python\n",
        "def GCD(a,b):\n",
        "    dividend = a  \n",
        "    divisor = b  \n",
        "    while divisor != 0:   # Recall that != means \"not equal to\".\n",
        "        dividend, divisor = divisor, dividend % divisor\n",
        "    return abs(dividend)\n",
        "```"
      ]
    },
    {
      "cell_type": "markdown",
      "metadata": {
        "id": "khU4HTv2wBYU"
      },
      "source": [
        "The next trick involves the while loop.  The usual syntax has the form `while <boolean>:`.  But if `while` is followed by a numerical type, e.g. `while <int>:`, then the scope of the while loop will execute as long as the number is nonzero!  Therefore, the line\n",
        "```python\n",
        "while divisor != 0:\n",
        "```\n",
        "can be replaced by the shorter line\n",
        "```python\n",
        "while divisor:\n",
        "```\n",
        "\n",
        "This is truly a trick.  It probably won't speed anything up, and it does not make your program easier to read for beginners.  So use it if you prefer communicating with experienced Python programmers!  Here is the whole function again.\n",
        "```python\n",
        "def GCD(a,b):\n",
        "    dividend = a  \n",
        "    divisor = b  \n",
        "    while divisor:   # Executes the scope if divisor is nonzero.\n",
        "        dividend, divisor = divisor, dividend % divisor\n",
        "    return abs(dividend)\n",
        "```"
      ]
    },
    {
      "cell_type": "markdown",
      "metadata": {
        "id": "GTOc7FJiwBYU"
      },
      "source": [
        "The next optimization is a bit more dangerous for beginners, but it works here.  In general, it can be dangerous to operate directly on the arguments to a function.  But in this setting, it is safe, and makes no real difference to the Python interpreter.  Instead of creating new variables called `dividend` and `divisor`, one can manipulate `a` and `b` directly within the function.  If you do this, the GCD function can be shortened to the following."
      ]
    },
    {
      "cell_type": "code",
      "metadata": {
        "id": "EvKz9uv5wBYU"
      },
      "source": [
        "def GCD(a,b):\n",
        "    while b:   # I.e., while b != 0.\n",
        "        a, b = b, a % b\n",
        "    return abs(a)"
      ],
      "execution_count": null,
      "outputs": []
    },
    {
      "cell_type": "code",
      "metadata": {
        "id": "FWoMkOBGwBYU"
      },
      "source": [
        "# Try it out.  Try it on some big numbers and see how quick it runs!\n"
      ],
      "execution_count": null,
      "outputs": []
    },
    {
      "cell_type": "markdown",
      "metadata": {
        "id": "0Ze3P2rAwBYU"
      },
      "source": [
        "This code is essentially optimal, if one wishes to execute the Euclidean algorithm to find the GCD of two integers.  It almost [matches the GCD code in a standard Python library](https://stackoverflow.com/a/18944210).  It might be slightly faster than our original code -- but there is a tradeoff here between execution speed and readability of code.  In this and the following lessons, we often optimize enough for everyday purposes, but not so much that readability is lost."
      ]
    },
    {
      "cell_type": "markdown",
      "metadata": {
        "id": "83bjwnbJwBYV"
      },
      "source": [
        "### Exercises and explorations\n",
        "\n",
        "1.  Modify the `is_prime` function by using a while loop instead of `for j in range(2,n):`.  Hint:  the function should contain the lines `j = 2` and `while j < n:` and `j = j + 1` in various places.  Why might this be an improvement from the for loop?  Can you look for factors within a smaller range?\n",
        "\n",
        "2.  Modify the `Euclidean_algorithm` function to create a function which returns the *number of steps* that the Euclidean algorithm requires, i.e., the number of divisions-with-remainder.  How does the number of steps compare to the size of the input numbers?  \n",
        "\n",
        "3.  When $a$ and $b$ are integers, $GCD(a,b) \\cdot LCM(a,b) = ab$.  Use this fact to write an LCM-function.  Try to make your function output only integers (not floats) and behave in a good way even if $a,b$ are zero.\n",
        "\n",
        "4.  How does the `GCD(a,b)` function behave when `a` and/or `b` are zero or negative?  Is this good?\n",
        "\n",
        "5.  Challenge:  Write a function `approximate_e(n)` which approximates $e$ with a maximum error of $10^{-n}$.  (You can assume $n < 1000$ if necessary.)  Try a while loop and `import mpmath`.  Back up your work often! "
      ]
    },
    {
      "cell_type": "markdown",
      "metadata": {
        "id": "ecOiyOHO00w9"
      },
      "source": [
        "#### 1\n",
        "Modify the `is_prime` function by using a while loop instead of `for j in range(2,n):`.  Hint:  the function should contain the lines `j = 2` and `while j < n:` and `j = j + 1` in various places.  Why might this be an improvement from the for loop?  Can you look for factors within a smaller range?"
      ]
    },
    {
      "cell_type": "code",
      "metadata": {
        "id": "91TvuBvA67zt"
      },
      "source": [
        "def is_prime(n):\n",
        "  j = 2            # every number divide by 1 is itself, so we start with 2.\n",
        "  while j < n:     # j < n so we can test if there is a remainder.\n",
        "    if n % j == 0: # if n / j does not have a remainder, j is a factor of n\n",
        "      print(\"{} is a factor of {}.\".format(j,n))\n",
        "      j = j + 1    # to make sure it run for every number.\n",
        "      return False\n",
        "    return True\n",
        "'''\n",
        "when we change the is_prime function by using while loop instead of for j in a\n",
        "range (2,n), it siplified the function and the testing number of n decreasing.\n",
        "'''\n"
      ],
      "execution_count": null,
      "outputs": []
    },
    {
      "cell_type": "code",
      "metadata": {
        "colab": {
          "base_uri": "https://localhost:8080/"
        },
        "id": "vE2K9I5M7zob",
        "outputId": "b519706c-ef83-4fda-c63c-aa6f3e3ef903"
      },
      "source": [
        "is_prime(7)"
      ],
      "execution_count": null,
      "outputs": [
        {
          "output_type": "execute_result",
          "data": {
            "text/plain": [
              "True"
            ]
          },
          "metadata": {
            "tags": []
          },
          "execution_count": 25
        }
      ]
    },
    {
      "cell_type": "code",
      "metadata": {
        "colab": {
          "base_uri": "https://localhost:8080/"
        },
        "id": "SstugCY88FoM",
        "outputId": "3f4584fa-d211-43ce-bd9c-d2579c909fe5"
      },
      "source": [
        "is_prime(8)"
      ],
      "execution_count": null,
      "outputs": [
        {
          "output_type": "stream",
          "text": [
            "2 is a factor of 8.\n"
          ],
          "name": "stdout"
        },
        {
          "output_type": "execute_result",
          "data": {
            "text/plain": [
              "False"
            ]
          },
          "metadata": {
            "tags": []
          },
          "execution_count": 36
        }
      ]
    },
    {
      "cell_type": "markdown",
      "metadata": {
        "id": "riJuxbbi05TE"
      },
      "source": [
        "#### 2\n",
        "Modify the `Euclidean_algorithm` function to create a function which returns the *number of steps* that the Euclidean algorithm requires, i.e., the number of divisions-with-remainder.  How does the number of steps compare to the size of the input numbers? "
      ]
    },
    {
      "cell_type": "code",
      "metadata": {
        "id": "JiGLKlCOUbNz"
      },
      "source": [
        "def Euclidean_algorithm(a,b):\n",
        "    dividend = a\n",
        "    divisor = b\n",
        "    count = 0 \n",
        "    while divisor != 0:   # Recall that != means \"is not equal to\".\n",
        "        quotient = dividend // divisor\n",
        "        remainder = dividend % divisor\n",
        "        \n",
        "        dividend = divisor  \n",
        "        divisor = remainder\n",
        "        count += 1 # to count every steps\n",
        "    return count\n",
        "# I noticed that usually the bigger the number, the more the number of steps."
      ],
      "execution_count": null,
      "outputs": []
    },
    {
      "cell_type": "code",
      "metadata": {
        "colab": {
          "base_uri": "https://localhost:8080/"
        },
        "id": "lx79rwMGVJIe",
        "outputId": "cb999c90-1994-41b0-ef04-26d7bd79eaf6"
      },
      "source": [
        "Euclidean_algorithm(133, 58) "
      ],
      "execution_count": null,
      "outputs": [
        {
          "output_type": "execute_result",
          "data": {
            "text/plain": [
              "5"
            ]
          },
          "metadata": {
            "tags": []
          },
          "execution_count": 27
        }
      ]
    },
    {
      "cell_type": "code",
      "metadata": {
        "colab": {
          "base_uri": "https://localhost:8080/"
        },
        "id": "yIyQk8NUXV5c",
        "outputId": "adf4214a-e840-4ddf-e7cd-0b3f04bae272"
      },
      "source": [
        "Euclidean_algorithm(12345, 8375) "
      ],
      "execution_count": null,
      "outputs": [
        {
          "output_type": "execute_result",
          "data": {
            "text/plain": [
              "6"
            ]
          },
          "metadata": {
            "tags": []
          },
          "execution_count": 28
        }
      ]
    },
    {
      "cell_type": "code",
      "metadata": {
        "colab": {
          "base_uri": "https://localhost:8080/"
        },
        "id": "TzF_LSrHXkII",
        "outputId": "e7300ff4-0dc6-40d6-80e4-17f7275f8317"
      },
      "source": [
        "Euclidean_algorithm(1234567890, 4567890) "
      ],
      "execution_count": null,
      "outputs": [
        {
          "output_type": "execute_result",
          "data": {
            "text/plain": [
              "11"
            ]
          },
          "metadata": {
            "tags": []
          },
          "execution_count": 29
        }
      ]
    },
    {
      "cell_type": "markdown",
      "metadata": {
        "id": "IccGdf_i1A3q"
      },
      "source": [
        "#### 3\n",
        "When $a$ and $b$ are integers, $GCD(a,b) \\cdot LCM(a,b) = ab$.  Use this fact to write an LCM-function.  Try to make your function output only integers (not floats) and behave in a good way even if $a,b$ are zero."
      ]
    },
    {
      "cell_type": "code",
      "metadata": {
        "id": "-PDC7KE1YC6O"
      },
      "source": [
        "# function of LCM(a,b)\n",
        "def LCM(a,b):\n",
        "  if (a == 0) or (b == 0): \n",
        "    print('if a and/or b are zero, LCM does not exist')\n",
        "    return None\n",
        "  dividend = a\n",
        "  divisor = b\n",
        "  while divisor != 0:\n",
        "    dividend, divisor = divisor, dividend % divisor\n",
        "    c = dividend\n",
        "  lcm = a * b / c\n",
        "  return abs(int(lcm))\n"
      ],
      "execution_count": 45,
      "outputs": []
    },
    {
      "cell_type": "code",
      "metadata": {
        "colab": {
          "base_uri": "https://localhost:8080/"
        },
        "id": "UJN7nqFKeG4U",
        "outputId": "61c54fdb-019a-4d42-a9af-b86bb54311e5"
      },
      "source": [
        "LCM(3,0)"
      ],
      "execution_count": null,
      "outputs": [
        {
          "output_type": "stream",
          "text": [
            "if a and/or b are zero, LCM does not exist\n"
          ],
          "name": "stdout"
        }
      ]
    },
    {
      "cell_type": "code",
      "metadata": {
        "colab": {
          "base_uri": "https://localhost:8080/"
        },
        "id": "K991PGyagY8E",
        "outputId": "afecc87a-ec94-40bf-b680-99f13e0bd9a8"
      },
      "source": [
        "LCM(12,24)"
      ],
      "execution_count": null,
      "outputs": [
        {
          "output_type": "execute_result",
          "data": {
            "text/plain": [
              "24"
            ]
          },
          "metadata": {
            "tags": []
          },
          "execution_count": 76
        }
      ]
    },
    {
      "cell_type": "markdown",
      "metadata": {
        "id": "Ou1G_THB1FmY"
      },
      "source": [
        "#### 4\n",
        "How does the `GCD(a,b)` function behave when `a` and/or `b` are zero or negative?  Is this good?"
      ]
    },
    {
      "cell_type": "code",
      "metadata": {
        "id": "f0qgwg9BREZg"
      },
      "source": [
        "def GCD(a,b):\n",
        "    dividend = a # The first dividend is a.\n",
        "    divisor = b # The first divisor is b.\n",
        "    while divisor != 0:   # Recall that != means \"not equal to\".\n",
        "        quotient = dividend // divisor\n",
        "        remainder = dividend % divisor\n",
        "        dividend = divisor  \n",
        "        divisor = remainder\n",
        "    return abs(dividend)  #  abs() is used, since we like our GCDs to be positive."
      ],
      "execution_count": null,
      "outputs": []
    },
    {
      "cell_type": "code",
      "metadata": {
        "colab": {
          "base_uri": "https://localhost:8080/"
        },
        "id": "PcWCILgsRJge",
        "outputId": "f69d4b8d-4847-4e0c-867d-162b2c69a787"
      },
      "source": [
        "GCD(0,-12)"
      ],
      "execution_count": null,
      "outputs": [
        {
          "output_type": "execute_result",
          "data": {
            "text/plain": [
              "12"
            ]
          },
          "metadata": {
            "tags": []
          },
          "execution_count": 42
        }
      ]
    },
    {
      "cell_type": "code",
      "metadata": {
        "colab": {
          "base_uri": "https://localhost:8080/"
        },
        "id": "RydJAu9jRS8K",
        "outputId": "b8e43817-3109-4e95-896f-9840ffef13c6"
      },
      "source": [
        "GCD(-6,-12)"
      ],
      "execution_count": null,
      "outputs": [
        {
          "output_type": "execute_result",
          "data": {
            "text/plain": [
              "6"
            ]
          },
          "metadata": {
            "tags": []
          },
          "execution_count": 39
        }
      ]
    },
    {
      "cell_type": "code",
      "metadata": {
        "colab": {
          "base_uri": "https://localhost:8080/"
        },
        "id": "oCrwQK0ARWFg",
        "outputId": "6480fde4-72f4-48f6-d1d0-6ae57ea8711f"
      },
      "source": [
        "GCD(-6,12)"
      ],
      "execution_count": null,
      "outputs": [
        {
          "output_type": "execute_result",
          "data": {
            "text/plain": [
              "6"
            ]
          },
          "metadata": {
            "tags": []
          },
          "execution_count": 40
        }
      ]
    },
    {
      "cell_type": "markdown",
      "metadata": {
        "id": "X_-aSAHmRz4t"
      },
      "source": [
        "When `a` and/or `b` are zero or negative, the output would also be a positive number since the function set `return abs(dividend)`. Both conditions are good."
      ]
    },
    {
      "cell_type": "markdown",
      "metadata": {
        "id": "OlkC0jbd1Jlt"
      },
      "source": [
        "#### 5\n",
        "Challenge:  Write a function `approximate_e(n)` which approximates $e$ with a maximum error of $10^{-n}$.  (You can assume $n < 1000$ if necessary.)  Try a while loop and `import mpmath`.  Back up your work often! "
      ]
    },
    {
      "cell_type": "code",
      "metadata": {
        "colab": {
          "base_uri": "https://localhost:8080/"
        },
        "id": "wCvI5F1bib92",
        "outputId": "12a5aa99-d5b1-4e0f-c5ed-97148d188e62"
      },
      "source": [
        "from mpmath import *\n",
        "mp.dps = 999\n",
        "def approximate_e(n):\n",
        "  i = 1   #count times\n",
        "  a_e = 1 #approximate_e\n",
        "  frac = 1 #fractorial\n",
        "  max_error = abs(e - a_e) #define maximum error \n",
        "  while max_error >= 10**(-n): #if max_error < 10^-n, the loop ends. if max_error >= 10^-n we need to continue.\n",
        "    frac *= i\n",
        "    a_e += 1/frac\n",
        "    i += 1\n",
        "    max_error = abs(e - a_e)\n",
        "  print(max_error)  \n",
        "  print(a_e)     \n",
        "\n",
        "approximate_e(10)"
      ],
      "execution_count": null,
      "outputs": [
        {
          "output_type": "stream",
          "text": [
            "0.0000000000122858725551911552013415634615927968249595749669676277240766303535475945713821785251664274274663919320030599218174135966290435729003342952605956307381323286279434907632338298807531952510190115738341879307021540891499348841675092447614606680822648001684774118537423454424371075390777449920695517027618386062613313845830007520449338265602976067371132007093287091274437470472306969772093101416928368190255151086574637721112523897844250569536967707854499699679468644549059879316368892300987931277361782154249992295763514822082698951936680331825288693984964651058209392398294887933203625094431173012381970684161403970198376793206832823764648042953118023287825098194558153017567173613320698112509961818815930416903515988885193458072738667385894228792284998920868058257492796104841984443634632449684875602336248270419786232090021609902353043699418491463140934317381436405462531520961836908887070167683964243781405927145635490613031072085103837505101157477041718986106873969655212671546889570350353371476609\n",
            "2.7182818284467594\n"
          ],
          "name": "stdout"
        }
      ]
    }
  ]
}